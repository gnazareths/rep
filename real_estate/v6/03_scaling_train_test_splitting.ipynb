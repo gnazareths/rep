{
 "cells": [
  {
   "cell_type": "code",
   "execution_count": 1,
   "metadata": {
    "collapsed": false
   },
   "outputs": [],
   "source": [
    "import pandas as pd\n",
    "import matplotlib.pyplot as plt\n",
    "\n",
    "from helpers import *\n",
    "from sklearn.preprocessing import MinMaxScaler, StandardScaler\n",
    "from sklearn.externals import joblib\n",
    "from sklearn.model_selection import train_test_split\n",
    "\n",
    "% matplotlib inline"
   ]
  },
  {
   "cell_type": "code",
   "execution_count": 2,
   "metadata": {
    "collapsed": false
   },
   "outputs": [],
   "source": [
    "# Import\n",
    "df = pd.read_csv(\"~/real_estate/data/v6/yelp_supervised_df.csv\")"
   ]
  },
  {
   "cell_type": "code",
   "execution_count": 3,
   "metadata": {
    "collapsed": false
   },
   "outputs": [],
   "source": [
    "current_time_features = [\n",
    "    \"90_day_treasury_bill_rate\", \"adult_count_lag\", \"bar_review_count\", \"coffee_review_count\", \n",
    "    \"mean_adjusted_income_lag\", \"mean_adjusted_income_with_dep_lag\", \"mean_fixed_mortgage_rate\",\n",
    "    \"mean_hourly_earnings_adj\", \"mean_mortgage_interest_hh_lag\", \"mean_rating\", \"mean_real_estate_taxes_hh_lag\",\n",
    "    \"median_sqft_value\", \"people_count_lag\", \"percent_decreasing\", \"percent_increasing\", \n",
    "    \"price_2_review_count\", \"price_3_review_count\", \"restaurant_review_count\", \"review_count\", \n",
    "    \"total_nonfarm_payroll\", \"zhvi_singlefam\", \"zri_sqft_value\", \"zhvi_condo\"\n",
    "]\n",
    "\n",
    "target = \"zhvi_condo_12_months\""
   ]
  },
  {
   "cell_type": "code",
   "execution_count": 4,
   "metadata": {
    "collapsed": false
   },
   "outputs": [],
   "source": [
    "for i in current_time_features:\n",
    "    mo = i+\"_mo\"\n",
    "    yr = i+\"_yr\"\n",
    "    change_mo = (df[i] + 0.1)/(df[mo] + 0.1) - 1\n",
    "    change_yr = (df[i] + 0.1)/(df[yr] + 0.1) - 1\n",
    "    df[mo] = change_mo\n",
    "    df[yr] = change_yr\n",
    "\n",
    "df[target] = df[target]/df[\"zhvi_condo\"] - 1"
   ]
  },
  {
   "cell_type": "code",
   "execution_count": 5,
   "metadata": {
    "collapsed": false
   },
   "outputs": [],
   "source": [
    "log_columns = [\"median_sqft_value\",\"zri_sqft_value\",\"zhvi_condo\",\"zhvi_singlefam\",\"people_count_lag\",\n",
    "               \"adult_count_lag\",\"mean_adjusted_income_lag\",\"mean_adjusted_income_with_dep_lag\",\n",
    "               \"mean_real_estate_taxes_hh_lag\",\"mean_mortgage_interest_hh_lag\"]\n",
    "\n",
    "for i in log_columns:\n",
    "    df[i] = log_with_zeros(df[i].values)\n",
    "    df = df.rename(columns={i:i+\"_log\"})"
   ]
  },
  {
   "cell_type": "code",
   "execution_count": 6,
   "metadata": {
    "collapsed": true
   },
   "outputs": [],
   "source": [
    "columns = ['postal_code','90_day_treasury_bill_rate','mean_adjusted_income_lag_log', \n",
    " 'mean_adjusted_income_with_dep_lag_log', 'mean_fixed_mortgage_rate', \n",
    " 'mean_hourly_earnings_adj', 'mean_mortgage_interest_hh_lag_log', 'mean_rating', 'mean_real_estate_taxes_hh_lag_log', \n",
    " 'median_sqft_value_log', 'month', 'people_count_lag_log', 'percent_decreasing', 'percent_increasing', \n",
    " 'price_2_review_count', 'price_3_review_count', 'restaurant_review_count', 'review_count', 'total_nonfarm_payroll', \n",
    " 'year', 'zhvi_condo_log', 'zhvi_singlefam_log', \n",
    " 'zri_sqft_value_log', 'adult_count_lag_mo', 'bar_review_count_mo', 'mean_mortgage_interest_hh_lag_mo', \n",
    " 'mean_fixed_mortgage_rate_mo', 'percent_decreasing_mo', 'zhvi_singlefam_mo', 'mean_adjusted_income_with_dep_lag_mo', \n",
    " 'restaurant_review_count_mo', 'zri_sqft_value_mo', 'percent_increasing_mo', \n",
    " '90_day_treasury_bill_rate_mo', 'total_nonfarm_payroll_mo', 'mean_adjusted_income_lag_mo', \n",
    " 'mean_real_estate_taxes_hh_lag_mo', 'mean_hourly_earnings_adj_mo', 'review_count_mo', 'mean_rating_mo', \n",
    " 'people_count_lag_mo', 'price_3_review_count_mo', 'zhvi_condo_mo', 'coffee_review_count_mo', 'median_sqft_value_mo', \n",
    " 'price_2_review_count_mo', 'percent_decreasing_yr', 'coffee_review_count_yr', \n",
    " 'price_3_review_count_yr', 'price_2_review_count_yr', 'percent_increasing_yr', 'adult_count_lag_yr', \n",
    " 'mean_fixed_mortgage_rate_yr', 'mean_adjusted_income_lag_yr', 'zhvi_singlefam_yr', 'zri_sqft_value_yr', \n",
    " 'restaurant_review_count_yr', 'zhvi_condo_yr', 'mean_mortgage_interest_hh_lag_yr', 'total_nonfarm_payroll_yr', \n",
    " 'people_count_lag_yr', 'review_count_yr', 'mean_hourly_earnings_adj_yr', 'mean_rating_yr', \n",
    " 'bar_review_count_yr', 'median_sqft_value_yr', '90_day_treasury_bill_rate_yr', 'mean_real_estate_taxes_hh_lag_yr', \n",
    " 'mean_adjusted_income_with_dep_lag_yr', 'zhvi_condo_12_months']\n",
    "\n",
    "df = df[columns]"
   ]
  },
  {
   "cell_type": "code",
   "execution_count": 7,
   "metadata": {
    "collapsed": true
   },
   "outputs": [],
   "source": [
    "train_df = df.loc[df[\"year\"] < 2017]\n",
    "test_df = df.loc[df[\"year\"] == 2017]\n",
    "\n",
    "features = df.columns[1:-1]\n",
    "target = \"zhvi_condo_12_months\""
   ]
  },
  {
   "cell_type": "code",
   "execution_count": 8,
   "metadata": {
    "collapsed": false
   },
   "outputs": [
    {
     "data": {
      "text/html": [
       "<div>\n",
       "<style scoped>\n",
       "    .dataframe tbody tr th:only-of-type {\n",
       "        vertical-align: middle;\n",
       "    }\n",
       "\n",
       "    .dataframe tbody tr th {\n",
       "        vertical-align: top;\n",
       "    }\n",
       "\n",
       "    .dataframe thead th {\n",
       "        text-align: right;\n",
       "    }\n",
       "</style>\n",
       "<table border=\"1\" class=\"dataframe\">\n",
       "  <thead>\n",
       "    <tr style=\"text-align: right;\">\n",
       "      <th></th>\n",
       "      <th>postal_code</th>\n",
       "      <th>90_day_treasury_bill_rate</th>\n",
       "      <th>mean_adjusted_income_lag_log</th>\n",
       "      <th>mean_adjusted_income_with_dep_lag_log</th>\n",
       "      <th>mean_fixed_mortgage_rate</th>\n",
       "      <th>mean_hourly_earnings_adj</th>\n",
       "      <th>mean_mortgage_interest_hh_lag_log</th>\n",
       "      <th>mean_rating</th>\n",
       "      <th>mean_real_estate_taxes_hh_lag_log</th>\n",
       "      <th>median_sqft_value_log</th>\n",
       "      <th>...</th>\n",
       "      <th>people_count_lag_yr</th>\n",
       "      <th>review_count_yr</th>\n",
       "      <th>mean_hourly_earnings_adj_yr</th>\n",
       "      <th>mean_rating_yr</th>\n",
       "      <th>bar_review_count_yr</th>\n",
       "      <th>median_sqft_value_yr</th>\n",
       "      <th>90_day_treasury_bill_rate_yr</th>\n",
       "      <th>mean_real_estate_taxes_hh_lag_yr</th>\n",
       "      <th>mean_adjusted_income_with_dep_lag_yr</th>\n",
       "      <th>zhvi_condo_12_months</th>\n",
       "    </tr>\n",
       "  </thead>\n",
       "  <tbody>\n",
       "    <tr>\n",
       "      <th>0</th>\n",
       "      <td>2109</td>\n",
       "      <td>0.13</td>\n",
       "      <td>5.204049</td>\n",
       "      <td>5.045558</td>\n",
       "      <td>4.9525</td>\n",
       "      <td>22.87</td>\n",
       "      <td>1.580677</td>\n",
       "      <td>5.00</td>\n",
       "      <td>1.405052</td>\n",
       "      <td>6.318968</td>\n",
       "      <td>...</td>\n",
       "      <td>0.058382</td>\n",
       "      <td>0.909091</td>\n",
       "      <td>0.018174</td>\n",
       "      <td>0.00000</td>\n",
       "      <td>0.0</td>\n",
       "      <td>-0.048019</td>\n",
       "      <td>0.095238</td>\n",
       "      <td>0.008735</td>\n",
       "      <td>-0.260296</td>\n",
       "      <td>0.009221</td>\n",
       "    </tr>\n",
       "    <tr>\n",
       "      <th>1</th>\n",
       "      <td>2109</td>\n",
       "      <td>0.10</td>\n",
       "      <td>5.204049</td>\n",
       "      <td>5.045558</td>\n",
       "      <td>4.8360</td>\n",
       "      <td>22.87</td>\n",
       "      <td>1.580677</td>\n",
       "      <td>5.00</td>\n",
       "      <td>1.405052</td>\n",
       "      <td>6.320768</td>\n",
       "      <td>...</td>\n",
       "      <td>0.058382</td>\n",
       "      <td>0.909091</td>\n",
       "      <td>0.018174</td>\n",
       "      <td>0.00000</td>\n",
       "      <td>0.0</td>\n",
       "      <td>-0.049564</td>\n",
       "      <td>-0.200000</td>\n",
       "      <td>0.008735</td>\n",
       "      <td>-0.260296</td>\n",
       "      <td>0.011148</td>\n",
       "    </tr>\n",
       "    <tr>\n",
       "      <th>2</th>\n",
       "      <td>2109</td>\n",
       "      <td>0.06</td>\n",
       "      <td>5.204049</td>\n",
       "      <td>5.045558</td>\n",
       "      <td>4.8400</td>\n",
       "      <td>22.92</td>\n",
       "      <td>1.580677</td>\n",
       "      <td>5.00</td>\n",
       "      <td>1.405052</td>\n",
       "      <td>6.327937</td>\n",
       "      <td>...</td>\n",
       "      <td>0.058382</td>\n",
       "      <td>1.818182</td>\n",
       "      <td>0.018584</td>\n",
       "      <td>0.00000</td>\n",
       "      <td>0.0</td>\n",
       "      <td>-0.037794</td>\n",
       "      <td>-0.384615</td>\n",
       "      <td>0.008735</td>\n",
       "      <td>-0.260296</td>\n",
       "      <td>0.013040</td>\n",
       "    </tr>\n",
       "    <tr>\n",
       "      <th>3</th>\n",
       "      <td>2109</td>\n",
       "      <td>0.04</td>\n",
       "      <td>5.204049</td>\n",
       "      <td>5.045558</td>\n",
       "      <td>4.6375</td>\n",
       "      <td>22.99</td>\n",
       "      <td>1.580677</td>\n",
       "      <td>4.75</td>\n",
       "      <td>1.405052</td>\n",
       "      <td>6.335054</td>\n",
       "      <td>...</td>\n",
       "      <td>0.058382</td>\n",
       "      <td>0.952381</td>\n",
       "      <td>0.020327</td>\n",
       "      <td>-0.04902</td>\n",
       "      <td>0.0</td>\n",
       "      <td>-0.024217</td>\n",
       "      <td>-0.461538</td>\n",
       "      <td>0.008735</td>\n",
       "      <td>-0.260296</td>\n",
       "      <td>0.015713</td>\n",
       "    </tr>\n",
       "    <tr>\n",
       "      <th>4</th>\n",
       "      <td>2109</td>\n",
       "      <td>0.04</td>\n",
       "      <td>5.204049</td>\n",
       "      <td>5.045558</td>\n",
       "      <td>4.5100</td>\n",
       "      <td>23.01</td>\n",
       "      <td>1.580677</td>\n",
       "      <td>4.75</td>\n",
       "      <td>1.405052</td>\n",
       "      <td>6.335054</td>\n",
       "      <td>...</td>\n",
       "      <td>0.058382</td>\n",
       "      <td>0.952381</td>\n",
       "      <td>0.021211</td>\n",
       "      <td>-0.04902</td>\n",
       "      <td>0.0</td>\n",
       "      <td>-0.024217</td>\n",
       "      <td>-0.461538</td>\n",
       "      <td>0.008735</td>\n",
       "      <td>-0.260296</td>\n",
       "      <td>0.011006</td>\n",
       "    </tr>\n",
       "  </tbody>\n",
       "</table>\n",
       "<p>5 rows × 70 columns</p>\n",
       "</div>"
      ],
      "text/plain": [
       "   postal_code  90_day_treasury_bill_rate  mean_adjusted_income_lag_log  \\\n",
       "0         2109                       0.13                      5.204049   \n",
       "1         2109                       0.10                      5.204049   \n",
       "2         2109                       0.06                      5.204049   \n",
       "3         2109                       0.04                      5.204049   \n",
       "4         2109                       0.04                      5.204049   \n",
       "\n",
       "   mean_adjusted_income_with_dep_lag_log  mean_fixed_mortgage_rate  \\\n",
       "0                               5.045558                    4.9525   \n",
       "1                               5.045558                    4.8360   \n",
       "2                               5.045558                    4.8400   \n",
       "3                               5.045558                    4.6375   \n",
       "4                               5.045558                    4.5100   \n",
       "\n",
       "   mean_hourly_earnings_adj  mean_mortgage_interest_hh_lag_log  mean_rating  \\\n",
       "0                     22.87                           1.580677         5.00   \n",
       "1                     22.87                           1.580677         5.00   \n",
       "2                     22.92                           1.580677         5.00   \n",
       "3                     22.99                           1.580677         4.75   \n",
       "4                     23.01                           1.580677         4.75   \n",
       "\n",
       "   mean_real_estate_taxes_hh_lag_log  median_sqft_value_log  \\\n",
       "0                           1.405052               6.318968   \n",
       "1                           1.405052               6.320768   \n",
       "2                           1.405052               6.327937   \n",
       "3                           1.405052               6.335054   \n",
       "4                           1.405052               6.335054   \n",
       "\n",
       "           ...           people_count_lag_yr  review_count_yr  \\\n",
       "0          ...                      0.058382         0.909091   \n",
       "1          ...                      0.058382         0.909091   \n",
       "2          ...                      0.058382         1.818182   \n",
       "3          ...                      0.058382         0.952381   \n",
       "4          ...                      0.058382         0.952381   \n",
       "\n",
       "   mean_hourly_earnings_adj_yr  mean_rating_yr  bar_review_count_yr  \\\n",
       "0                     0.018174         0.00000                  0.0   \n",
       "1                     0.018174         0.00000                  0.0   \n",
       "2                     0.018584         0.00000                  0.0   \n",
       "3                     0.020327        -0.04902                  0.0   \n",
       "4                     0.021211        -0.04902                  0.0   \n",
       "\n",
       "   median_sqft_value_yr  90_day_treasury_bill_rate_yr  \\\n",
       "0             -0.048019                      0.095238   \n",
       "1             -0.049564                     -0.200000   \n",
       "2             -0.037794                     -0.384615   \n",
       "3             -0.024217                     -0.461538   \n",
       "4             -0.024217                     -0.461538   \n",
       "\n",
       "   mean_real_estate_taxes_hh_lag_yr  mean_adjusted_income_with_dep_lag_yr  \\\n",
       "0                          0.008735                             -0.260296   \n",
       "1                          0.008735                             -0.260296   \n",
       "2                          0.008735                             -0.260296   \n",
       "3                          0.008735                             -0.260296   \n",
       "4                          0.008735                             -0.260296   \n",
       "\n",
       "   zhvi_condo_12_months  \n",
       "0              0.009221  \n",
       "1              0.011148  \n",
       "2              0.013040  \n",
       "3              0.015713  \n",
       "4              0.011006  \n",
       "\n",
       "[5 rows x 70 columns]"
      ]
     },
     "execution_count": 8,
     "metadata": {},
     "output_type": "execute_result"
    }
   ],
   "source": [
    "df.head()"
   ]
  },
  {
   "cell_type": "code",
   "execution_count": 9,
   "metadata": {
    "collapsed": false
   },
   "outputs": [],
   "source": [
    "# MinMax scale df\n",
    "scaler = MinMaxScaler()\n",
    "scaler.fit(train_df[features].values)\n",
    "\n",
    "train_df_scaled = scaler.transform(train_df[features].values)\n",
    "train_df_scaled = pd.DataFrame(train_df_scaled, columns=features)\n",
    "train_df_scaled[\"target\"] = train_df[target].values\n",
    "train_df_scaled[\"postal_code\"] = train_df[\"postal_code\"].values\n",
    "\n",
    "test_df_scaled = scaler.transform(test_df[features].values)\n",
    "test_df_scaled = pd.DataFrame(test_df_scaled, columns=features)\n",
    "test_df_scaled[\"target\"] = test_df[target].values\n",
    "test_df_scaled[\"postal_code\"] = test_df[\"postal_code\"].values"
   ]
  },
  {
   "cell_type": "code",
   "execution_count": 10,
   "metadata": {
    "collapsed": false
   },
   "outputs": [
    {
     "data": {
      "text/plain": [
       "['/home/gnazareths/real_estate/data/v6/yelp_scaler.pkl']"
      ]
     },
     "execution_count": 10,
     "metadata": {},
     "output_type": "execute_result"
    }
   ],
   "source": [
    "# Export\n",
    "train_df_scaled.to_csv(\"~/real_estate/data/v6/yelp_train_df.csv\",index=False)\n",
    "test_df_scaled.to_csv(\"~/real_estate/data/v6/yelp_test_df.csv\",index=False)\n",
    "joblib.dump(scaler, \"/home/gnazareths/real_estate/data/v6/yelp_scaler.pkl\")"
   ]
  }
 ],
 "metadata": {
  "kernelspec": {
   "display_name": "Python 3",
   "language": "python",
   "name": "python3"
  },
  "language_info": {
   "codemirror_mode": {
    "name": "ipython",
    "version": 3
   },
   "file_extension": ".py",
   "mimetype": "text/x-python",
   "name": "python",
   "nbconvert_exporter": "python",
   "pygments_lexer": "ipython3",
   "version": "3.5.4"
  }
 },
 "nbformat": 4,
 "nbformat_minor": 0
}
