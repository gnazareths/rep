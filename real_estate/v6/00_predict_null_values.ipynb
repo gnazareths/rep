{
 "cells": [
  {
   "cell_type": "code",
   "execution_count": 1,
   "metadata": {
    "collapsed": false
   },
   "outputs": [],
   "source": [
    "import pickle\n",
    "import pandas as pd\n",
    "import matplotlib.pyplot as plt\n",
    "\n",
    "from helpers import *\n",
    "from sklearn.preprocessing import MinMaxScaler, StandardScaler\n",
    "from sklearn.model_selection import train_test_split\n",
    "from sklearn.svm import SVR\n",
    "from sklearn.externals import joblib\n",
    "\n",
    "% matplotlib inline"
   ]
  },
  {
   "cell_type": "code",
   "execution_count": 2,
   "metadata": {
    "collapsed": false
   },
   "outputs": [],
   "source": [
    "# Load data\n",
    "df = pd.read_csv(\"~/real_estate/data/v4/unsupervised/yelp_unsupervised_df.csv\")\n",
    "\n",
    "# Remove null values\n",
    "df_full = df.dropna()"
   ]
  },
  {
   "cell_type": "code",
   "execution_count": 3,
   "metadata": {
    "collapsed": false
   },
   "outputs": [
    {
     "name": "stderr",
     "output_type": "stream",
     "text": [
      "/home/gnazareths/.local/lib/python3.5/site-packages/pandas/core/indexing.py:543: SettingWithCopyWarning: \n",
      "A value is trying to be set on a copy of a slice from a DataFrame.\n",
      "Try using .loc[row_indexer,col_indexer] = value instead\n",
      "\n",
      "See the caveats in the documentation: http://pandas.pydata.org/pandas-docs/stable/indexing.html#indexing-view-versus-copy\n",
      "  self.obj[item] = s\n"
     ]
    }
   ],
   "source": [
    "# Scale columns\n",
    "log_columns = [\"median_sqft_value\",\"zri_sqft_value\",\"zhvi_condo\",\"zhvi_singlefam\",\"people_count_lag\",\n",
    "               \"adult_count_lag\",\"mean_adjusted_income_lag\",\"mean_adjusted_income_with_dep_lag\",\n",
    "               \"mean_real_estate_taxes_hh_lag\",\"mean_mortgage_interest_hh_lag\"]\n",
    "\n",
    "for i in log_columns:\n",
    "    df_full.loc[:,i] = log_with_zeros(df_full.loc[:,i].values)"
   ]
  },
  {
   "cell_type": "code",
   "execution_count": 4,
   "metadata": {
    "collapsed": false
   },
   "outputs": [],
   "source": [
    "# Get train and test sets\n",
    "train_df, test_df = train_test_split(df_full, test_size=.2)"
   ]
  },
  {
   "cell_type": "code",
   "execution_count": 5,
   "metadata": {
    "collapsed": false
   },
   "outputs": [],
   "source": [
    "# Store columns to perform MinMax on\n",
    "scaling_columns = ['median_sqft_value','percent_decreasing','percent_increasing','zri_sqft_value','zhvi_condo',\n",
    "                   'zhvi_singlefam','month','year','mean_rating','bar_review_count','restaurant_review_count',\n",
    "                   'coffee_review_count','price_3_review_count','price_2_review_count','review_count',\n",
    "                   'dependent_count_lag','sum_adjusted_income_lag','sum_real_estate_taxes_lag',\n",
    "                   'sum_mortgage_interest_paid_lag','tax_return_count_lag','joint_return_count_lag','adult_count_lag',\n",
    "                   'people_count_lag','mean_adjusted_income_lag','mean_real_estate_taxes_hh_lag',\n",
    "                   'mean_mortgage_interest_hh_lag','mean_adjusted_income_with_dep_lag','90_day_treasury_bill_rate',\n",
    "                   'mean_hourly_earnings_adj', 'mean_fixed_mortgage_rate','total_nonfarm_payroll']\n",
    "\n",
    "# MinMax scale df\n",
    "scaler = MinMaxScaler()\n",
    "scaler.fit(train_df[scaling_columns].values)\n",
    "\n",
    "train_df_scaled = scaler.transform(train_df[scaling_columns].values)\n",
    "train_df_scaled = pd.DataFrame(train_df_scaled, columns=scaling_columns)\n",
    "\n",
    "test_df_scaled = scaler.transform(test_df[scaling_columns].values)\n",
    "test_df_scaled = pd.DataFrame(test_df_scaled, columns=scaling_columns)\n",
    "\n",
    "df_full_scaled = scaler.transform(df_full[scaling_columns].values)\n",
    "df_full_scaled = pd.DataFrame(df_full_scaled, columns=scaling_columns)"
   ]
  },
  {
   "cell_type": "code",
   "execution_count": 6,
   "metadata": {
    "collapsed": false
   },
   "outputs": [],
   "source": [
    "# Store columns for individual regressions\n",
    "pred_columns = [\n",
    "    \"90_day_treasury_bill_rate\",\"adult_count_lag\",\"bar_review_count\",\"coffee_review_count\", \n",
    "    \"mean_adjusted_income_lag\",\"mean_adjusted_income_with_dep_lag\",\"mean_fixed_mortgage_rate\",\n",
    "    \"mean_hourly_earnings_adj\",\"mean_mortgage_interest_hh_lag\",\"mean_rating\",\"mean_real_estate_taxes_hh_lag\",\n",
    "    \"people_count_lag\",\"price_2_review_count\",\"price_3_review_count\",\"restaurant_review_count\",\"review_count\", \n",
    "    \"total_nonfarm_payroll\",\"zhvi_condo\"]\n",
    "\n",
    "# Percent increasing\n",
    "X_pct_increasing_train = train_df_scaled[pred_columns].values\n",
    "y_pct_increasing_train = train_df_scaled[\"percent_increasing\"].values\n",
    "X_pct_increasing_test = test_df_scaled[pred_columns].values\n",
    "y_pct_increasing_test = test_df_scaled[\"percent_increasing\"].values\n",
    "\n",
    "# Median sqft value\n",
    "X_median_sqft_value_train = train_df_scaled[pred_columns].values\n",
    "y_median_sqft_value_train = train_df_scaled[\"median_sqft_value\"].values\n",
    "X_median_sqft_value_test = test_df_scaled[pred_columns].values\n",
    "y_median_sqft_value_test = test_df_scaled[\"median_sqft_value\"].values\n",
    "\n",
    "# ZHVI singlefam\n",
    "X_zhvi_singlefam_train = train_df_scaled[pred_columns].values\n",
    "y_zhvi_singlefam_train = train_df_scaled[\"zhvi_singlefam\"].values\n",
    "X_zhvi_singlefam_test = test_df_scaled[pred_columns].values\n",
    "y_zhvi_singlefam_test = test_df_scaled[\"zhvi_singlefam\"].values\n",
    "\n",
    "# ZRI sqft value\n",
    "X_zri_sqft_value_train = train_df_scaled[pred_columns].values\n",
    "y_zri_sqft_value_train = train_df_scaled[\"zri_sqft_value\"].values\n",
    "X_zri_sqft_value_test = test_df_scaled[pred_columns].values\n",
    "y_zri_sqft_value_test = test_df_scaled[\"zri_sqft_value\"].values"
   ]
  },
  {
   "cell_type": "markdown",
   "metadata": {
    "collapsed": true
   },
   "source": [
    "### Evaluate Predictive Power over percent_increasing"
   ]
  },
  {
   "cell_type": "code",
   "execution_count": 7,
   "metadata": {
    "collapsed": false
   },
   "outputs": [],
   "source": [
    "# Fit\n",
    "svr_pct_increasing = SVR(gamma='auto')\n",
    "svr_pct_increasing.fit(X_pct_increasing_train, y_pct_increasing_train)\n",
    "\n",
    "# Predict\n",
    "yhat_pct_increasing_train = svr_pct_increasing.predict(X_pct_increasing_train)\n",
    "yhat_pct_increasing_test = svr_pct_increasing.predict(X_pct_increasing_test)\n",
    "\n",
    "# Fetch errors\n",
    "train_errors_pct_increasing = yhat_pct_increasing_train - y_pct_increasing_train\n",
    "test_errors_pct_increasing = yhat_pct_increasing_test - y_pct_increasing_test"
   ]
  },
  {
   "cell_type": "code",
   "execution_count": 8,
   "metadata": {
    "collapsed": false
   },
   "outputs": [
    {
     "name": "stdout",
     "output_type": "stream",
     "text": [
      "Mean test error:  0.1286002808739331\n",
      "Mean test value:  0.6543375944303251\n",
      "R^2 test:  0.6100134406213807\n",
      "---\n",
      "Mean train error:  0.1267129616692024\n",
      "Mean train value:  0.6564860304826241\n",
      "R^2 train:  0.6148334503411433\n"
     ]
    }
   ],
   "source": [
    "print(\"Mean test error: \", np.mean(abs(test_errors_pct_increasing)))\n",
    "print(\"Mean test value: \", np.mean(abs(y_pct_increasing_test)))\n",
    "print(\"R^2 test: \", np.square(np.corrcoef(yhat_pct_increasing_test, y_pct_increasing_test)[0,1]))\n",
    "print('---')\n",
    "print(\"Mean train error: \", np.mean(abs(train_errors_pct_increasing)))\n",
    "print(\"Mean train value: \", np.mean(abs(y_pct_increasing_train)))\n",
    "print(\"R^2 train: \", np.square(np.corrcoef(yhat_pct_increasing_train, y_pct_increasing_train)[0,1]))"
   ]
  },
  {
   "cell_type": "markdown",
   "metadata": {},
   "source": [
    "### Evaluate Predictive Power over median_sqft_value"
   ]
  },
  {
   "cell_type": "code",
   "execution_count": 9,
   "metadata": {
    "collapsed": false
   },
   "outputs": [],
   "source": [
    "# Fit\n",
    "svr_median_sqft_value = SVR(gamma='auto')\n",
    "svr_median_sqft_value.fit(X_median_sqft_value_train, y_median_sqft_value_train)\n",
    "\n",
    "# Predict\n",
    "yhat_median_sqft_value_train = svr_median_sqft_value.predict(X_median_sqft_value_train)\n",
    "yhat_median_sqft_value_test = svr_median_sqft_value.predict(X_median_sqft_value_test)\n",
    "\n",
    "# Fetch errors\n",
    "train_errors_median_sqft_value = yhat_median_sqft_value_train - y_median_sqft_value_train\n",
    "test_errors_median_sqft_value = yhat_median_sqft_value_test - y_median_sqft_value_test"
   ]
  },
  {
   "cell_type": "code",
   "execution_count": 10,
   "metadata": {
    "collapsed": false
   },
   "outputs": [
    {
     "name": "stdout",
     "output_type": "stream",
     "text": [
      "Mean test error:  0.04591374789875634\n",
      "Mean test value:  0.32311844686105073\n",
      "R^2 test:  0.7318964899304715\n",
      "---\n",
      "Mean train error:  0.04546816436794125\n",
      "Mean train value:  0.32155248393150637\n",
      "R^2 train:  0.7179956334282837\n"
     ]
    }
   ],
   "source": [
    "print(\"Mean test error: \", np.mean(abs(test_errors_median_sqft_value)))\n",
    "print(\"Mean test value: \", np.mean(abs(y_median_sqft_value_test)))\n",
    "print(\"R^2 test: \", np.square(np.corrcoef(yhat_median_sqft_value_test, y_median_sqft_value_test)[0,1]))\n",
    "print('---')\n",
    "print(\"Mean train error: \", np.mean(abs(train_errors_median_sqft_value)))\n",
    "print(\"Mean train value: \", np.mean(abs(y_median_sqft_value_train)))\n",
    "print(\"R^2 train: \", np.square(np.corrcoef(yhat_median_sqft_value_train, y_median_sqft_value_train)[0,1]))"
   ]
  },
  {
   "cell_type": "markdown",
   "metadata": {},
   "source": [
    "### Evaluate Predictive Power over zhvi_singlefam"
   ]
  },
  {
   "cell_type": "code",
   "execution_count": 11,
   "metadata": {
    "collapsed": false
   },
   "outputs": [],
   "source": [
    "# Fit\n",
    "svr_zhvi_singlefam = SVR(gamma='auto')\n",
    "svr_zhvi_singlefam.fit(X_zhvi_singlefam_train, y_zhvi_singlefam_train)\n",
    "\n",
    "# Predict\n",
    "yhat_zhvi_singlefam_train = svr_zhvi_singlefam.predict(X_zhvi_singlefam_train)\n",
    "yhat_zhvi_singlefam_test = svr_zhvi_singlefam.predict(X_zhvi_singlefam_test)\n",
    "\n",
    "# Fetch errors\n",
    "train_errors_zhvi_singlefam = yhat_zhvi_singlefam_train - y_zhvi_singlefam_train\n",
    "test_errors_zhvi_singlefam = yhat_zhvi_singlefam_test - y_zhvi_singlefam_test"
   ]
  },
  {
   "cell_type": "code",
   "execution_count": 12,
   "metadata": {
    "collapsed": false
   },
   "outputs": [
    {
     "name": "stdout",
     "output_type": "stream",
     "text": [
      "Mean test error:  0.037838468171962306\n",
      "Mean test value:  0.2908709207475014\n",
      "R^2 test:  0.8240981811673462\n",
      "---\n",
      "Mean train error:  0.037997465991255364\n",
      "Mean train value:  0.28967308486291954\n",
      "R^2 train:  0.8097365499641588\n"
     ]
    }
   ],
   "source": [
    "print(\"Mean test error: \", np.mean(abs(test_errors_zhvi_singlefam)))\n",
    "print(\"Mean test value: \", np.mean(abs(y_zhvi_singlefam_test)))\n",
    "print(\"R^2 test: \", np.square(np.corrcoef(yhat_zhvi_singlefam_test, y_zhvi_singlefam_test)[0,1]))\n",
    "print('---')\n",
    "print(\"Mean train error: \", np.mean(abs(train_errors_zhvi_singlefam)))\n",
    "print(\"Mean train value: \", np.mean(abs(y_zhvi_singlefam_train)))\n",
    "print(\"R^2 train: \", np.square(np.corrcoef(yhat_zhvi_singlefam_train, y_zhvi_singlefam_train)[0,1]))"
   ]
  },
  {
   "cell_type": "markdown",
   "metadata": {},
   "source": [
    "### Evaluate Predictive Power over zri_sqft_value"
   ]
  },
  {
   "cell_type": "code",
   "execution_count": 13,
   "metadata": {
    "collapsed": false
   },
   "outputs": [],
   "source": [
    "# Fit\n",
    "svr_zri_sqft_value = SVR(gamma='auto')\n",
    "svr_zri_sqft_value.fit(X_zri_sqft_value_train, y_zri_sqft_value_train)\n",
    "\n",
    "# Predict\n",
    "yhat_zri_sqft_value_train = svr_zri_sqft_value.predict(X_zri_sqft_value_train)\n",
    "yhat_zri_sqft_value_test = svr_zri_sqft_value.predict(X_zri_sqft_value_test)\n",
    "\n",
    "# Fetch errors\n",
    "train_errors_zri_sqft_value = yhat_zri_sqft_value_train - y_zri_sqft_value_train\n",
    "test_errors_zri_sqft_value = yhat_zri_sqft_value_test - y_zri_sqft_value_test"
   ]
  },
  {
   "cell_type": "code",
   "execution_count": 14,
   "metadata": {
    "collapsed": false
   },
   "outputs": [
    {
     "name": "stdout",
     "output_type": "stream",
     "text": [
      "Mean test error:  0.051165655990302907\n",
      "Mean test value:  0.22227839266298577\n",
      "R^2 test:  0.6479689076875486\n",
      "---\n",
      "Mean train error:  0.05089579684138086\n",
      "Mean train value:  0.22031979535099228\n",
      "R^2 train:  0.629714240852214\n"
     ]
    }
   ],
   "source": [
    "print(\"Mean test error: \", np.mean(abs(test_errors_zri_sqft_value)))\n",
    "print(\"Mean test value: \", np.mean(abs(y_zri_sqft_value_test)))\n",
    "print(\"R^2 test: \", np.square(np.corrcoef(yhat_zri_sqft_value_test, y_zri_sqft_value_test)[0,1]))\n",
    "print('---')\n",
    "print(\"Mean train error: \", np.mean(abs(train_errors_zri_sqft_value)))\n",
    "print(\"Mean train value: \", np.mean(abs(y_zri_sqft_value_train)))\n",
    "print(\"R^2 train: \", np.square(np.corrcoef(yhat_zri_sqft_value_train, y_zri_sqft_value_train)[0,1]))"
   ]
  },
  {
   "cell_type": "markdown",
   "metadata": {},
   "source": [
    "### Training Predictors with Full Dataset"
   ]
  },
  {
   "cell_type": "code",
   "execution_count": 18,
   "metadata": {
    "collapsed": false
   },
   "outputs": [
    {
     "data": {
      "text/plain": [
       "SVR(C=1.0, cache_size=200, coef0=0.0, degree=3, epsilon=0.1, gamma='auto',\n",
       "  kernel='rbf', max_iter=-1, shrinking=True, tol=0.001, verbose=False)"
      ]
     },
     "execution_count": 18,
     "metadata": {},
     "output_type": "execute_result"
    }
   ],
   "source": [
    "# Create SVRs\n",
    "svr_pct_increasing_ = SVR(gamma='auto')\n",
    "svr_pct_decreasing_ = SVR(gamma='auto')\n",
    "svr_median_sqft_value_ = SVR(gamma='auto')\n",
    "svr_zhvi_singlefam_ = SVR(gamma='auto')\n",
    "svr_zri_sqft_value_ = SVR(gamma='auto')\n",
    "\n",
    "# Fit\n",
    "svr_pct_increasing_.fit(df_full_scaled[pred_columns], df_full_scaled[\"percent_increasing\"])\n",
    "svr_pct_decreasing_.fit(df_full_scaled[pred_columns], df_full_scaled[\"percent_decreasing\"])\n",
    "svr_median_sqft_value_.fit(df_full_scaled[pred_columns], df_full_scaled[\"median_sqft_value\"])\n",
    "svr_zhvi_singlefam_.fit(df_full_scaled[pred_columns], df_full_scaled[\"zhvi_singlefam\"])\n",
    "svr_zri_sqft_value_.fit(df_full_scaled[pred_columns], df_full_scaled[\"zri_sqft_value\"])"
   ]
  },
  {
   "cell_type": "markdown",
   "metadata": {},
   "source": [
    "### Exporting predictors"
   ]
  },
  {
   "cell_type": "code",
   "execution_count": 19,
   "metadata": {
    "collapsed": false
   },
   "outputs": [],
   "source": [
    "with open(\"../../real_estate/data/v6/predicting_nulls/scaler.pickle\", \"wb\") as output_file:\n",
    "    pickle.dump(scaler, output_file)"
   ]
  },
  {
   "cell_type": "code",
   "execution_count": 20,
   "metadata": {
    "collapsed": true
   },
   "outputs": [],
   "source": [
    "with open(\"../../real_estate/data/v6/predicting_nulls/svr_pct_increasing.pickle\", \"wb\") as output_file:\n",
    "    pickle.dump(svr_pct_increasing_, output_file)"
   ]
  },
  {
   "cell_type": "code",
   "execution_count": 21,
   "metadata": {
    "collapsed": true
   },
   "outputs": [],
   "source": [
    "with open(\"../../real_estate/data/v6/predicting_nulls/svr_pct_decreasing.pickle\", \"wb\") as output_file:\n",
    "    pickle.dump(svr_pct_decreasing_, output_file)"
   ]
  },
  {
   "cell_type": "code",
   "execution_count": 22,
   "metadata": {
    "collapsed": true
   },
   "outputs": [],
   "source": [
    "with open(\"../../real_estate/data/v6/predicting_nulls/svr_median_sqft_value.pickle\", \"wb\") as output_file:\n",
    "    pickle.dump(svr_median_sqft_value_, output_file)"
   ]
  },
  {
   "cell_type": "code",
   "execution_count": 23,
   "metadata": {
    "collapsed": true
   },
   "outputs": [],
   "source": [
    "with open(\"../../real_estate/data/v6/predicting_nulls/svr_zhvi_singlefam.pickle\", \"wb\") as output_file:\n",
    "    pickle.dump(svr_zhvi_singlefam_, output_file)"
   ]
  },
  {
   "cell_type": "code",
   "execution_count": 24,
   "metadata": {
    "collapsed": true
   },
   "outputs": [],
   "source": [
    "with open(\"../../real_estate/data/v6/predicting_nulls/svr_zri_sqft_value.pickle\", \"wb\") as output_file:\n",
    "    pickle.dump(svr_zri_sqft_value_, output_file)"
   ]
  }
 ],
 "metadata": {
  "kernelspec": {
   "display_name": "Python 3",
   "language": "python",
   "name": "python3"
  },
  "language_info": {
   "codemirror_mode": {
    "name": "ipython",
    "version": 3
   },
   "file_extension": ".py",
   "mimetype": "text/x-python",
   "name": "python",
   "nbconvert_exporter": "python",
   "pygments_lexer": "ipython3",
   "version": "3.5.4"
  }
 },
 "nbformat": 4,
 "nbformat_minor": 0
}
