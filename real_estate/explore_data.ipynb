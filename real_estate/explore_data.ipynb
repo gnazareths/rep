{
 "cells": [
  {
   "cell_type": "code",
   "execution_count": 73,
   "metadata": {
    "collapsed": false
   },
   "outputs": [],
   "source": [
    "import pandas as pd\n",
    "from sklearn.externals import joblib\n",
    "\n",
    "# Load data\n",
    "df = pd.read_csv(\"~/real_estate/data/v9/train_df.csv\")\n",
    "county_df = pd.read_csv(\"~/real_estate/data/v9/zipcode.csv\")\n",
    "features = df.columns[:-2]\n",
    "\n",
    "feature_df = df[features]\n",
    "id_df = df[df.columns[-2:]]\n",
    "\n",
    "# Scale\n",
    "scaler = joblib.load(\"/home/gnazareths/real_estate/data/v9/scaler.pkl\")\n",
    "df = scaler.inverse_transform(feature_df)\n",
    "df = pd.DataFrame(df, columns=features)\n",
    "df = pd.concat([df, id_df], axis=1)\n",
    "\n",
    "# Merge\n",
    "df_ = pd.merge(df[[\"postal_code\",\"year\",\"month\",\"target\"]], county_df[[\"postal_code\",\"county\",\"state\"]], on=\"postal_code\")"
   ]
  },
  {
   "cell_type": "code",
   "execution_count": 76,
   "metadata": {
    "collapsed": false
   },
   "outputs": [],
   "source": [
    "# Group\n",
    "df_median = df_[[\"year\",\"month\",\"county\",\"state\",\"target\"]].groupby(by=[\"county\",\"state\",\"year\",\"month\"], as_index=False).agg(\"median\")\n",
    "df_mean = df_[[\"year\",\"month\",\"county\",\"state\",\"target\"]].groupby(by=[\"county\",\"state\",\"year\",\"month\"], as_index=False).agg(\"mean\")"
   ]
  }
 ],
 "metadata": {
  "kernelspec": {
   "display_name": "Python 3",
   "language": "python",
   "name": "python3"
  },
  "language_info": {
   "codemirror_mode": {
    "name": "ipython",
    "version": 3
   },
   "file_extension": ".py",
   "mimetype": "text/x-python",
   "name": "python",
   "nbconvert_exporter": "python",
   "pygments_lexer": "ipython3",
   "version": "3.5.4"
  }
 },
 "nbformat": 4,
 "nbformat_minor": 0
}
