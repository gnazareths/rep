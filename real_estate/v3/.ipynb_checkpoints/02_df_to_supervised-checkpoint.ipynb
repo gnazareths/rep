{
 "cells": [
  {
   "cell_type": "code",
   "execution_count": 6,
   "metadata": {
    "collapsed": true
   },
   "outputs": [],
   "source": [
    "import pandas as pd"
   ]
  },
  {
   "cell_type": "code",
   "execution_count": 7,
   "metadata": {
    "collapsed": true
   },
   "outputs": [],
   "source": [
    "df = pd.read_csv(\"~/real_estate/data/v3/unsupervised_df.csv\")"
   ]
  },
  {
   "cell_type": "code",
   "execution_count": 8,
   "metadata": {
    "collapsed": true
   },
   "outputs": [],
   "source": [
    "features = [\n",
    " 'median_sqft_value','percent_decreasing','percent_increasing','zhvi_singlefam',\n",
    " 'zhvi_1bed','zhvi_2bed','zhvi_3bed','zri_sqft_value','90_day_treasury_bill_rate',\n",
    " 'mean_hourly_earnings_adj','mean_fixed_mortgage_rate','total_nonfarm_payroll',\n",
    " 'people_count_lag','adult_count_lag','mean_adjusted_income_lag',\n",
    " 'mean_adjusted_income_with_dep_lag','mean_real_estate_taxes_hh_lag',\n",
    " 'mean_mortgage_interest_hh_lag','zhvi_condo']\n",
    "\n",
    "states = ['AL','AR','AZ','CA','CO','CT','DC','DE','FL','GA','HI','IA','IL','IN','KY',\n",
    "          'MA','ME','MI','MN','MO','NC','NE','NH','NJ','NV','NY','OH','OK','OR','PA',\n",
    "          'RI','SC','TN','TX','VA','WA','WI','WV']\n",
    "\n",
    "target = \"zhvi_condo\""
   ]
  },
  {
   "cell_type": "code",
   "execution_count": null,
   "metadata": {
    "collapsed": false
   },
   "outputs": [],
   "source": [
    "# Store data from previous, future months and years\n",
    "feature_mo = {}\n",
    "feature_yr = {}\n",
    "zhvi_condo_12_months = []\n",
    "\n",
    "for i in features:\n",
    "    feature_mo[i+\"_mo\"] = []\n",
    "    feature_yr[i+\"_yr\"] = []\n",
    "\n",
    "for i in df.index:\n",
    "    \n",
    "    current_row = df.iloc[i]\n",
    "    region_name = current_row[\"RegionName\"]\n",
    "    month = int(current_row[\"month\"])\n",
    "    year = int(current_row[\"year\"])\n",
    "    next_year = year + 1\n",
    "    \n",
    "    # Get column values of previous time preiods\n",
    "    last_year = year - 1\n",
    "    if month == 1:\n",
    "        last_month_month = 12\n",
    "        last_month_year = year - 1\n",
    "    else:\n",
    "        last_month_month = month - 1\n",
    "        last_month_year = year\n",
    "    \n",
    "    last_month_row = df.loc[(df[\"RegionName\"] == region_name) & \n",
    "                            (df[\"month\"] == last_month_month) &\n",
    "                            (df[\"year\"] == last_month_year)]\n",
    "    \n",
    "    last_year_row = df.loc[(df[\"RegionName\"] == region_name) &\n",
    "                           (df[\"month\"] == month) &\n",
    "                           (df[\"year\"] == last_year)]\n",
    "    \n",
    "    next_year_row = df.loc[(df[\"RegionName\"] == region_name) &\n",
    "                           (df[\"month\"] == month) &\n",
    "                           (df[\"year\"] == next_year)]\n",
    "    \n",
    "    for i in features:\n",
    "        \n",
    "        feature_mo[i+\"_mo\"].append(last_month_row[i].values)\n",
    "        feature_yr[i+\"_yr\"].append(last_year_row[i].values)\n",
    "        \n",
    "    next_year_target = next_year_row[\"zhvi_condo\"]\n",
    "    \n",
    "    if len(next_year_target) == 0:\n",
    "        next_year_target = None\n",
    "    else:\n",
    "        next_year_target = next_year_target.values[0]\n",
    "    \n",
    "    zhvi_condo_12_months.append(next_year_target)\n",
    "    \n",
    "# Add data to dataframe\n",
    "for i in feature_mo.keys():\n",
    "    new_list = [j[0] if len(j) > 0 else None for j in feature_mo[i]]\n",
    "    feature_mo[i] = new_list\n",
    "\n",
    "for i in feature_yr.keys():\n",
    "    new_list = [j[0] if len(j) > 0 else None for j in feature_yr[i]]\n",
    "    feature_yr[i] = new_list\n",
    "    \n",
    "for i in feature_mo.keys():\n",
    "    df[i] = feature_mo[i]\n",
    "    \n",
    "for i in feature_yr.keys():\n",
    "    df[i] = feature_yr[i]\n",
    "    \n",
    "df[\"zhvi_condo_12_months\"] = zhvi_condo_12_months"
   ]
  },
  {
   "cell_type": "code",
   "execution_count": null,
   "metadata": {
    "collapsed": false
   },
   "outputs": [],
   "source": [
    "# Filter\n",
    "df = df.dropna()\n",
    "\n",
    "# Export\n",
    "df.to_csv(\"~/real_estate/data/v3/supervised_df.csv\", index=False)"
   ]
  },
  {
   "cell_type": "code",
   "execution_count": null,
   "metadata": {
    "collapsed": false
   },
   "outputs": [],
   "source": [
    "print(df.shape)\n",
    "df.head()"
   ]
  }
 ],
 "metadata": {
  "kernelspec": {
   "display_name": "Python 3",
   "language": "python",
   "name": "python3"
  },
  "language_info": {
   "codemirror_mode": {
    "name": "ipython",
    "version": 3
   },
   "file_extension": ".py",
   "mimetype": "text/x-python",
   "name": "python",
   "nbconvert_exporter": "python",
   "pygments_lexer": "ipython3",
   "version": "3.5.4"
  }
 },
 "nbformat": 4,
 "nbformat_minor": 0
}
