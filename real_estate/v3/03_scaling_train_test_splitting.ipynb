{
 "cells": [
  {
   "cell_type": "code",
   "execution_count": 1,
   "metadata": {
    "collapsed": false
   },
   "outputs": [],
   "source": [
    "import pandas as pd\n",
    "import matplotlib.pyplot as plt\n",
    "\n",
    "from helpers import *\n",
    "from sklearn.preprocessing import MinMaxScaler, StandardScaler\n",
    "from sklearn.externals import joblib\n",
    "\n",
    "% matplotlib inline"
   ]
  },
  {
   "cell_type": "code",
   "execution_count": 10,
   "metadata": {
    "collapsed": true
   },
   "outputs": [],
   "source": [
    "# Import\n",
    "df = pd.read_csv(\"~/real_estate/data/v3/supervised_df.csv\")"
   ]
  },
  {
   "cell_type": "code",
   "execution_count": 11,
   "metadata": {
    "collapsed": false
   },
   "outputs": [],
   "source": [
    "current_time_features = [\"median_sqft_value\",\"zhvi_1bed\",\"zhvi_2bed\",\"zhvi_3bed\",\"zri_sqft_value\",\n",
    "    \"zhvi_condo\",\"zhvi_singlefam\",\"90_day_treasury_bill_rate\",\"mean_hourly_earnings_adj\", \n",
    "    \"mean_fixed_mortgage_rate\",\"total_nonfarm_payroll\",\"people_count_lag\",\n",
    "    \"adult_count_lag\",\"mean_adjusted_income_lag\",\"mean_adjusted_income_with_dep_lag\",\n",
    "    \"mean_real_estate_taxes_hh_lag\",\"mean_mortgage_interest_hh_lag\"]\n",
    "\n",
    "target = \"zhvi_condo_12_months\"\n",
    "\n",
    "for i in current_time_features:\n",
    "    mo = i+\"_mo\"\n",
    "    yr = i+\"_yr\"\n",
    "    change_mo = df[i]/df[mo] - 1\n",
    "    change_yr = df[i]/df[yr] - 1\n",
    "    df[mo] = change_mo\n",
    "    df[yr] = change_yr\n",
    "\n",
    "df[target] = df[target]/df[\"zhvi_condo\"] - 1"
   ]
  },
  {
   "cell_type": "code",
   "execution_count": 12,
   "metadata": {
    "collapsed": true
   },
   "outputs": [],
   "source": [
    "log_columns = [\"median_sqft_value\",\"zhvi_1bed\",\"zhvi_2bed\",\"zhvi_3bed\",\"zri_sqft_value\",\n",
    "               \"zhvi_condo\",\"zhvi_singlefam\",\"people_count_lag\",\"adult_count_lag\",\n",
    "               \"mean_adjusted_income_lag\",\"mean_adjusted_income_with_dep_lag\",\"mean_real_estate_taxes_hh_lag\",\n",
    "               \"mean_mortgage_interest_hh_lag\"]\n",
    "\n",
    "for i in log_columns:\n",
    "    df[i] = log_with_zeros(df[i].values)\n",
    "    df = df.rename(columns={i:i+\"_log\"})"
   ]
  },
  {
   "cell_type": "code",
   "execution_count": 13,
   "metadata": {
    "collapsed": false
   },
   "outputs": [],
   "source": [
    "# Remove a few\n",
    "df = df.drop([\"percent_increasing_mo\",\"percent_decreasing_mo\",\"percent_increasing_yr\",\"percent_decreasing_yr\"], axis=1)"
   ]
  },
  {
   "cell_type": "code",
   "execution_count": 14,
   "metadata": {
    "collapsed": false
   },
   "outputs": [],
   "source": [
    "train_df = df.loc[df[\"year\"] < 2017]\n",
    "test_df = df.loc[df[\"year\"] == 2017]\n",
    "\n",
    "features = df.columns[1:-1]\n",
    "target = \"zhvi_condo_12_months\""
   ]
  },
  {
   "cell_type": "code",
   "execution_count": 15,
   "metadata": {
    "collapsed": false
   },
   "outputs": [],
   "source": [
    "# MinMax scale df\n",
    "scaler = MinMaxScaler()\n",
    "scaler.fit(train_df[features].values)\n",
    "\n",
    "train_df_scaled = scaler.transform(train_df[features].values)\n",
    "train_df_scaled = pd.DataFrame(train_df_scaled, columns=features)\n",
    "train_df_scaled[\"target\"] = train_df[target].values\n",
    "train_df_scaled[\"RegionName\"] = train_df[\"RegionName\"].values\n",
    "\n",
    "test_df_scaled = scaler.transform(test_df[features].values)\n",
    "test_df_scaled = pd.DataFrame(test_df_scaled, columns=features)\n",
    "test_df_scaled[\"target\"] = test_df[target].values\n",
    "test_df_scaled[\"RegionName\"] = test_df[\"RegionName\"].values"
   ]
  },
  {
   "cell_type": "code",
   "execution_count": 17,
   "metadata": {
    "collapsed": false
   },
   "outputs": [
    {
     "data": {
      "text/plain": [
       "['/home/gnazareths/real_estate/data/v3/scaler.pkl']"
      ]
     },
     "execution_count": 17,
     "metadata": {},
     "output_type": "execute_result"
    }
   ],
   "source": [
    "# Export\n",
    "train_df_scaled.to_csv(\"~/real_estate/data/v3/train_df.csv\",index=False)\n",
    "test_df_scaled.to_csv(\"~/real_estate/data/v3/test_df.csv\",index=False)\n",
    "joblib.dump(scaler, \"/home/gnazareths/real_estate/data/v3/scaler.pkl\")"
   ]
  }
 ],
 "metadata": {
  "kernelspec": {
   "display_name": "Python 3",
   "language": "python",
   "name": "python3"
  },
  "language_info": {
   "codemirror_mode": {
    "name": "ipython",
    "version": 3
   },
   "file_extension": ".py",
   "mimetype": "text/x-python",
   "name": "python",
   "nbconvert_exporter": "python",
   "pygments_lexer": "ipython3",
   "version": "3.5.4"
  }
 },
 "nbformat": 4,
 "nbformat_minor": 0
}
