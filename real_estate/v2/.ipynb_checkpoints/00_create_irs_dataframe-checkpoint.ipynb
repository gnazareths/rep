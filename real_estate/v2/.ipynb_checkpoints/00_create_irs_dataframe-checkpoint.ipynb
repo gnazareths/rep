{
 "cells": [
  {
   "cell_type": "code",
   "execution_count": 16,
   "metadata": {
    "collapsed": true
   },
   "outputs": [],
   "source": [
    "import pandas as pd\n",
    "import numpy as np\n",
    "\n",
    "import matplotlib.pyplot as plt\n",
    "\n",
    "% matplotlib inline"
   ]
  },
  {
   "cell_type": "code",
   "execution_count": 17,
   "metadata": {
    "collapsed": true
   },
   "outputs": [],
   "source": [
    "dfs = {\n",
    "    \"2016\":\"~/real_estate/data/raw/irs/16zpallagi.csv\",\n",
    "    \"2015\":\"~/real_estate/data/raw/irs/15zpallagi.csv\",\n",
    "    \"2014\":\"~/real_estate/data/raw/irs/14zpallagi.csv\",\n",
    "    \"2013\":\"~/real_estate/data/raw/irs/13zpallagi.csv\",\n",
    "    \"2012\":\"~/real_estate/data/raw/irs/12zpallagi.csv\",\n",
    "    \"2011\":\"~/real_estate/data/raw/irs/11zpallagi.csv\",\n",
    "    \"2010\":\"~/real_estate/data/raw/irs/10zpallagi.csv\",\n",
    "    \"2009\":\"~/real_estate/data/raw/irs/09zpallagi.csv\",\n",
    "    \"2008\":\"~/real_estate/data/raw/irs/08zpallagi.csv\"\n",
    "}\n",
    "\n",
    "cols = [\"STATE\",\"zipcode\",\"NUMDEP\",\"A00100\",\"A18500\",\"A19300\",\"N1\",\"MARS2\"]\n",
    "cols_2011 = [\"STATE\",\"ZIPCODE\",\"NUMDEP\",\"A00100\",\"A18500\",\"A19300\",\"N1\",\"MARS2\"]\n",
    "cols_2008 = [\"state\",\"ZIPCODE\",\"numdep\",\"a00100\",\"a18500\",\"a19300\",\"n1\",\"mars2\"]\n",
    "new_cols = [\"state\",\"zipcode\",\"dependent_count\",\"sum_adjusted_income\", 'sum_real_estate_taxes', \n",
    "            'sum_mortgage_interest_paid',\"tax_return_count\",\"joint_return_count\"]"
   ]
  },
  {
   "cell_type": "code",
   "execution_count": 18,
   "metadata": {
    "collapsed": false
   },
   "outputs": [],
   "source": [
    "def group_irs_data(filename, cols, new_cols, key, zip_var=\"zipcode\", state_var=\"STATE\"):\n",
    "    \n",
    "    df = pd.read_csv(filename, usecols=cols)\n",
    "    df = df.groupby([zip_var,state_var], as_index=False).agg('sum')\n",
    "    df = df[cols]\n",
    "    df.columns = new_cols\n",
    "    df[\"year\"] = key\n",
    "    \n",
    "    return df"
   ]
  },
  {
   "cell_type": "code",
   "execution_count": 19,
   "metadata": {
    "collapsed": false
   },
   "outputs": [],
   "source": [
    "# Group dfs\n",
    "d2016 = group_irs_data(dfs[\"2016\"], cols, new_cols, 2016)\n",
    "d2015 = group_irs_data(dfs[\"2015\"], cols, new_cols, 2015)\n",
    "d2014 = group_irs_data(dfs[\"2014\"], cols, new_cols, 2014)\n",
    "d2013 = group_irs_data(dfs[\"2013\"], cols, new_cols, 2013)\n",
    "d2012 = group_irs_data(dfs[\"2012\"], cols, new_cols, 2012)\n",
    "d2011 = group_irs_data(dfs[\"2011\"], cols_2011, new_cols, 2011, zip_var=\"ZIPCODE\")\n",
    "d2010 = group_irs_data(dfs[\"2010\"], cols, new_cols, 2010)\n",
    "d2009 = group_irs_data(dfs[\"2009\"], cols, new_cols, 2009)\n",
    "d2008 = group_irs_data(dfs[\"2008\"], cols_2008, new_cols, 2008, zip_var=\"ZIPCODE\", state_var=\"state\")\n",
    "\n",
    "# Adjust things in d2008\n",
    "for i in [\"sum_adjusted_income\",'sum_real_estate_taxes','sum_mortgage_interest_paid']:\n",
    "    d2008[i] = d2008[i].values/1000\n",
    "\n",
    "# Concatenate dfs\n",
    "dfs = [d2016, d2015, d2014, d2013, d2012, d2011, d2010, d2009, d2008]\n",
    "df = pd.concat(dfs)"
   ]
  },
  {
   "cell_type": "code",
   "execution_count": 20,
   "metadata": {
    "collapsed": false
   },
   "outputs": [],
   "source": [
    "# Create new metrics\n",
    "df[\"adult_count\"] = df[\"tax_return_count\"].values + df[\"joint_return_count\"].values\n",
    "df[\"people_count\"] = df[\"adult_count\"].values + df[\"dependent_count\"].values\n",
    "df[\"mean_adjusted_income\"] = df[\"sum_adjusted_income\"].values / df[\"adult_count\"].values\n",
    "df[\"mean_real_estate_taxes_hh\"] = df[\"sum_real_estate_taxes\"].values / df[\"tax_return_count\"].values\n",
    "df[\"mean_mortgage_interest_hh\"] = df[\"sum_mortgage_interest_paid\"].values / df[\"tax_return_count\"].values\n",
    "df[\"mean_adjusted_income_with_dep\"] = df[\"sum_adjusted_income\"].values / df[\"people_count\"].values"
   ]
  },
  {
   "cell_type": "code",
   "execution_count": 21,
   "metadata": {
    "collapsed": true
   },
   "outputs": [],
   "source": [
    "df = df.loc[df[\"zipcode\"] != 0]"
   ]
  },
  {
   "cell_type": "code",
   "execution_count": 22,
   "metadata": {
    "collapsed": false
   },
   "outputs": [],
   "source": [
    "df[\"year\"] = df[\"year\"].values + 2"
   ]
  },
  {
   "cell_type": "code",
   "execution_count": 23,
   "metadata": {
    "collapsed": true
   },
   "outputs": [],
   "source": [
    "for i in [\"dependent_count\",\"sum_adjusted_income\",\"sum_real_estate_taxes\",\n",
    "          \"sum_mortgage_interest_paid\",\"tax_return_count\",\"joint_return_count\",\n",
    "          \"adult_count\",\"people_count\",\"mean_adjusted_income\",\"mean_real_estate_taxes_hh\",\n",
    "          \"mean_mortgage_interest_hh\",\"mean_adjusted_income_with_dep\"]:\n",
    "    df = df.rename(columns={i:i+\"_lag\"})"
   ]
  },
  {
   "cell_type": "code",
   "execution_count": 24,
   "metadata": {
    "collapsed": false
   },
   "outputs": [],
   "source": [
    "df.to_csv(\"~/real_estate/data/backup/irs_zipcode_data.csv\",index=False)"
   ]
  }
 ],
 "metadata": {
  "kernelspec": {
   "display_name": "Python 3",
   "language": "python",
   "name": "python3"
  },
  "language_info": {
   "codemirror_mode": {
    "name": "ipython",
    "version": 3
   },
   "file_extension": ".py",
   "mimetype": "text/x-python",
   "name": "python",
   "nbconvert_exporter": "python",
   "pygments_lexer": "ipython3",
   "version": "3.5.4"
  }
 },
 "nbformat": 4,
 "nbformat_minor": 0
}
