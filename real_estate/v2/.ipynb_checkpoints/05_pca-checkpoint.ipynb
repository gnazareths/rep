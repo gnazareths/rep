{
 "cells": [
  {
   "cell_type": "code",
   "execution_count": 13,
   "metadata": {
    "collapsed": false
   },
   "outputs": [],
   "source": [
    "import pandas as pd\n",
    "import numpy as np\n",
    "import seaborn as sns\n",
    "import matplotlib.pyplot as plt\n",
    "\n",
    "from sklearn.decomposition import PCA\n",
    "from sklearn.externals import joblib\n",
    "\n",
    "%matplotlib inline\n",
    "np.random.seed(42)"
   ]
  },
  {
   "cell_type": "code",
   "execution_count": 20,
   "metadata": {
    "collapsed": true
   },
   "outputs": [],
   "source": [
    "# Load data\n",
    "train_df = pd.read_csv(\"~/real_estate/data/v2/train_df.csv\")\n",
    "test_df = pd.read_csv(\"~/real_estate/data/v2/test_df.csv\")\n",
    "\n",
    "features = train_df.columns[:-2]\n",
    "\n",
    "X_train = train_df[features]\n",
    "y_train = train_df[\"target\"]\n",
    "X_test = test_df[features]\n",
    "y_test = test_df[\"target\"]"
   ]
  },
  {
   "cell_type": "markdown",
   "metadata": {},
   "source": [
    "### PCA"
   ]
  },
  {
   "cell_type": "code",
   "execution_count": 21,
   "metadata": {
    "collapsed": false
   },
   "outputs": [
    {
     "name": "stdout",
     "output_type": "stream",
     "text": [
      "Total explained variance:  0.9709943781125696\n"
     ]
    }
   ],
   "source": [
    "# Fit PCA\n",
    "pca = PCA(n_components=45)\n",
    "pca.fit(X_train.values)\n",
    "print(\"Total explained variance: \", sum(pca.explained_variance_ratio_))"
   ]
  },
  {
   "cell_type": "code",
   "execution_count": 22,
   "metadata": {
    "collapsed": true
   },
   "outputs": [],
   "source": [
    "# Reduce dimensionality\n",
    "train_df_pca = pca.transform(X_train.values)\n",
    "train_df_pca = pd.DataFrame(train_df_pca)\n",
    "train_df_pca[\"target\"] = y_train.values\n",
    "\n",
    "test_df_pca = pca.transform(X_test.values)\n",
    "test_df_pca = pd.DataFrame(test_df_pca)\n",
    "test_df_pca[\"target\"] = y_test.values\n",
    "test_df_pca[\"RegionName\"] = test_df[\"RegionName\"].values"
   ]
  },
  {
   "cell_type": "code",
   "execution_count": 23,
   "metadata": {
    "collapsed": false
   },
   "outputs": [
    {
     "data": {
      "text/html": [
       "<div>\n",
       "<style scoped>\n",
       "    .dataframe tbody tr th:only-of-type {\n",
       "        vertical-align: middle;\n",
       "    }\n",
       "\n",
       "    .dataframe tbody tr th {\n",
       "        vertical-align: top;\n",
       "    }\n",
       "\n",
       "    .dataframe thead th {\n",
       "        text-align: right;\n",
       "    }\n",
       "</style>\n",
       "<table border=\"1\" class=\"dataframe\">\n",
       "  <thead>\n",
       "    <tr style=\"text-align: right;\">\n",
       "      <th></th>\n",
       "      <th>0</th>\n",
       "      <th>1</th>\n",
       "      <th>2</th>\n",
       "      <th>3</th>\n",
       "      <th>4</th>\n",
       "      <th>5</th>\n",
       "      <th>6</th>\n",
       "      <th>7</th>\n",
       "      <th>8</th>\n",
       "      <th>9</th>\n",
       "      <th>...</th>\n",
       "      <th>36</th>\n",
       "      <th>37</th>\n",
       "      <th>38</th>\n",
       "      <th>39</th>\n",
       "      <th>40</th>\n",
       "      <th>41</th>\n",
       "      <th>42</th>\n",
       "      <th>43</th>\n",
       "      <th>44</th>\n",
       "      <th>target</th>\n",
       "    </tr>\n",
       "  </thead>\n",
       "  <tbody>\n",
       "    <tr>\n",
       "      <th>0</th>\n",
       "      <td>0.769774</td>\n",
       "      <td>1.289720</td>\n",
       "      <td>-0.339299</td>\n",
       "      <td>0.448403</td>\n",
       "      <td>0.130888</td>\n",
       "      <td>-0.363977</td>\n",
       "      <td>0.277324</td>\n",
       "      <td>-0.076173</td>\n",
       "      <td>-0.105135</td>\n",
       "      <td>0.279229</td>\n",
       "      <td>...</td>\n",
       "      <td>-0.045079</td>\n",
       "      <td>-0.043659</td>\n",
       "      <td>-0.261520</td>\n",
       "      <td>-0.000518</td>\n",
       "      <td>-0.063229</td>\n",
       "      <td>0.011266</td>\n",
       "      <td>0.062936</td>\n",
       "      <td>-0.103356</td>\n",
       "      <td>-0.036167</td>\n",
       "      <td>0.029412</td>\n",
       "    </tr>\n",
       "    <tr>\n",
       "      <th>1</th>\n",
       "      <td>1.022718</td>\n",
       "      <td>0.312927</td>\n",
       "      <td>0.002720</td>\n",
       "      <td>0.584901</td>\n",
       "      <td>0.228945</td>\n",
       "      <td>-0.198738</td>\n",
       "      <td>0.074624</td>\n",
       "      <td>-0.046097</td>\n",
       "      <td>0.133687</td>\n",
       "      <td>0.262805</td>\n",
       "      <td>...</td>\n",
       "      <td>-0.120263</td>\n",
       "      <td>0.337827</td>\n",
       "      <td>0.269584</td>\n",
       "      <td>0.108302</td>\n",
       "      <td>-0.070697</td>\n",
       "      <td>-0.006409</td>\n",
       "      <td>0.075724</td>\n",
       "      <td>-0.126708</td>\n",
       "      <td>-0.100691</td>\n",
       "      <td>0.038377</td>\n",
       "    </tr>\n",
       "    <tr>\n",
       "      <th>2</th>\n",
       "      <td>0.897084</td>\n",
       "      <td>1.138851</td>\n",
       "      <td>-0.430117</td>\n",
       "      <td>0.391603</td>\n",
       "      <td>0.083850</td>\n",
       "      <td>-0.487456</td>\n",
       "      <td>0.270143</td>\n",
       "      <td>-0.131508</td>\n",
       "      <td>-0.177171</td>\n",
       "      <td>0.266471</td>\n",
       "      <td>...</td>\n",
       "      <td>-0.059482</td>\n",
       "      <td>0.033473</td>\n",
       "      <td>-0.219100</td>\n",
       "      <td>-0.029689</td>\n",
       "      <td>-0.050547</td>\n",
       "      <td>-0.010527</td>\n",
       "      <td>0.038913</td>\n",
       "      <td>-0.068643</td>\n",
       "      <td>-0.126397</td>\n",
       "      <td>0.002611</td>\n",
       "    </tr>\n",
       "    <tr>\n",
       "      <th>3</th>\n",
       "      <td>1.001397</td>\n",
       "      <td>0.462175</td>\n",
       "      <td>-0.108083</td>\n",
       "      <td>0.566350</td>\n",
       "      <td>0.454278</td>\n",
       "      <td>-0.171491</td>\n",
       "      <td>0.213567</td>\n",
       "      <td>-0.163052</td>\n",
       "      <td>0.109252</td>\n",
       "      <td>0.272907</td>\n",
       "      <td>...</td>\n",
       "      <td>-0.128273</td>\n",
       "      <td>0.306754</td>\n",
       "      <td>0.188686</td>\n",
       "      <td>0.123314</td>\n",
       "      <td>-0.095866</td>\n",
       "      <td>0.001292</td>\n",
       "      <td>0.049306</td>\n",
       "      <td>-0.081094</td>\n",
       "      <td>-0.072443</td>\n",
       "      <td>0.006562</td>\n",
       "    </tr>\n",
       "    <tr>\n",
       "      <th>4</th>\n",
       "      <td>1.097501</td>\n",
       "      <td>0.456392</td>\n",
       "      <td>-0.281769</td>\n",
       "      <td>0.476748</td>\n",
       "      <td>0.583505</td>\n",
       "      <td>-0.277336</td>\n",
       "      <td>0.347903</td>\n",
       "      <td>-0.339411</td>\n",
       "      <td>0.001399</td>\n",
       "      <td>0.259739</td>\n",
       "      <td>...</td>\n",
       "      <td>-0.042493</td>\n",
       "      <td>-0.030033</td>\n",
       "      <td>-0.119654</td>\n",
       "      <td>0.015758</td>\n",
       "      <td>-0.078303</td>\n",
       "      <td>0.004009</td>\n",
       "      <td>0.057550</td>\n",
       "      <td>-0.082779</td>\n",
       "      <td>-0.115715</td>\n",
       "      <td>0.070030</td>\n",
       "    </tr>\n",
       "  </tbody>\n",
       "</table>\n",
       "<p>5 rows × 46 columns</p>\n",
       "</div>"
      ],
      "text/plain": [
       "          0         1         2         3         4         5         6  \\\n",
       "0  0.769774  1.289720 -0.339299  0.448403  0.130888 -0.363977  0.277324   \n",
       "1  1.022718  0.312927  0.002720  0.584901  0.228945 -0.198738  0.074624   \n",
       "2  0.897084  1.138851 -0.430117  0.391603  0.083850 -0.487456  0.270143   \n",
       "3  1.001397  0.462175 -0.108083  0.566350  0.454278 -0.171491  0.213567   \n",
       "4  1.097501  0.456392 -0.281769  0.476748  0.583505 -0.277336  0.347903   \n",
       "\n",
       "          7         8         9    ...           36        37        38  \\\n",
       "0 -0.076173 -0.105135  0.279229    ...    -0.045079 -0.043659 -0.261520   \n",
       "1 -0.046097  0.133687  0.262805    ...    -0.120263  0.337827  0.269584   \n",
       "2 -0.131508 -0.177171  0.266471    ...    -0.059482  0.033473 -0.219100   \n",
       "3 -0.163052  0.109252  0.272907    ...    -0.128273  0.306754  0.188686   \n",
       "4 -0.339411  0.001399  0.259739    ...    -0.042493 -0.030033 -0.119654   \n",
       "\n",
       "         39        40        41        42        43        44    target  \n",
       "0 -0.000518 -0.063229  0.011266  0.062936 -0.103356 -0.036167  0.029412  \n",
       "1  0.108302 -0.070697 -0.006409  0.075724 -0.126708 -0.100691  0.038377  \n",
       "2 -0.029689 -0.050547 -0.010527  0.038913 -0.068643 -0.126397  0.002611  \n",
       "3  0.123314 -0.095866  0.001292  0.049306 -0.081094 -0.072443  0.006562  \n",
       "4  0.015758 -0.078303  0.004009  0.057550 -0.082779 -0.115715  0.070030  \n",
       "\n",
       "[5 rows x 46 columns]"
      ]
     },
     "execution_count": 23,
     "metadata": {},
     "output_type": "execute_result"
    }
   ],
   "source": [
    "train_df_pca.head()"
   ]
  },
  {
   "cell_type": "code",
   "execution_count": 24,
   "metadata": {
    "collapsed": false
   },
   "outputs": [
    {
     "data": {
      "text/plain": [
       "['/home/gnazareths/real_estate/data/v2/pca.pkl']"
      ]
     },
     "execution_count": 24,
     "metadata": {},
     "output_type": "execute_result"
    }
   ],
   "source": [
    "train_df_pca.to_csv(\"~/real_estate/data/v2/train_df_pca.csv\",index=False)\n",
    "test_df_pca.to_csv(\"~/real_estate/data/v2/test_df_pca.csv\",index=False)\n",
    "joblib.dump(pca, \"/home/gnazareths/real_estate/data/v2/pca.pkl\")"
   ]
  }
 ],
 "metadata": {
  "kernelspec": {
   "display_name": "Python 3",
   "language": "python",
   "name": "python3"
  },
  "language_info": {
   "codemirror_mode": {
    "name": "ipython",
    "version": 3
   },
   "file_extension": ".py",
   "mimetype": "text/x-python",
   "name": "python",
   "nbconvert_exporter": "python",
   "pygments_lexer": "ipython3",
   "version": "3.5.4"
  }
 },
 "nbformat": 4,
 "nbformat_minor": 0
}
