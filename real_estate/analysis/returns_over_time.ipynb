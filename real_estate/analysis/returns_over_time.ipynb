{
 "cells": [
  {
   "cell_type": "code",
   "execution_count": 6,
   "metadata": {
    "collapsed": true
   },
   "outputs": [],
   "source": [
    "import pandas as pd\n",
    "import matplotlib.pyplot as plt\n",
    "\n",
    "from sklearn.externals import joblib\n",
    "\n",
    "%matplotlib inline"
   ]
  },
  {
   "cell_type": "code",
   "execution_count": 2,
   "metadata": {
    "collapsed": true
   },
   "outputs": [],
   "source": [
    "# Load data\n",
    "train_df = pd.read_csv(\"~/real_estate/data/v11/train_df.csv\")\n",
    "test_df = pd.read_csv(\"~/real_estate/data/v11/test_df.csv\")\n",
    "df = pd.concat([train_df,test_df])\n",
    "\n",
    "county_df = pd.read_csv(\"~/real_estate/data/v9/zipcode.csv\")\n",
    "features = df.columns[:-2]\n",
    "\n",
    "feature_df = df[features]\n",
    "id_df = df[[\"target\",\"postal_code\"]]\n",
    "\n",
    "# Scale\n",
    "scaler = joblib.load(\"/home/gnazareths/real_estate/data/v11/scaler.pkl\")\n",
    "df = scaler.inverse_transform(feature_df)\n",
    "df = pd.DataFrame(df, columns=features)\n",
    "df[\"target\"] = id_df[\"target\"].values\n",
    "df[\"postal_code\"] = id_df[\"postal_code\"].values\n",
    "\n",
    "# Merge\n",
    "df_ = pd.merge(df[[\"postal_code\",\"year\",\"month\",\"target\"]], county_df[[\"postal_code\",\"county\",\"state\"]], on=\"postal_code\", how=\"left\")\n",
    "df_[\"year\"] = [int(i) for i in df_[\"year\"].values]"
   ]
  },
  {
   "cell_type": "code",
   "execution_count": 16,
   "metadata": {
    "collapsed": false
   },
   "outputs": [],
   "source": [
    "returns_2011 = df_.loc[df_[\"year\"] == 2011][\"target\"].values\n",
    "returns_2012 = df_.loc[df_[\"year\"] == 2012][\"target\"].values\n",
    "returns_2013 = df_.loc[df_[\"year\"] == 2013][\"target\"].values\n",
    "returns_2014 = df_.loc[df_[\"year\"] == 2014][\"target\"].values\n",
    "returns_2015 = df_.loc[df_[\"year\"] == 2015][\"target\"].values\n",
    "returns_2016 = df_.loc[df_[\"year\"] == 2016][\"target\"].values\n",
    "returns_2017 = df_.loc[df_[\"year\"] == 2017][\"target\"].values"
   ]
  },
  {
   "cell_type": "code",
   "execution_count": 17,
   "metadata": {
    "collapsed": false
   },
   "outputs": [
    {
     "data": {
      "image/png": "[encoded data removed]",
      "text/plain": [
       "<Figure size 600x400 with 1 Axes>"
      ]
     },
     "metadata": {},
     "output_type": "display_data"
    }
   ],
   "source": [
    "plt.boxplot([returns_2011, returns_2012, returns_2013, returns_2014, returns_2015, returns_2016, returns_2017])\n",
    "plt.show()"
   ]
  },
  {
   "cell_type": "code",
   "execution_count": null,
   "metadata": {
    "collapsed": true
   },
   "outputs": [],
   "source": []
  }
 ],
 "metadata": {
  "kernelspec": {
   "display_name": "Python 3",
   "language": "python",
   "name": "python3"
  },
  "language_info": {
   "codemirror_mode": {
    "name": "ipython",
    "version": 3
   },
   "file_extension": ".py",
   "mimetype": "text/x-python",
   "name": "python",
   "nbconvert_exporter": "python",
   "pygments_lexer": "ipython3",
   "version": "3.5.4"
  }
 },
 "nbformat": 4,
 "nbformat_minor": 0
}
