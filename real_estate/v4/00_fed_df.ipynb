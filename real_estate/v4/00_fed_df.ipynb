{
 "cells": [
  {
   "cell_type": "code",
   "execution_count": 1,
   "metadata": {
    "collapsed": true
   },
   "outputs": [],
   "source": [
    "import pandas as pd"
   ]
  },
  {
   "cell_type": "code",
   "execution_count": 2,
   "metadata": {
    "collapsed": true
   },
   "outputs": [],
   "source": [
    "dfs = {\n",
    "    \"01\": pd.read_csv(\"~/real_estate/data/raw/fred_3monthtreasurybill.csv\"),\n",
    "    \"02\": pd.read_csv(\"~/real_estate/data/raw/fred_average_hourly_earnings_seasonally_adjusted.csv\"),\n",
    "    \"03\": pd.read_csv(\"~/real_estate/data/raw/fred_fixed_mortgage_rate.csv\"),\n",
    "    \"04\": pd.read_csv(\"~/real_estate/data/raw/fred_total_nonfarm_payroll.csv\")\n",
    "}\n",
    "\n",
    "variables = {\n",
    "    \"01\": \"90_day_treasury_bill_rate\",\n",
    "    \"02\": \"mean_hourly_earnings_adj\",\n",
    "    \"03\": \"mean_fixed_mortgage_rate\",\n",
    "    \"04\": \"total_nonfarm_payroll\"\n",
    "}"
   ]
  },
  {
   "cell_type": "code",
   "execution_count": 4,
   "metadata": {
    "collapsed": false
   },
   "outputs": [],
   "source": [
    "dataframes_melt = {}\n",
    "\n",
    "for i in variables.keys():\n",
    "    \n",
    "    varname = dfs[i].columns[1]\n",
    "    df_ = dfs[i].rename(columns={\"DATE\":\"date\",varname:variables[i]})\n",
    "    df_[\"date\"] = [j[:7] for j in df_[\"date\"].values]\n",
    "    df_ = df_.groupby([\"date\"], as_index=False).agg('mean')\n",
    "    dataframes_melt[i] = df_"
   ]
  },
  {
   "cell_type": "code",
   "execution_count": 5,
   "metadata": {
    "collapsed": true
   },
   "outputs": [],
   "source": [
    "# Merge with Fed dfs\n",
    "df = pd.merge(dataframes_melt[\"01\"], dataframes_melt[\"02\"], on=[\"date\"], how=\"left\")\n",
    "for i in [\"03\",\"04\"]:\n",
    "    df = pd.merge(df, dataframes_melt[i], on=[\"date\"], how=\"left\")\n",
    "\n",
    "# Filter dates, remove NaNs\n",
    "df = df.loc[df[\"date\"] > '2000']\n",
    "df = df.dropna()\n",
    "\n",
    "# Date format\n",
    "df[\"month\"] = [int(i[5:]) for i in df[\"date\"].values]\n",
    "df[\"year\"] = [int(i[:4]) for i in df[\"date\"].values]\n",
    "df = df.drop([\"date\"], axis=1)"
   ]
  },
  {
   "cell_type": "code",
   "execution_count": 7,
   "metadata": {
    "collapsed": false
   },
   "outputs": [
    {
     "data": {
      "text/html": [
       "<div>\n",
       "<style scoped>\n",
       "    .dataframe tbody tr th:only-of-type {\n",
       "        vertical-align: middle;\n",
       "    }\n",
       "\n",
       "    .dataframe tbody tr th {\n",
       "        vertical-align: top;\n",
       "    }\n",
       "\n",
       "    .dataframe thead th {\n",
       "        text-align: right;\n",
       "    }\n",
       "</style>\n",
       "<table border=\"1\" class=\"dataframe\">\n",
       "  <thead>\n",
       "    <tr style=\"text-align: right;\">\n",
       "      <th></th>\n",
       "      <th>90_day_treasury_bill_rate</th>\n",
       "      <th>mean_hourly_earnings_adj</th>\n",
       "      <th>mean_fixed_mortgage_rate</th>\n",
       "      <th>total_nonfarm_payroll</th>\n",
       "      <th>month</th>\n",
       "      <th>year</th>\n",
       "    </tr>\n",
       "  </thead>\n",
       "  <tbody>\n",
       "    <tr>\n",
       "      <th>866</th>\n",
       "      <td>4.51</td>\n",
       "      <td>20.04</td>\n",
       "      <td>6.3240</td>\n",
       "      <td>136059.0</td>\n",
       "      <td>3</td>\n",
       "      <td>2006</td>\n",
       "    </tr>\n",
       "    <tr>\n",
       "      <th>867</th>\n",
       "      <td>4.60</td>\n",
       "      <td>20.15</td>\n",
       "      <td>6.5075</td>\n",
       "      <td>136227.0</td>\n",
       "      <td>4</td>\n",
       "      <td>2006</td>\n",
       "    </tr>\n",
       "    <tr>\n",
       "      <th>868</th>\n",
       "      <td>4.72</td>\n",
       "      <td>20.13</td>\n",
       "      <td>6.5975</td>\n",
       "      <td>136258.0</td>\n",
       "      <td>5</td>\n",
       "      <td>2006</td>\n",
       "    </tr>\n",
       "    <tr>\n",
       "      <th>869</th>\n",
       "      <td>4.79</td>\n",
       "      <td>20.23</td>\n",
       "      <td>6.6820</td>\n",
       "      <td>136337.0</td>\n",
       "      <td>6</td>\n",
       "      <td>2006</td>\n",
       "    </tr>\n",
       "    <tr>\n",
       "      <th>870</th>\n",
       "      <td>4.95</td>\n",
       "      <td>20.30</td>\n",
       "      <td>6.7625</td>\n",
       "      <td>136543.0</td>\n",
       "      <td>7</td>\n",
       "      <td>2006</td>\n",
       "    </tr>\n",
       "  </tbody>\n",
       "</table>\n",
       "</div>"
      ],
      "text/plain": [
       "     90_day_treasury_bill_rate  mean_hourly_earnings_adj  \\\n",
       "866                       4.51                     20.04   \n",
       "867                       4.60                     20.15   \n",
       "868                       4.72                     20.13   \n",
       "869                       4.79                     20.23   \n",
       "870                       4.95                     20.30   \n",
       "\n",
       "     mean_fixed_mortgage_rate  total_nonfarm_payroll  month  year  \n",
       "866                    6.3240               136059.0      3  2006  \n",
       "867                    6.5075               136227.0      4  2006  \n",
       "868                    6.5975               136258.0      5  2006  \n",
       "869                    6.6820               136337.0      6  2006  \n",
       "870                    6.7625               136543.0      7  2006  "
      ]
     },
     "execution_count": 7,
     "metadata": {},
     "output_type": "execute_result"
    }
   ],
   "source": [
    "df.head()"
   ]
  },
  {
   "cell_type": "code",
   "execution_count": 8,
   "metadata": {
    "collapsed": true
   },
   "outputs": [],
   "source": [
    "df.to_csv(\"~/real_estate/data/v4/fed_dataframe.csv\",index=False)"
   ]
  }
 ],
 "metadata": {
  "kernelspec": {
   "display_name": "Python 3",
   "language": "python",
   "name": "python3"
  },
  "language_info": {
   "codemirror_mode": {
    "name": "ipython",
    "version": 3
   },
   "file_extension": ".py",
   "mimetype": "text/x-python",
   "name": "python",
   "nbconvert_exporter": "python",
   "pygments_lexer": "ipython3",
   "version": "3.5.4"
  }
 },
 "nbformat": 4,
 "nbformat_minor": 0
}
