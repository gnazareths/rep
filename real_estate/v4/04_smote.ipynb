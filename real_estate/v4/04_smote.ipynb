{
 "cells": [
  {
   "cell_type": "code",
   "execution_count": 1,
   "metadata": {
    "collapsed": true
   },
   "outputs": [],
   "source": [
    "import pandas as pd\n",
    "import numpy as np\n",
    "import matplotlib.pyplot as plt\n",
    "\n",
    "from sklearn.cluster import DBSCAN\n",
    "from imblearn.over_sampling import SMOTE\n",
    "\n",
    "% matplotlib inline"
   ]
  },
  {
   "cell_type": "code",
   "execution_count": 6,
   "metadata": {
    "collapsed": false
   },
   "outputs": [],
   "source": [
    "# Load data\n",
    "train_df = pd.read_csv(\"~/real_estate/data/v4/yelp_train_df.csv\")\n",
    "\n",
    "smote_features = train_df.columns[:-1]"
   ]
  },
  {
   "cell_type": "code",
   "execution_count": 7,
   "metadata": {
    "collapsed": false
   },
   "outputs": [],
   "source": [
    "scaled_target = (train_df[\"target\"].values - min(train_df[\"target\"]))/(\n",
    "    max(train_df[\"target\"]) - min(train_df[\"target\"]))\n",
    "\n",
    "target_groups = []\n",
    "\n",
    "for i in scaled_target:\n",
    "    target = int(np.floor(i*30))\n",
    "    target_groups.append(target)"
   ]
  },
  {
   "cell_type": "code",
   "execution_count": 9,
   "metadata": {
    "collapsed": true
   },
   "outputs": [],
   "source": [
    "indices_first = [i for i, x in enumerate(target_groups) if x in [0,1]]\n",
    "indices_last = [i for i, x in enumerate(target_groups) if x in [27,28,29,30]]\n",
    "\n",
    "for i in indices_first:\n",
    "    target_groups[i] = 2\n",
    "for i in indices_last:\n",
    "    target_groups[i] = 26"
   ]
  },
  {
   "cell_type": "code",
   "execution_count": 10,
   "metadata": {
    "collapsed": false
   },
   "outputs": [],
   "source": [
    "smote = SMOTE(ratio=\"minority\", random_state=42, k_neighbors=5)\n",
    "X_res, y_res = smote.fit_sample(train_df[smote_features].values, \n",
    "                                target_groups)\n",
    "for i in range(24):\n",
    "    X_res, y_res = smote.fit_sample(X_res, y_res)\n",
    "    \n",
    "X_res = pd.DataFrame(X_res, columns=smote_features)"
   ]
  },
  {
   "cell_type": "code",
   "execution_count": 11,
   "metadata": {
    "collapsed": false
   },
   "outputs": [
    {
     "data": {
      "image/png": "[encoded data removed]",
      "text/plain": [
       "<Figure size 600x400 with 1 Axes>"
      ]
     },
     "metadata": {},
     "output_type": "display_data"
    }
   ],
   "source": [
    "plt.hist(train_df[\"target\"], bins=35)\n",
    "plt.show()"
   ]
  },
  {
   "cell_type": "code",
   "execution_count": 12,
   "metadata": {
    "collapsed": false
   },
   "outputs": [
    {
     "data": {
      "image/png": "[encoded data removed]",
      "text/plain": [
       "<Figure size 600x400 with 1 Axes>"
      ]
     },
     "metadata": {},
     "output_type": "display_data"
    }
   ],
   "source": [
    "plt.hist(X_res[\"target\"], bins=23)\n",
    "plt.show()"
   ]
  },
  {
   "cell_type": "code",
   "execution_count": 13,
   "metadata": {
    "collapsed": true
   },
   "outputs": [],
   "source": [
    "X_res.to_csv(\"~/real_estate/data/v4/yelp_train_df_smote.csv\", index=False)"
   ]
  }
 ],
 "metadata": {
  "kernelspec": {
   "display_name": "Python 3",
   "language": "python",
   "name": "python3"
  },
  "language_info": {
   "codemirror_mode": {
    "name": "ipython",
    "version": 3
   },
   "file_extension": ".py",
   "mimetype": "text/x-python",
   "name": "python",
   "nbconvert_exporter": "python",
   "pygments_lexer": "ipython3",
   "version": "3.5.4"
  }
 },
 "nbformat": 4,
 "nbformat_minor": 0
}
