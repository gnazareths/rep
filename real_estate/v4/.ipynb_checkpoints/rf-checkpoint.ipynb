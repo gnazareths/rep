{
 "cells": [
  {
   "cell_type": "code",
   "execution_count": 1,
   "metadata": {
    "collapsed": true
   },
   "outputs": [],
   "source": [
    "import pandas as pd\n",
    "import numpy as np\n",
    "import matplotlib.pyplot as plt\n",
    "\n",
    "from sklearn.ensemble import RandomForestRegressor\n",
    "from sklearn.externals import joblib\n",
    "\n",
    "%matplotlib inline\n",
    "np.random.seed(42)"
   ]
  },
  {
   "cell_type": "code",
   "execution_count": 2,
   "metadata": {
    "collapsed": true
   },
   "outputs": [],
   "source": [
    "train_df = pd.read_csv(\"~/real_estate/data/v4/final/yelp/yelp_train_df.csv\")\n",
    "test_df = pd.read_csv(\"~/real_estate/data/v4/final/yelp/yelp_test_df.csv\")\n",
    "\n",
    "features = train_df.columns[:-2]\n",
    "\n",
    "X_train = train_df[features]\n",
    "X_test = test_df[features]\n",
    "y_train = train_df[\"target\"]\n",
    "y_test = test_df[\"target\"]"
   ]
  },
  {
   "cell_type": "code",
   "execution_count": 3,
   "metadata": {
    "collapsed": true
   },
   "outputs": [],
   "source": [
    "rf = RandomForestRegressor(n_estimators=500, max_depth=3)"
   ]
  },
  {
   "cell_type": "code",
   "execution_count": null,
   "metadata": {
    "collapsed": false
   },
   "outputs": [],
   "source": [
    "rf.fit(X_train, y_train)"
   ]
  },
  {
   "cell_type": "code",
   "execution_count": 5,
   "metadata": {
    "collapsed": false
   },
   "outputs": [
    {
     "name": "stdout",
     "output_type": "stream",
     "text": [
      "R^2 train:  0.2601728031010158\n",
      "R^2 test:  0.09313710894243785\n"
     ]
    }
   ],
   "source": [
    "y_test_hat_1 = rf.predict(X_test)\n",
    "y_train_hat_1 = rf.predict(X_train)\n",
    "print(\"R^2 train: \", np.square(np.corrcoef(y_train, y_train_hat_1)[0,1]))\n",
    "print(\"R^2 test: \", np.square(np.corrcoef(y_test, y_test_hat_1)[0,1]))"
   ]
  },
  {
   "cell_type": "code",
   "execution_count": 9,
   "metadata": {
    "collapsed": false
   },
   "outputs": [
    {
     "data": {
      "text/plain": [
       "['/home/gnazareths/real_estate/v11/models/rf_0215.joblib']"
      ]
     },
     "execution_count": 9,
     "metadata": {},
     "output_type": "execute_result"
    }
   ],
   "source": [
    "### joblib.dump(rf, '/home/gnazareths/real_estate/v11/models/rf_0215.joblib')"
   ]
  },
  {
   "cell_type": "code",
   "execution_count": 10,
   "metadata": {
    "collapsed": false
   },
   "outputs": [],
   "source": [
    "feature_importances = [(i,j) for i,j in zip(features,rf.feature_importances_)]"
   ]
  },
  {
   "cell_type": "code",
   "execution_count": 11,
   "metadata": {
    "collapsed": false
   },
   "outputs": [
    {
     "data": {
      "text/plain": [
       "[('year', 0.0),\n",
       " ('month', 0.0),\n",
       " ('90_day_treasury_bill_rate', 0.0),\n",
       " ('mean_adjusted_income_lag_log', 0.0),\n",
       " ('mean_fixed_mortgage_rate', 0.0),\n",
       " ('mean_mortgage_interest_hh_lag_log', 0.0),\n",
       " ('median_sqft_value_log', 0.0),\n",
       " ('people_count_lag_log', 0.0),\n",
       " ('percent_decreasing', 0.0),\n",
       " ('zhvi_condo_log', 0.0),\n",
       " ('zhvi_singlefam_log', 0.0),\n",
       " ('zri_sqft_value_log', 0.0),\n",
       " ('business_count_cbp_lag_log', 0.0),\n",
       " ('business_500_count_cbp_lag', 0.0),\n",
       " ('bar_count_cbp_lag', 0.0),\n",
       " ('mean_county_zhvi_condo_log', 0.0),\n",
       " ('median_county_zhvi_condo_log', 0.0),\n",
       " ('mean_county_sqft_value_log', 0.0),\n",
       " ('median_county_sqft_value_log', 0.0),\n",
       " ('mean_fixed_mortgage_rate_mo', 0.0),\n",
       " ('percent_decreasing_mo', 0.0),\n",
       " ('zhvi_singlefam_mo', 0.0),\n",
       " ('zri_sqft_value_mo', 0.0),\n",
       " ('percent_increasing_mo', 0.0),\n",
       " ('90_day_treasury_bill_rate_mo', 0.0),\n",
       " ('total_nonfarm_payroll_mo', 0.0),\n",
       " ('mean_hourly_earnings_adj_mo', 0.0),\n",
       " ('median_sqft_value_mo', 0.0),\n",
       " ('percent_increasing_yr', 0.0),\n",
       " ('adult_count_lag_yr', 0.0),\n",
       " ('mean_fixed_mortgage_rate_yr', 0.0),\n",
       " ('mean_adjusted_income_lag_yr', 0.0),\n",
       " ('zhvi_singlefam_yr', 0.0),\n",
       " ('zri_sqft_value_yr', 0.0),\n",
       " ('zhvi_condo_yr', 0.0),\n",
       " ('mean_mortgage_interest_hh_lag_yr', 0.0),\n",
       " ('total_nonfarm_payroll_yr', 0.0),\n",
       " ('people_count_lag_yr', 0.0),\n",
       " ('mean_hourly_earnings_adj_yr', 0.0),\n",
       " ('90_day_treasury_bill_rate_yr', 0.0),\n",
       " ('mean_real_estate_taxes_hh_lag_yr', 0.0),\n",
       " ('mean_adjusted_income_with_dep_lag_yr', 0.0),\n",
       " ('business_count_cbp_lag_yr', 0.0),\n",
       " ('employment_count_cbp_lag_yr', 0.0),\n",
       " ('business_100_count_cbp_lag_yr', 0.0),\n",
       " ('restaurant_count_cbp_lag_yr', 0.0),\n",
       " ('business_500_count_cbp_lag_yr', 0.0),\n",
       " ('bar_count_cbp_lag_yr', 0.0),\n",
       " ('mean_county_sqft_value_yr', 0.0),\n",
       " ('median_county_sqft_value_yr', 0.0),\n",
       " ('mean_county_hourly_earnings_adj_mo', 0.0),\n",
       " ('median_county_hourly_earnings_adj_mo', 0.0),\n",
       " ('mean_county_hourly_earnings_adj_yr', 0.0),\n",
       " ('median_county_hourly_earnings_adj_yr', 0.0),\n",
       " ('median_county_zhvi_condo_yr', 3.560227651116171e-05),\n",
       " ('mean_adjusted_income_with_dep_lag_log', 7.640291009109715e-05),\n",
       " ('mean_county_zhvi_condo_yr', 0.00024934985772510096),\n",
       " ('percent_increasing', 0.0008174337638102876),\n",
       " ('mean_real_estate_taxes_hh_lag_log', 0.0026818962117801256),\n",
       " ('median_sqft_value_yr', 0.004243114838169765),\n",
       " ('mean_county_zhvi_condo_mo', 0.015807720545656365),\n",
       " ('percent_decreasing_yr', 0.017013549484944802),\n",
       " ('zhvi_condo_mo', 0.047603848073525176),\n",
       " ('mean_county_hourly_earnings_adj', 0.05431173907857738),\n",
       " ('mean_hourly_earnings_adj', 0.055561825506651404),\n",
       " ('total_nonfarm_payroll', 0.08238443707056535),\n",
       " ('median_county_sqft_value_mo', 0.09788583434144685),\n",
       " ('median_county_zhvi_condo_mo', 0.18532619610373025),\n",
       " ('mean_county_sqft_value_mo', 0.4360010499368148)]"
      ]
     },
     "execution_count": 11,
     "metadata": {},
     "output_type": "execute_result"
    }
   ],
   "source": [
    "sorted(feature_importances, key=lambda tup: tup[1])"
   ]
  }
 ],
 "metadata": {
  "kernelspec": {
   "display_name": "Python 3",
   "language": "python",
   "name": "python3"
  },
  "language_info": {
   "codemirror_mode": {
    "name": "ipython",
    "version": 3
   },
   "file_extension": ".py",
   "mimetype": "text/x-python",
   "name": "python",
   "nbconvert_exporter": "python",
   "pygments_lexer": "ipython3",
   "version": "3.5.4"
  }
 },
 "nbformat": 4,
 "nbformat_minor": 0
}
