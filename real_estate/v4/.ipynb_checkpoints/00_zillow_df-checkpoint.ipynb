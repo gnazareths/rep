{
 "cells": [
  {
   "cell_type": "code",
   "execution_count": 27,
   "metadata": {
    "collapsed": true
   },
   "outputs": [],
   "source": [
    "import pandas as pd\n",
    "import numpy as np"
   ]
  },
  {
   "cell_type": "markdown",
   "metadata": {},
   "source": [
    "### Zillow"
   ]
  },
  {
   "cell_type": "code",
   "execution_count": 28,
   "metadata": {
    "collapsed": false
   },
   "outputs": [],
   "source": [
    "zillow_dfs = {\n",
    "    \"01\": pd.read_csv(\"~/real_estate/data/raw/Zip_MedianValuePerSqft_AllHomes.csv\", encoding='ISO-8859-1'),\n",
    "    \"02\": pd.read_csv(\"~/real_estate/data/raw/Zip_PctOfHomesDecreasingInValues_AllHomes.csv\", encoding='ISO-8859-1'),\n",
    "    \"03\": pd.read_csv(\"~/real_estate/data/raw/Zip_PctOfHomesIncreasingInValues_AllHomes.csv\", encoding='ISO-8859-1'),\n",
    "    \"04\": pd.read_csv(\"~/real_estate/data/raw/Zip_Zhvi_1bedroom.csv\", encoding='ISO-8859-1'),\n",
    "    \"05\": pd.read_csv(\"~/real_estate/data/raw/Zip_Zhvi_2bedroom.csv\", encoding='ISO-8859-1'),\n",
    "    \"06\": pd.read_csv(\"~/real_estate/data/raw/Zip_Zhvi_3bedroom.csv\", encoding='ISO-8859-1'),\n",
    "    \"07\": pd.read_csv(\"~/real_estate/data/raw/Zip_ZriPerSqft_AllHomes.csv\", encoding='ISO-8859-1'),\n",
    "    \"08\": pd.read_csv(\"~/real_estate/data/raw/Zip_Zhvi_Condominum.csv\", encoding='ISO-8859-1'),\n",
    "    \"09\": pd.read_csv(\"~/real_estate/data/raw/Zip_Zhvi_SingleFamilyResidence.csv\", encoding='ISO-8859-1')\n",
    "}"
   ]
  },
  {
   "cell_type": "code",
   "execution_count": 29,
   "metadata": {
    "collapsed": true
   },
   "outputs": [],
   "source": [
    "zillow_variables = {\n",
    "    \"01\": \"median_sqft_value\",\n",
    "    \"02\": \"percent_decreasing\",\n",
    "    \"03\": \"percent_increasing\",\n",
    "    \"04\": \"zhvi_1bed\",\n",
    "    \"05\": \"zhvi_2bed\",\n",
    "    \"06\": \"zhvi_3bed\",\n",
    "    \"07\": \"zri_sqft_value\",\n",
    "    \"08\": \"zhvi_condo\",\n",
    "    \"09\": \"zhvi_singlefam\"\n",
    "}"
   ]
  },
  {
   "cell_type": "code",
   "execution_count": 30,
   "metadata": {
    "collapsed": false
   },
   "outputs": [],
   "source": [
    "dataframes_melt = {}\n",
    "\n",
    "for i in zillow_variables.keys():\n",
    "    \n",
    "    zillow_df_ = zillow_dfs[i].drop([\"RegionID\",\"SizeRank\",\"City\",\"State\",\"Metro\",\"CountyName\",\"SizeRank\"],axis=1)\n",
    "    dataframes_melt[i] = pd.melt(zillow_df_, id_vars=[\"RegionName\"]).rename(columns={\"variable\":\"date\",\n",
    "                                                                                \"value\":zillow_variables[i]})"
   ]
  },
  {
   "cell_type": "code",
   "execution_count": 31,
   "metadata": {
    "collapsed": true
   },
   "outputs": [],
   "source": [
    "# Join all zillow dfs\n",
    "df_zillow = pd.merge(dataframes_melt[\"01\"], dataframes_melt[\"02\"], on=[\"RegionName\",\"date\"], how=\"outer\")\n",
    "\n",
    "for i in [\"03\",\"04\",\"05\",\"06\",\"07\",\"08\",\"09\"]:\n",
    "    df_zillow = pd.merge(df_zillow, dataframes_melt[i], on=[\"RegionName\",\"date\"], how=\"outer\")"
   ]
  },
  {
   "cell_type": "code",
   "execution_count": 32,
   "metadata": {
    "collapsed": false
   },
   "outputs": [],
   "source": [
    "# Filter dates, remove NaNs\n",
    "df_zillow = df_zillow.loc[df_zillow[\"date\"] > '2000']\n",
    "df_zillow = df_zillow.dropna(subset=[\"zhvi_condo\"])\n",
    "\n",
    "# Date format\n",
    "df_zillow[\"month\"] = [int(i[5:]) for i in df_zillow[\"date\"].values]\n",
    "df_zillow[\"year\"] = [int(i[:4]) for i in df_zillow[\"date\"].values]\n",
    "df_zillow = df_zillow.drop([\"date\"], axis=1)\n",
    "\n",
    "# Format column names\n",
    "df_zillow = df_zillow.rename(columns={\"RegionName\":\"postal_code\"})"
   ]
  },
  {
   "cell_type": "code",
   "execution_count": null,
   "metadata": {
    "collapsed": false
   },
   "outputs": [],
   "source": [
    "# Export\n",
    "df_zillow.to_csv(\"~/real_estate/data/v4/zillow_zipcode_data.csv\", index=False)\n",
    "\n",
    "df_zillow.head()"
   ]
  }
 ],
 "metadata": {
  "kernelspec": {
   "display_name": "Python 3",
   "language": "python",
   "name": "python3"
  },
  "language_info": {
   "codemirror_mode": {
    "name": "ipython",
    "version": 3
   },
   "file_extension": ".py",
   "mimetype": "text/x-python",
   "name": "python",
   "nbconvert_exporter": "python",
   "pygments_lexer": "ipython3",
   "version": "3.5.4"
  }
 },
 "nbformat": 4,
 "nbformat_minor": 0
}
