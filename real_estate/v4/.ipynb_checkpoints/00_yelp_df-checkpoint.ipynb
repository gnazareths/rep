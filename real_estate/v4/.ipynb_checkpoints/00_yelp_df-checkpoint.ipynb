{
 "cells": [
  {
   "cell_type": "code",
   "execution_count": 1,
   "metadata": {
    "collapsed": true
   },
   "outputs": [],
   "source": [
    "import pandas as pd\n",
    "import numpy as np"
   ]
  },
  {
   "cell_type": "code",
   "execution_count": 2,
   "metadata": {
    "collapsed": true
   },
   "outputs": [],
   "source": [
    "# Load data\n",
    "yelp_data = pd.read_csv(\"~/real_estate/data/yelp/yelp_20180919.csv\", usecols = \n",
    "                        [\"business_id\",\"stars\",\"postal_code\",\"Restaurant\",\"Coffee & Tea\",\"Bar\",\n",
    "                         \"price_range_3\",\"price_range_2\",\"price_range_1\",\"year\",\"month\"])"
   ]
  },
  {
   "cell_type": "code",
   "execution_count": 3,
   "metadata": {
    "collapsed": false
   },
   "outputs": [],
   "source": [
    "# Select columns to group\n",
    "group_columns = [\"postal_code\", \"year\", \"month\"]\n",
    "mean_columns = [\"postal_code\",\"year\",\"month\",\"stars\"]\n",
    "sum_columns = [\"postal_code\",\"year\",\"month\",\"Bar\",\"Restaurant\",\"Coffee & Tea\",\"price_range_3\",\"price_range_2\"]\n",
    "count_columns = [\"postal_code\",\"year\",\"month\",\"business_id\"]\n",
    "\n",
    "# Group, format\n",
    "yelp_data_mean = yelp_data[mean_columns].groupby(by=group_columns).agg('mean')\n",
    "yelp_data_mean = yelp_data_mean.rename(columns={\"stars\":\"mean_rating\"})\n",
    "\n",
    "yelp_data_sum = yelp_data[sum_columns].groupby(by=group_columns).agg('sum')\n",
    "yelp_data_sum = yelp_data_sum.rename(columns={\"Bar\":\"bar_review_count\",\n",
    "                                              \"Restaurant\":\"restaurant_review_count\",\n",
    "                                              \"Coffee & Tea\":\"coffee_review_count\", \n",
    "                                              \"price_range_3\":\"price_3_review_count\", \n",
    "                                              \"price_range_2\":\"price_2_review_count\"})\n",
    "\n",
    "yelp_data_count = yelp_data[count_columns].groupby(by=group_columns).agg('count')\n",
    "yelp_data_count = yelp_data_count.rename(columns={\"business_id\":\"review_count\"})\n",
    "\n",
    "# Aggregate\n",
    "yelp_data = pd.concat([yelp_data_mean, yelp_data_sum, yelp_data_count], sort=False, axis=1)"
   ]
  },
  {
   "cell_type": "code",
   "execution_count": 4,
   "metadata": {
    "collapsed": false
   },
   "outputs": [],
   "source": [
    "# store postal codes\n",
    "postal_codes = list(set([i[0] for i in yelp_data.index]))\n",
    "\n",
    "# Get all possible dates\n",
    "all_dates = [str(i[1])+\"{:02d}\".format(i[2]) for i in yelp_data.index]\n",
    "all_dates = list(set(all_dates))\n",
    "all_dates = sorted(all_dates)\n",
    "\n",
    "# Get the first date for each postal code\n",
    "min_dates = {}\n",
    "\n",
    "for i in postal_codes:\n",
    "    subset_ = yelp_data.loc[i]\n",
    "    subset_dates = [str(i[0])+\"{:02d}\".format(i[1]) for i in subset_.index]\n",
    "    min_date = min(subset_dates)\n",
    "    min_dates[i] = min_date\n",
    "\n",
    "# Make df with all dates since first for each zip code\n",
    "postal_code_list = []\n",
    "year_list = []\n",
    "month_list = []\n",
    "\n",
    "for i in postal_codes:\n",
    "    min_date = min_dates[i]\n",
    "    min_date_index = all_dates.index(min_date)\n",
    "    for j in all_dates[min_date_index:]:\n",
    "        year_ = int(j[:4])\n",
    "        month_ = int(j[4:])\n",
    "        postal_code_list.append(i)\n",
    "        year_list.append(year_)\n",
    "        month_list.append(month_)\n",
    "\n",
    "yelp_full_date_df = pd.DataFrame({\"postal_code\":postal_code_list,\n",
    "                                  \"year\":year_list,\n",
    "                                  \"month\":month_list})"
   ]
  },
  {
   "cell_type": "code",
   "execution_count": 5,
   "metadata": {
    "collapsed": false
   },
   "outputs": [],
   "source": [
    "# Merge dataframes\n",
    "yelp_data = yelp_data.reset_index()\n",
    "df = pd.merge(yelp_data, yelp_full_date_df, on=[\"postal_code\",\"year\",\"month\"], how=\"outer\")\n",
    "df = df.sort_values(by=[\"postal_code\",\"year\",\"month\"])\n",
    "df = df.fillna(0)\n",
    "df = df.set_index([\"postal_code\",\"year\",\"month\"])"
   ]
  },
  {
   "cell_type": "code",
   "execution_count": 21,
   "metadata": {
    "collapsed": true
   },
   "outputs": [],
   "source": [
    "subset_ = df.loc[2109]"
   ]
  },
  {
   "cell_type": "code",
   "execution_count": 24,
   "metadata": {
    "collapsed": false
   },
   "outputs": [
    {
     "data": {
      "text/plain": [
       "mean_rating                5.0\n",
       "bar_review_count           0.0\n",
       "restaurant_review_count    0.0\n",
       "coffee_review_count        0.0\n",
       "price_3_review_count       1.0\n",
       "price_2_review_count       0.0\n",
       "review_count               1.0\n",
       "Name: (2009, 3), dtype: float64"
      ]
     },
     "execution_count": 24,
     "metadata": {},
     "output_type": "execute_result"
    }
   ],
   "source": [
    "subset_.loc[(2009,3)]"
   ]
  },
  {
   "cell_type": "code",
   "execution_count": 29,
   "metadata": {
    "collapsed": false
   },
   "outputs": [
    {
     "name": "stdout",
     "output_type": "stream",
     "text": [
      "1.0 1.0 3.0\n",
      "1.0 1.0 4.0\n",
      "0.0 1.0 4.0\n",
      "0.0 1.0 4.0\n",
      "0.0 1.0 4.0\n"
     ]
    }
   ],
   "source": [
    "dfs = []\n",
    "yelp_columns = [\"mean_rating\",\"bar_review_count\",\"restaurant_review_count\",\"coffee_review_count\",\n",
    "                \"price_3_review_count\",\"price_2_review_count\"]\n",
    "\n",
    "for i in postal_codes:\n",
    "    \n",
    "    subset_ = df.loc[i].sort_values(by=[\"year\",\"month\"])\n",
    "    subset_[\"postal_code\"] = i\n",
    "    years = [j[0] for j in subset_.index]\n",
    "    months = [j[1] for j in subset_.index]\n",
    "    \n",
    "    for j in range(1, len(years)):\n",
    "        \n",
    "        year, month = years[j], months[j]\n",
    "        year_, month_ = years[j-1], months[j-1]\n",
    "        row = subset_.loc[year, month]\n",
    "        row_ = subset_.loc[year_, month_]\n",
    "        \n",
    "        n_reviews = row[\"review_count\"]\n",
    "        n_reviews_ = row_[\"review_count\"]\n",
    "        n_reviews_new = n_reviews + n_reviews_\n",
    "        subset_.loc[year,month][\"review_count\"] = n_reviews_new\n",
    "        \n",
    "        for k in yelp_columns:\n",
    "            \n",
    "            col_value = row[k] if pd.notnull(row[k]) else 0\n",
    "            col_value_ = row_[k] if pd.notnull(row_[k]) else 0\n",
    "            \n",
    "            if k == \"mean_rating\":\n",
    "                subset_.loc[year, month][k] = (col_value*n_reviews + col_value_*n_reviews_)/n_reviews_new\n",
    "            else:\n",
    "                subset_.loc[year, month][k] = col_value + col_value_\n",
    "        \n",
    "    dfs.append(subset_)\n",
    "    \n",
    "yelp_df = pd.concat(dfs)"
   ]
  },
  {
   "cell_type": "code",
   "execution_count": 31,
   "metadata": {
    "collapsed": false
   },
   "outputs": [],
   "source": [
    "yelp_df = yelp_df.reset_index()"
   ]
  },
  {
   "cell_type": "code",
   "execution_count": 32,
   "metadata": {
    "collapsed": true
   },
   "outputs": [],
   "source": [
    "yelp_df.to_csv(\"~/real_estate/data/v4/yelp_unsupervised_df.csv\", index=False)"
   ]
  },
  {
   "cell_type": "code",
   "execution_count": 33,
   "metadata": {
    "collapsed": false
   },
   "outputs": [
    {
     "data": {
      "text/html": [
       "<div>\n",
       "<style scoped>\n",
       "    .dataframe tbody tr th:only-of-type {\n",
       "        vertical-align: middle;\n",
       "    }\n",
       "\n",
       "    .dataframe tbody tr th {\n",
       "        vertical-align: top;\n",
       "    }\n",
       "\n",
       "    .dataframe thead th {\n",
       "        text-align: right;\n",
       "    }\n",
       "</style>\n",
       "<table border=\"1\" class=\"dataframe\">\n",
       "  <thead>\n",
       "    <tr style=\"text-align: right;\">\n",
       "      <th></th>\n",
       "      <th>year</th>\n",
       "      <th>month</th>\n",
       "      <th>mean_rating</th>\n",
       "      <th>bar_review_count</th>\n",
       "      <th>restaurant_review_count</th>\n",
       "      <th>coffee_review_count</th>\n",
       "      <th>price_3_review_count</th>\n",
       "      <th>price_2_review_count</th>\n",
       "      <th>review_count</th>\n",
       "      <th>postal_code</th>\n",
       "    </tr>\n",
       "  </thead>\n",
       "  <tbody>\n",
       "    <tr>\n",
       "      <th>0</th>\n",
       "      <td>2018</td>\n",
       "      <td>2</td>\n",
       "      <td>1.0</td>\n",
       "      <td>0.0</td>\n",
       "      <td>0.0</td>\n",
       "      <td>0.0</td>\n",
       "      <td>0.0</td>\n",
       "      <td>0.0</td>\n",
       "      <td>2.0</td>\n",
       "      <td>28673.0</td>\n",
       "    </tr>\n",
       "    <tr>\n",
       "      <th>1</th>\n",
       "      <td>2018</td>\n",
       "      <td>3</td>\n",
       "      <td>1.0</td>\n",
       "      <td>0.0</td>\n",
       "      <td>0.0</td>\n",
       "      <td>0.0</td>\n",
       "      <td>0.0</td>\n",
       "      <td>0.0</td>\n",
       "      <td>3.0</td>\n",
       "      <td>28673.0</td>\n",
       "    </tr>\n",
       "    <tr>\n",
       "      <th>2</th>\n",
       "      <td>2018</td>\n",
       "      <td>4</td>\n",
       "      <td>1.0</td>\n",
       "      <td>0.0</td>\n",
       "      <td>0.0</td>\n",
       "      <td>0.0</td>\n",
       "      <td>0.0</td>\n",
       "      <td>0.0</td>\n",
       "      <td>4.0</td>\n",
       "      <td>28673.0</td>\n",
       "    </tr>\n",
       "    <tr>\n",
       "      <th>3</th>\n",
       "      <td>2018</td>\n",
       "      <td>5</td>\n",
       "      <td>1.0</td>\n",
       "      <td>0.0</td>\n",
       "      <td>0.0</td>\n",
       "      <td>0.0</td>\n",
       "      <td>0.0</td>\n",
       "      <td>0.0</td>\n",
       "      <td>4.0</td>\n",
       "      <td>28673.0</td>\n",
       "    </tr>\n",
       "    <tr>\n",
       "      <th>4</th>\n",
       "      <td>2018</td>\n",
       "      <td>6</td>\n",
       "      <td>1.0</td>\n",
       "      <td>0.0</td>\n",
       "      <td>0.0</td>\n",
       "      <td>0.0</td>\n",
       "      <td>0.0</td>\n",
       "      <td>0.0</td>\n",
       "      <td>4.0</td>\n",
       "      <td>28673.0</td>\n",
       "    </tr>\n",
       "  </tbody>\n",
       "</table>\n",
       "</div>"
      ],
      "text/plain": [
       "   year  month  mean_rating  bar_review_count  restaurant_review_count  \\\n",
       "0  2018      2          1.0               0.0                      0.0   \n",
       "1  2018      3          1.0               0.0                      0.0   \n",
       "2  2018      4          1.0               0.0                      0.0   \n",
       "3  2018      5          1.0               0.0                      0.0   \n",
       "4  2018      6          1.0               0.0                      0.0   \n",
       "\n",
       "   coffee_review_count  price_3_review_count  price_2_review_count  \\\n",
       "0                  0.0                   0.0                   0.0   \n",
       "1                  0.0                   0.0                   0.0   \n",
       "2                  0.0                   0.0                   0.0   \n",
       "3                  0.0                   0.0                   0.0   \n",
       "4                  0.0                   0.0                   0.0   \n",
       "\n",
       "   review_count  postal_code  \n",
       "0           2.0      28673.0  \n",
       "1           3.0      28673.0  \n",
       "2           4.0      28673.0  \n",
       "3           4.0      28673.0  \n",
       "4           4.0      28673.0  "
      ]
     },
     "execution_count": 33,
     "metadata": {},
     "output_type": "execute_result"
    }
   ],
   "source": [
    "yelp_df.head()"
   ]
  }
 ],
 "metadata": {
  "kernelspec": {
   "display_name": "Python 3",
   "language": "python",
   "name": "python3"
  },
  "language_info": {
   "codemirror_mode": {
    "name": "ipython",
    "version": 3
   },
   "file_extension": ".py",
   "mimetype": "text/x-python",
   "name": "python",
   "nbconvert_exporter": "python",
   "pygments_lexer": "ipython3",
   "version": "3.5.4"
  }
 },
 "nbformat": 4,
 "nbformat_minor": 0
}
