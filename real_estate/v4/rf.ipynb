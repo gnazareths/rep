{
 "cells": [
  {
   "cell_type": "code",
   "execution_count": 1,
   "metadata": {
    "collapsed": true
   },
   "outputs": [],
   "source": [
    "import pandas as pd\n",
    "import numpy as np\n",
    "import matplotlib.pyplot as plt\n",
    "\n",
    "from sklearn.ensemble import RandomForestRegressor\n",
    "from sklearn.externals import joblib\n",
    "\n",
    "%matplotlib inline\n",
    "np.random.seed(42)"
   ]
  },
  {
   "cell_type": "code",
   "execution_count": 2,
   "metadata": {
    "collapsed": true
   },
   "outputs": [],
   "source": [
    "train_df = pd.read_csv(\"~/real_estate/data/v4/final/yelp/yelp_train_df.csv\")\n",
    "test_df = pd.read_csv(\"~/real_estate/data/v4/final/yelp/yelp_test_df.csv\")\n",
    "\n",
    "features = train_df.columns[:-2]\n",
    "\n",
    "X_train = train_df[features]\n",
    "X_test = test_df[features]\n",
    "y_train = train_df[\"target\"]\n",
    "y_test = test_df[\"target\"]"
   ]
  },
  {
   "cell_type": "code",
   "execution_count": 3,
   "metadata": {
    "collapsed": true
   },
   "outputs": [],
   "source": [
    "rf = RandomForestRegressor(n_estimators=500, max_depth=3)"
   ]
  },
  {
   "cell_type": "code",
   "execution_count": 4,
   "metadata": {
    "collapsed": false
   },
   "outputs": [
    {
     "data": {
      "text/plain": [
       "RandomForestRegressor(bootstrap=True, criterion='mse', max_depth=3,\n",
       "           max_features='auto', max_leaf_nodes=None,\n",
       "           min_impurity_decrease=0.0, min_impurity_split=None,\n",
       "           min_samples_leaf=1, min_samples_split=2,\n",
       "           min_weight_fraction_leaf=0.0, n_estimators=500, n_jobs=None,\n",
       "           oob_score=False, random_state=None, verbose=0, warm_start=False)"
      ]
     },
     "execution_count": 4,
     "metadata": {},
     "output_type": "execute_result"
    }
   ],
   "source": [
    "rf.fit(X_train, y_train)"
   ]
  },
  {
   "cell_type": "code",
   "execution_count": 5,
   "metadata": {
    "collapsed": false
   },
   "outputs": [
    {
     "name": "stdout",
     "output_type": "stream",
     "text": [
      "R^2 train:  0.402976964175269\n",
      "R^2 test:  0.24371738611934468\n"
     ]
    }
   ],
   "source": [
    "y_test_hat_1 = rf.predict(X_test)\n",
    "y_train_hat_1 = rf.predict(X_train)\n",
    "print(\"R^2 train: \", np.square(np.corrcoef(y_train, y_train_hat_1)[0,1]))\n",
    "print(\"R^2 test: \", np.square(np.corrcoef(y_test, y_test_hat_1)[0,1]))"
   ]
  },
  {
   "cell_type": "code",
   "execution_count": 7,
   "metadata": {
    "collapsed": false
   },
   "outputs": [
    {
     "data": {
      "text/plain": [
       "['/home/gnazareths/real_estate/v4/models/rf_0215.joblib']"
      ]
     },
     "execution_count": 7,
     "metadata": {},
     "output_type": "execute_result"
    }
   ],
   "source": [
    "joblib.dump(rf, '/home/gnazareths/real_estate/v4/models/rf_0215.joblib')"
   ]
  },
  {
   "cell_type": "code",
   "execution_count": 8,
   "metadata": {
    "collapsed": false
   },
   "outputs": [],
   "source": [
    "feature_importances = [(i,j) for i,j in zip(features,rf.feature_importances_)]"
   ]
  },
  {
   "cell_type": "code",
   "execution_count": 9,
   "metadata": {
    "collapsed": false
   },
   "outputs": [
    {
     "data": {
      "text/plain": [
       "[('90_day_treasury_bill_rate', 0.0),\n",
       " ('mean_mortgage_interest_hh_lag_log', 0.0),\n",
       " ('mean_rating', 0.0),\n",
       " ('month', 0.0),\n",
       " ('price_2_review_count', 0.0),\n",
       " ('coffee_review_count', 0.0),\n",
       " ('adult_count_lag_mo', 0.0),\n",
       " ('bar_review_count_mo', 0.0),\n",
       " ('mean_mortgage_interest_hh_lag_mo', 0.0),\n",
       " ('mean_fixed_mortgage_rate_mo', 0.0),\n",
       " ('mean_adjusted_income_with_dep_lag_mo', 0.0),\n",
       " ('restaurant_review_count_mo', 0.0),\n",
       " ('percent_increasing_mo', 0.0),\n",
       " ('90_day_treasury_bill_rate_mo', 0.0),\n",
       " ('total_nonfarm_payroll_mo', 0.0),\n",
       " ('mean_adjusted_income_lag_mo', 0.0),\n",
       " ('mean_real_estate_taxes_hh_lag_mo', 0.0),\n",
       " ('mean_hourly_earnings_adj_mo', 0.0),\n",
       " ('review_count_mo', 0.0),\n",
       " ('mean_rating_mo', 0.0),\n",
       " ('people_count_lag_mo', 0.0),\n",
       " ('price_3_review_count_mo', 0.0),\n",
       " ('coffee_review_count_mo', 0.0),\n",
       " ('price_2_review_count_mo', 0.0),\n",
       " ('coffee_review_count_yr', 0.0),\n",
       " ('price_3_review_count_yr', 0.0),\n",
       " ('price_2_review_count_yr', 0.0),\n",
       " ('zhvi_singlefam_yr', 0.0),\n",
       " ('restaurant_review_count_yr', 0.0),\n",
       " ('review_count_yr', 0.0),\n",
       " ('mean_hourly_earnings_adj_yr', 0.0),\n",
       " ('bar_review_count_yr', 0.0),\n",
       " ('total_nonfarm_payroll_yr', 1.1216800684066343e-05),\n",
       " ('mean_adjusted_income_lag_yr', 2.603147986744174e-05),\n",
       " ('zhvi_condo_yr', 3.387132025645862e-05),\n",
       " ('zri_sqft_value_mo', 3.395172101202251e-05),\n",
       " ('adult_count_lag_yr', 3.410792624206708e-05),\n",
       " ('zhvi_condo_mo', 5.27688096514234e-05),\n",
       " ('people_count_lag_log', 5.5395807243893435e-05),\n",
       " ('mean_rating_yr', 8.825063686023483e-05),\n",
       " ('year', 9.245303464093649e-05),\n",
       " ('mean_real_estate_taxes_hh_lag_log', 9.508402827815517e-05),\n",
       " ('people_count_lag_yr', 0.0001258230218571749),\n",
       " ('mean_adjusted_income_with_dep_lag_yr', 0.00013038983923907048),\n",
       " ('zhvi_singlefam_log', 0.00013122516668709615),\n",
       " ('percent_decreasing_mo', 0.00014426768723963812),\n",
       " ('90_day_treasury_bill_rate_yr', 0.00024840218417431225),\n",
       " ('zri_sqft_value_log', 0.00026896583931328757),\n",
       " ('bar_review_count', 0.0003032257693858333),\n",
       " ('price_3_review_count', 0.0003104394569523494),\n",
       " ('median_sqft_value_log', 0.00034739968250205116),\n",
       " ('zhvi_singlefam_mo', 0.0005632184674246057),\n",
       " ('restaurant_review_count', 0.000672306386183253),\n",
       " ('mean_adjusted_income_lag_log', 0.0007355309915461064),\n",
       " ('zri_sqft_value_yr', 0.0009316003702869479),\n",
       " ('median_sqft_value_mo', 0.0014929010536874924),\n",
       " ('median_sqft_value_yr', 0.002164354621192812),\n",
       " ('mean_adjusted_income_with_dep_lag_log', 0.0023899361034260495),\n",
       " ('mean_fixed_mortgage_rate_yr', 0.0045999394442341945),\n",
       " ('percent_decreasing', 0.008573008439062177),\n",
       " ('percent_decreasing_yr', 0.009025716177632474),\n",
       " ('mean_fixed_mortgage_rate', 0.01059637595917136),\n",
       " ('zhvi_condo_log', 0.014842157243453755),\n",
       " ('total_nonfarm_payroll', 0.01691951626478338),\n",
       " ('mean_hourly_earnings_adj', 0.019218911403033404),\n",
       " ('review_count', 0.021386513917829978),\n",
       " ('mean_real_estate_taxes_hh_lag_yr', 0.06538290082681893),\n",
       " ('mean_mortgage_interest_hh_lag_yr', 0.11877518597775835),\n",
       " ('percent_increasing', 0.18183506044734526),\n",
       " ('percent_increasing_yr', 0.5173615956930423)]"
      ]
     },
     "execution_count": 9,
     "metadata": {},
     "output_type": "execute_result"
    }
   ],
   "source": [
    "sorted(feature_importances, key=lambda tup: tup[1])"
   ]
  },
  {
   "cell_type": "code",
   "execution_count": null,
   "metadata": {
    "collapsed": true
   },
   "outputs": [],
   "source": []
  }
 ],
 "metadata": {
  "kernelspec": {
   "display_name": "Python 3",
   "language": "python",
   "name": "python3"
  },
  "language_info": {
   "codemirror_mode": {
    "name": "ipython",
    "version": 3
   },
   "file_extension": ".py",
   "mimetype": "text/x-python",
   "name": "python",
   "nbconvert_exporter": "python",
   "pygments_lexer": "ipython3",
   "version": "3.5.4"
  }
 },
 "nbformat": 4,
 "nbformat_minor": 0
}
