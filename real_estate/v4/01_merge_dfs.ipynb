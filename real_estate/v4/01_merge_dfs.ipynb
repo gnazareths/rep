{
 "cells": [
  {
   "cell_type": "code",
   "execution_count": 13,
   "metadata": {
    "collapsed": true
   },
   "outputs": [],
   "source": [
    "import pandas as pd"
   ]
  },
  {
   "cell_type": "code",
   "execution_count": 87,
   "metadata": {
    "collapsed": false
   },
   "outputs": [],
   "source": [
    "# Load data\n",
    "yelp_df = pd.read_csv(\"~/real_estate/data/v4/yelp_zipcode_data.csv\")\n",
    "zillow_df = pd.read_csv(\"~/real_estate/data/v4/zillow_zipcode_data.csv\")\n",
    "irs_df = pd.read_csv(\"~/real_estate/data/v4/irs_zipcode_data.csv\")\n",
    "fed_df = pd.read_csv(\"~/real_estate/data/v4/fed_dataframe.csv\")\n",
    "state_df = pd.read_csv(\"~/real_estate/data/raw/zip_code_state.csv\")\n",
    "\n",
    "# Filter out Canadian zip codes\n",
    "yelp_df = yelp_df.loc[yelp_df[\"postal_code\"].isin(set(irs_zip))]\n",
    "\n",
    "# Merge\n",
    "df = pd.merge(zillow_df, yelp_df, on=[\"postal_code\",\"year\",\"month\"], how=\"outer\")\n",
    "df = df.dropna(subset=[\"zhvi_condo\"])\n",
    "df = pd.merge(df, irs_df, on=[\"postal_code\",\"year\"], how=\"left\")\n",
    "df = pd.merge(df, fed_df, on=[\"year\",\"month\"], how=\"left\")\n",
    "\n",
    "# Format\n",
    "df = df.loc[df[\"year\"] >= 2010]\n",
    "df = df.dropna(subset=[\"state\"])\n",
    "df = df.sort_values(by=[\"postal_code\",\"year\",\"month\"])\n",
    "\n",
    "# Get yelp stuff\n",
    "yelp_df = df.dropna(subset=[\"mean_rating\"])\n",
    "\n",
    "# Remove columns with tons of nas\n",
    "df = df.drop([\"zhvi_1bed\",\"zhvi_2bed\",\"zhvi_3bed\"], axis=1)\n",
    "yelp_df = yelp_df.drop([\"zhvi_1bed\",\"zhvi_2bed\",\"zhvi_3bed\"], axis=1)"
   ]
  },
  {
   "cell_type": "code",
   "execution_count": 108,
   "metadata": {
    "collapsed": true
   },
   "outputs": [],
   "source": [
    "# Export\n",
    "df.to_csv(\"~/real_estate/data/v4/unsupervised_df.csv\",index=False)\n",
    "yelp_df.to_csv(\"~/real_estate/data/v4/yelp_unsupervised_df.csv\", index=False)"
   ]
  }
 ],
 "metadata": {
  "kernelspec": {
   "display_name": "Python 3",
   "language": "python",
   "name": "python3"
  },
  "language_info": {
   "codemirror_mode": {
    "name": "ipython",
    "version": 3
   },
   "file_extension": ".py",
   "mimetype": "text/x-python",
   "name": "python",
   "nbconvert_exporter": "python",
   "pygments_lexer": "ipython3",
   "version": "3.5.4"
  }
 },
 "nbformat": 4,
 "nbformat_minor": 0
}
