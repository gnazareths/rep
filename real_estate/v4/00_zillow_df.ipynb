{
 "cells": [
  {
   "cell_type": "code",
   "execution_count": 27,
   "metadata": {
    "collapsed": true
   },
   "outputs": [],
   "source": [
    "import pandas as pd\n",
    "import numpy as np"
   ]
  },
  {
   "cell_type": "markdown",
   "metadata": {},
   "source": [
    "### Zillow"
   ]
  },
  {
   "cell_type": "code",
   "execution_count": 28,
   "metadata": {
    "collapsed": false
   },
   "outputs": [],
   "source": [
    "zillow_dfs = {\n",
    "    \"01\": pd.read_csv(\"~/real_estate/data/raw/Zip_MedianValuePerSqft_AllHomes.csv\", encoding='ISO-8859-1'),\n",
    "    \"02\": pd.read_csv(\"~/real_estate/data/raw/Zip_PctOfHomesDecreasingInValues_AllHomes.csv\", encoding='ISO-8859-1'),\n",
    "    \"03\": pd.read_csv(\"~/real_estate/data/raw/Zip_PctOfHomesIncreasingInValues_AllHomes.csv\", encoding='ISO-8859-1'),\n",
    "    \"04\": pd.read_csv(\"~/real_estate/data/raw/Zip_Zhvi_1bedroom.csv\", encoding='ISO-8859-1'),\n",
    "    \"05\": pd.read_csv(\"~/real_estate/data/raw/Zip_Zhvi_2bedroom.csv\", encoding='ISO-8859-1'),\n",
    "    \"06\": pd.read_csv(\"~/real_estate/data/raw/Zip_Zhvi_3bedroom.csv\", encoding='ISO-8859-1'),\n",
    "    \"07\": pd.read_csv(\"~/real_estate/data/raw/Zip_ZriPerSqft_AllHomes.csv\", encoding='ISO-8859-1'),\n",
    "    \"08\": pd.read_csv(\"~/real_estate/data/raw/Zip_Zhvi_Condominum.csv\", encoding='ISO-8859-1'),\n",
    "    \"09\": pd.read_csv(\"~/real_estate/data/raw/Zip_Zhvi_SingleFamilyResidence.csv\", encoding='ISO-8859-1')\n",
    "}"
   ]
  },
  {
   "cell_type": "code",
   "execution_count": 29,
   "metadata": {
    "collapsed": true
   },
   "outputs": [],
   "source": [
    "zillow_variables = {\n",
    "    \"01\": \"median_sqft_value\",\n",
    "    \"02\": \"percent_decreasing\",\n",
    "    \"03\": \"percent_increasing\",\n",
    "    \"04\": \"zhvi_1bed\",\n",
    "    \"05\": \"zhvi_2bed\",\n",
    "    \"06\": \"zhvi_3bed\",\n",
    "    \"07\": \"zri_sqft_value\",\n",
    "    \"08\": \"zhvi_condo\",\n",
    "    \"09\": \"zhvi_singlefam\"\n",
    "}"
   ]
  },
  {
   "cell_type": "code",
   "execution_count": 30,
   "metadata": {
    "collapsed": false
   },
   "outputs": [],
   "source": [
    "dataframes_melt = {}\n",
    "\n",
    "for i in zillow_variables.keys():\n",
    "    \n",
    "    zillow_df_ = zillow_dfs[i].drop([\"RegionID\",\"SizeRank\",\"City\",\"State\",\"Metro\",\"CountyName\",\"SizeRank\"],axis=1)\n",
    "    dataframes_melt[i] = pd.melt(zillow_df_, id_vars=[\"RegionName\"]).rename(columns={\"variable\":\"date\",\n",
    "                                                                                \"value\":zillow_variables[i]})"
   ]
  },
  {
   "cell_type": "code",
   "execution_count": 31,
   "metadata": {
    "collapsed": true
   },
   "outputs": [],
   "source": [
    "# Join all zillow dfs\n",
    "df_zillow = pd.merge(dataframes_melt[\"01\"], dataframes_melt[\"02\"], on=[\"RegionName\",\"date\"], how=\"outer\")\n",
    "\n",
    "for i in [\"03\",\"04\",\"05\",\"06\",\"07\",\"08\",\"09\"]:\n",
    "    df_zillow = pd.merge(df_zillow, dataframes_melt[i], on=[\"RegionName\",\"date\"], how=\"outer\")"
   ]
  },
  {
   "cell_type": "code",
   "execution_count": 32,
   "metadata": {
    "collapsed": false
   },
   "outputs": [],
   "source": [
    "# Filter dates, remove NaNs\n",
    "df_zillow = df_zillow.loc[df_zillow[\"date\"] > '2000']\n",
    "df_zillow = df_zillow.dropna(subset=[\"zhvi_condo\"])\n",
    "\n",
    "# Date format\n",
    "df_zillow[\"month\"] = [int(i[5:]) for i in df_zillow[\"date\"].values]\n",
    "df_zillow[\"year\"] = [int(i[:4]) for i in df_zillow[\"date\"].values]\n",
    "df_zillow = df_zillow.drop([\"date\"], axis=1)\n",
    "\n",
    "# Format column names\n",
    "df_zillow = df_zillow.rename(columns={\"RegionName\":\"postal_code\"})"
   ]
  },
  {
   "cell_type": "code",
   "execution_count": 36,
   "metadata": {
    "collapsed": false
   },
   "outputs": [
    {
     "data": {
      "text/html": [
       "<div>\n",
       "<style scoped>\n",
       "    .dataframe tbody tr th:only-of-type {\n",
       "        vertical-align: middle;\n",
       "    }\n",
       "\n",
       "    .dataframe tbody tr th {\n",
       "        vertical-align: top;\n",
       "    }\n",
       "\n",
       "    .dataframe thead th {\n",
       "        text-align: right;\n",
       "    }\n",
       "</style>\n",
       "<table border=\"1\" class=\"dataframe\">\n",
       "  <thead>\n",
       "    <tr style=\"text-align: right;\">\n",
       "      <th></th>\n",
       "      <th>postal_code</th>\n",
       "      <th>median_sqft_value</th>\n",
       "      <th>percent_decreasing</th>\n",
       "      <th>percent_increasing</th>\n",
       "      <th>zhvi_1bed</th>\n",
       "      <th>zhvi_2bed</th>\n",
       "      <th>zhvi_3bed</th>\n",
       "      <th>zri_sqft_value</th>\n",
       "      <th>zhvi_condo</th>\n",
       "      <th>zhvi_singlefam</th>\n",
       "      <th>month</th>\n",
       "      <th>year</th>\n",
       "    </tr>\n",
       "  </thead>\n",
       "  <tbody>\n",
       "    <tr>\n",
       "      <th>654480</th>\n",
       "      <td>10025</td>\n",
       "      <td>360.0</td>\n",
       "      <td>28.40</td>\n",
       "      <td>68.48</td>\n",
       "      <td>NaN</td>\n",
       "      <td>NaN</td>\n",
       "      <td>NaN</td>\n",
       "      <td>NaN</td>\n",
       "      <td>312800.0</td>\n",
       "      <td>NaN</td>\n",
       "      <td>1</td>\n",
       "      <td>2000</td>\n",
       "    </tr>\n",
       "    <tr>\n",
       "      <th>654481</th>\n",
       "      <td>60657</td>\n",
       "      <td>243.0</td>\n",
       "      <td>7.36</td>\n",
       "      <td>91.13</td>\n",
       "      <td>NaN</td>\n",
       "      <td>352900.0</td>\n",
       "      <td>397700.0</td>\n",
       "      <td>NaN</td>\n",
       "      <td>194900.0</td>\n",
       "      <td>516800.0</td>\n",
       "      <td>1</td>\n",
       "      <td>2000</td>\n",
       "    </tr>\n",
       "    <tr>\n",
       "      <th>654482</th>\n",
       "      <td>10023</td>\n",
       "      <td>535.0</td>\n",
       "      <td>21.09</td>\n",
       "      <td>74.96</td>\n",
       "      <td>NaN</td>\n",
       "      <td>NaN</td>\n",
       "      <td>NaN</td>\n",
       "      <td>NaN</td>\n",
       "      <td>520900.0</td>\n",
       "      <td>NaN</td>\n",
       "      <td>1</td>\n",
       "      <td>2000</td>\n",
       "    </tr>\n",
       "    <tr>\n",
       "      <th>654484</th>\n",
       "      <td>60614</td>\n",
       "      <td>278.0</td>\n",
       "      <td>9.57</td>\n",
       "      <td>87.80</td>\n",
       "      <td>NaN</td>\n",
       "      <td>353100.0</td>\n",
       "      <td>520700.0</td>\n",
       "      <td>NaN</td>\n",
       "      <td>218600.0</td>\n",
       "      <td>699700.0</td>\n",
       "      <td>1</td>\n",
       "      <td>2000</td>\n",
       "    </tr>\n",
       "    <tr>\n",
       "      <th>654487</th>\n",
       "      <td>77084</td>\n",
       "      <td>53.0</td>\n",
       "      <td>NaN</td>\n",
       "      <td>NaN</td>\n",
       "      <td>45000.0</td>\n",
       "      <td>58200.0</td>\n",
       "      <td>94300.0</td>\n",
       "      <td>NaN</td>\n",
       "      <td>40800.0</td>\n",
       "      <td>105000.0</td>\n",
       "      <td>1</td>\n",
       "      <td>2000</td>\n",
       "    </tr>\n",
       "  </tbody>\n",
       "</table>\n",
       "</div>"
      ],
      "text/plain": [
       "        postal_code  median_sqft_value  percent_decreasing  \\\n",
       "654480        10025              360.0               28.40   \n",
       "654481        60657              243.0                7.36   \n",
       "654482        10023              535.0               21.09   \n",
       "654484        60614              278.0                9.57   \n",
       "654487        77084               53.0                 NaN   \n",
       "\n",
       "        percent_increasing  zhvi_1bed  zhvi_2bed  zhvi_3bed  zri_sqft_value  \\\n",
       "654480               68.48        NaN        NaN        NaN             NaN   \n",
       "654481               91.13        NaN   352900.0   397700.0             NaN   \n",
       "654482               74.96        NaN        NaN        NaN             NaN   \n",
       "654484               87.80        NaN   353100.0   520700.0             NaN   \n",
       "654487                 NaN    45000.0    58200.0    94300.0             NaN   \n",
       "\n",
       "        zhvi_condo  zhvi_singlefam  month  year  \n",
       "654480    312800.0             NaN      1  2000  \n",
       "654481    194900.0        516800.0      1  2000  \n",
       "654482    520900.0             NaN      1  2000  \n",
       "654484    218600.0        699700.0      1  2000  \n",
       "654487     40800.0        105000.0      1  2000  "
      ]
     },
     "execution_count": 36,
     "metadata": {},
     "output_type": "execute_result"
    }
   ],
   "source": [
    "# Export\n",
    "df_zillow.to_csv(\"~/real_estate/data/v4/zillow_zipcode_data.csv\", index=False)\n",
    "\n",
    "df_zillow.head()"
   ]
  }
 ],
 "metadata": {
  "kernelspec": {
   "display_name": "Python 3",
   "language": "python",
   "name": "python3"
  },
  "language_info": {
   "codemirror_mode": {
    "name": "ipython",
    "version": 3
   },
   "file_extension": ".py",
   "mimetype": "text/x-python",
   "name": "python",
   "nbconvert_exporter": "python",
   "pygments_lexer": "ipython3",
   "version": "3.5.4"
  }
 },
 "nbformat": 4,
 "nbformat_minor": 0
}
