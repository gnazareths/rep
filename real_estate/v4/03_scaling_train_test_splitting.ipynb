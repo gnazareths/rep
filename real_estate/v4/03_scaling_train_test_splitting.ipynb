{
 "cells": [
  {
   "cell_type": "code",
   "execution_count": 1,
   "metadata": {
    "collapsed": false
   },
   "outputs": [],
   "source": [
    "import pandas as pd\n",
    "import matplotlib.pyplot as plt\n",
    "\n",
    "from helpers import *\n",
    "from sklearn.preprocessing import MinMaxScaler, StandardScaler\n",
    "from sklearn.externals import joblib\n",
    "from sklearn.model_selection import train_test_split\n",
    "\n",
    "% matplotlib inline"
   ]
  },
  {
   "cell_type": "code",
   "execution_count": 2,
   "metadata": {
    "collapsed": false
   },
   "outputs": [],
   "source": [
    "# Import\n",
    "df = pd.read_csv(\"~/real_estate/data/v4/supervised/yelp_supervised_df.csv\")"
   ]
  },
  {
   "cell_type": "code",
   "execution_count": 3,
   "metadata": {
    "collapsed": false
   },
   "outputs": [],
   "source": [
    "current_time_features = [\n",
    "    \"90_day_treasury_bill_rate\", \"adult_count_lag\", \"bar_review_count\", \"coffee_review_count\", \n",
    "    \"mean_adjusted_income_lag\", \"mean_adjusted_income_with_dep_lag\", \"mean_fixed_mortgage_rate\",\n",
    "    \"mean_hourly_earnings_adj\", \"mean_mortgage_interest_hh_lag\", \"mean_rating\", \"mean_real_estate_taxes_hh_lag\",\n",
    "    \"median_sqft_value\", \"people_count_lag\", \"percent_decreasing\", \"percent_increasing\", \n",
    "    \"price_2_review_count\", \"price_3_review_count\", \"restaurant_review_count\", \"review_count\", \n",
    "    \"total_nonfarm_payroll\", \"zhvi_singlefam\", \"zri_sqft_value\", \"zhvi_condo\"\n",
    "]\n",
    "\n",
    "target = \"zhvi_condo_12_months\""
   ]
  },
  {
   "cell_type": "code",
   "execution_count": 5,
   "metadata": {
    "collapsed": false
   },
   "outputs": [
    {
     "name": "stdout",
     "output_type": "stream",
     "text": [
      "(25997, 92) (15527, 92)\n"
     ]
    }
   ],
   "source": [
    "print(df.shape, df.dropna().shape)"
   ]
  },
  {
   "cell_type": "code",
   "execution_count": 6,
   "metadata": {
    "collapsed": false
   },
   "outputs": [],
   "source": [
    "df = df.dropna()"
   ]
  },
  {
   "cell_type": "code",
   "execution_count": 7,
   "metadata": {
    "collapsed": false
   },
   "outputs": [
    {
     "name": "stderr",
     "output_type": "stream",
     "text": [
      "/home/gnazareths/anaconda3/lib/python3.5/site-packages/ipykernel/__main__.py:6: SettingWithCopyWarning: \n",
      "A value is trying to be set on a copy of a slice from a DataFrame.\n",
      "Try using .loc[row_indexer,col_indexer] = value instead\n",
      "\n",
      "See the caveats in the documentation: http://pandas.pydata.org/pandas-docs/stable/indexing.html#indexing-view-versus-copy\n",
      "/home/gnazareths/anaconda3/lib/python3.5/site-packages/ipykernel/__main__.py:7: SettingWithCopyWarning: \n",
      "A value is trying to be set on a copy of a slice from a DataFrame.\n",
      "Try using .loc[row_indexer,col_indexer] = value instead\n",
      "\n",
      "See the caveats in the documentation: http://pandas.pydata.org/pandas-docs/stable/indexing.html#indexing-view-versus-copy\n",
      "/home/gnazareths/anaconda3/lib/python3.5/site-packages/ipykernel/__main__.py:9: SettingWithCopyWarning: \n",
      "A value is trying to be set on a copy of a slice from a DataFrame.\n",
      "Try using .loc[row_indexer,col_indexer] = value instead\n",
      "\n",
      "See the caveats in the documentation: http://pandas.pydata.org/pandas-docs/stable/indexing.html#indexing-view-versus-copy\n"
     ]
    }
   ],
   "source": [
    "for i in current_time_features:\n",
    "    mo = i+\"_mo\"\n",
    "    yr = i+\"_yr\"\n",
    "    change_mo = (df[i] + 0.1)/(df[mo] + 0.1) - 1\n",
    "    change_yr = (df[i] + 0.1)/(df[yr] + 0.1) - 1\n",
    "    df[mo] = change_mo\n",
    "    df[yr] = change_yr\n",
    "\n",
    "df[target] = df[target]/df[\"zhvi_condo\"] - 1"
   ]
  },
  {
   "cell_type": "code",
   "execution_count": 8,
   "metadata": {
    "collapsed": false
   },
   "outputs": [
    {
     "name": "stderr",
     "output_type": "stream",
     "text": [
      "/home/gnazareths/anaconda3/lib/python3.5/site-packages/ipykernel/__main__.py:6: SettingWithCopyWarning: \n",
      "A value is trying to be set on a copy of a slice from a DataFrame.\n",
      "Try using .loc[row_indexer,col_indexer] = value instead\n",
      "\n",
      "See the caveats in the documentation: http://pandas.pydata.org/pandas-docs/stable/indexing.html#indexing-view-versus-copy\n"
     ]
    }
   ],
   "source": [
    "log_columns = [\"median_sqft_value\",\"zri_sqft_value\",\"zhvi_condo\",\"zhvi_singlefam\",\"people_count_lag\",\n",
    "               \"adult_count_lag\",\"mean_adjusted_income_lag\",\"mean_adjusted_income_with_dep_lag\",\n",
    "               \"mean_real_estate_taxes_hh_lag\",\"mean_mortgage_interest_hh_lag\"]\n",
    "\n",
    "for i in log_columns:\n",
    "    df[i] = log_with_zeros(df[i].values)\n",
    "    df = df.rename(columns={i:i+\"_log\"})"
   ]
  },
  {
   "cell_type": "code",
   "execution_count": 9,
   "metadata": {
    "collapsed": true
   },
   "outputs": [],
   "source": [
    "columns = ['postal_code',\n",
    "           '90_day_treasury_bill_rate',\n",
    "           'mean_adjusted_income_lag_log', \n",
    "           'mean_adjusted_income_with_dep_lag_log', \n",
    "           'mean_fixed_mortgage_rate', \n",
    "           'mean_hourly_earnings_adj', \n",
    "           'mean_mortgage_interest_hh_lag_log',\n",
    "           'mean_real_estate_taxes_hh_lag_log', \n",
    "           'mean_rating',\n",
    "           'median_sqft_value_log', \n",
    "           'month', \n",
    "           'people_count_lag_log', \n",
    "           'percent_decreasing', \n",
    "           'percent_increasing', \n",
    "           'price_2_review_count', \n",
    "           'price_3_review_count', \n",
    "           'bar_review_count',\n",
    "           'coffee_review_count',\n",
    "           'restaurant_review_count', \n",
    "           'review_count', \n",
    "           'total_nonfarm_payroll', \n",
    "           'year', \n",
    "           'zhvi_condo_log', \n",
    "           'zhvi_singlefam_log', \n",
    "           'zri_sqft_value_log', \n",
    "           'adult_count_lag_mo', \n",
    "           'bar_review_count_mo', \n",
    "           'mean_mortgage_interest_hh_lag_mo', \n",
    "           'mean_fixed_mortgage_rate_mo', \n",
    "           'percent_decreasing_mo', \n",
    "           'zhvi_singlefam_mo', \n",
    "           'mean_adjusted_income_with_dep_lag_mo', \n",
    "           'restaurant_review_count_mo', \n",
    "           'zri_sqft_value_mo', \n",
    "           'percent_increasing_mo', \n",
    "           '90_day_treasury_bill_rate_mo', \n",
    "           'total_nonfarm_payroll_mo', \n",
    "           'mean_adjusted_income_lag_mo', \n",
    "           'mean_real_estate_taxes_hh_lag_mo', \n",
    "           'mean_hourly_earnings_adj_mo', \n",
    "           'review_count_mo', \n",
    "           'mean_rating_mo', \n",
    "           'people_count_lag_mo', \n",
    "           'price_3_review_count_mo', \n",
    "           'zhvi_condo_mo', \n",
    "           'coffee_review_count_mo', \n",
    "           'median_sqft_value_mo', \n",
    "           'price_2_review_count_mo', \n",
    "           'percent_decreasing_yr', \n",
    "           'coffee_review_count_yr', \n",
    "           'price_3_review_count_yr', \n",
    "           'price_2_review_count_yr', \n",
    "           'percent_increasing_yr', \n",
    "           'adult_count_lag_yr', \n",
    "           'mean_fixed_mortgage_rate_yr', \n",
    "           'mean_adjusted_income_lag_yr', \n",
    "           'zhvi_singlefam_yr', \n",
    "           'zri_sqft_value_yr', \n",
    "           'restaurant_review_count_yr', \n",
    "           'zhvi_condo_yr', \n",
    "           'mean_mortgage_interest_hh_lag_yr', \n",
    "           'total_nonfarm_payroll_yr', \n",
    "           'people_count_lag_yr', \n",
    "           'review_count_yr', \n",
    "           'mean_hourly_earnings_adj_yr', \n",
    "           'mean_rating_yr', \n",
    "           'bar_review_count_yr', \n",
    "           'median_sqft_value_yr', \n",
    "           '90_day_treasury_bill_rate_yr', \n",
    "           'mean_real_estate_taxes_hh_lag_yr', \n",
    "           'mean_adjusted_income_with_dep_lag_yr', \n",
    "           'zhvi_condo_12_months']\n",
    "\n",
    "df = df[columns]"
   ]
  },
  {
   "cell_type": "code",
   "execution_count": 10,
   "metadata": {
    "collapsed": true
   },
   "outputs": [],
   "source": [
    "train_df = df.loc[df[\"year\"] < 2017]\n",
    "test_df = df.loc[df[\"year\"] == 2017]\n",
    "\n",
    "features = df.columns[1:-1]\n",
    "target = \"zhvi_condo_12_months\""
   ]
  },
  {
   "cell_type": "code",
   "execution_count": 11,
   "metadata": {
    "collapsed": false
   },
   "outputs": [
    {
     "data": {
      "text/html": [
       "<div>\n",
       "<style scoped>\n",
       "    .dataframe tbody tr th:only-of-type {\n",
       "        vertical-align: middle;\n",
       "    }\n",
       "\n",
       "    .dataframe tbody tr th {\n",
       "        vertical-align: top;\n",
       "    }\n",
       "\n",
       "    .dataframe thead th {\n",
       "        text-align: right;\n",
       "    }\n",
       "</style>\n",
       "<table border=\"1\" class=\"dataframe\">\n",
       "  <thead>\n",
       "    <tr style=\"text-align: right;\">\n",
       "      <th></th>\n",
       "      <th>postal_code</th>\n",
       "      <th>90_day_treasury_bill_rate</th>\n",
       "      <th>mean_adjusted_income_lag_log</th>\n",
       "      <th>mean_adjusted_income_with_dep_lag_log</th>\n",
       "      <th>mean_fixed_mortgage_rate</th>\n",
       "      <th>mean_hourly_earnings_adj</th>\n",
       "      <th>mean_mortgage_interest_hh_lag_log</th>\n",
       "      <th>mean_real_estate_taxes_hh_lag_log</th>\n",
       "      <th>mean_rating</th>\n",
       "      <th>median_sqft_value_log</th>\n",
       "      <th>...</th>\n",
       "      <th>people_count_lag_yr</th>\n",
       "      <th>review_count_yr</th>\n",
       "      <th>mean_hourly_earnings_adj_yr</th>\n",
       "      <th>mean_rating_yr</th>\n",
       "      <th>bar_review_count_yr</th>\n",
       "      <th>median_sqft_value_yr</th>\n",
       "      <th>90_day_treasury_bill_rate_yr</th>\n",
       "      <th>mean_real_estate_taxes_hh_lag_yr</th>\n",
       "      <th>mean_adjusted_income_with_dep_lag_yr</th>\n",
       "      <th>zhvi_condo_12_months</th>\n",
       "    </tr>\n",
       "  </thead>\n",
       "  <tbody>\n",
       "    <tr>\n",
       "      <th>115</th>\n",
       "      <td>8054</td>\n",
       "      <td>0.04</td>\n",
       "      <td>4.076772</td>\n",
       "      <td>3.74638</td>\n",
       "      <td>3.536</td>\n",
       "      <td>23.89</td>\n",
       "      <td>1.428389</td>\n",
       "      <td>1.261144</td>\n",
       "      <td>3.0</td>\n",
       "      <td>4.812184</td>\n",
       "      <td>...</td>\n",
       "      <td>0.010503</td>\n",
       "      <td>0.909091</td>\n",
       "      <td>0.021286</td>\n",
       "      <td>-0.392157</td>\n",
       "      <td>0.0</td>\n",
       "      <td>-0.023791</td>\n",
       "      <td>-0.263158</td>\n",
       "      <td>-0.029478</td>\n",
       "      <td>0.020493</td>\n",
       "      <td>-0.010332</td>\n",
       "    </tr>\n",
       "    <tr>\n",
       "      <th>116</th>\n",
       "      <td>8054</td>\n",
       "      <td>0.05</td>\n",
       "      <td>4.076772</td>\n",
       "      <td>3.74638</td>\n",
       "      <td>4.070</td>\n",
       "      <td>23.96</td>\n",
       "      <td>1.428389</td>\n",
       "      <td>1.261144</td>\n",
       "      <td>3.0</td>\n",
       "      <td>4.812184</td>\n",
       "      <td>...</td>\n",
       "      <td>0.010503</td>\n",
       "      <td>0.909091</td>\n",
       "      <td>0.021222</td>\n",
       "      <td>-0.392157</td>\n",
       "      <td>0.0</td>\n",
       "      <td>-0.015987</td>\n",
       "      <td>-0.210526</td>\n",
       "      <td>-0.029478</td>\n",
       "      <td>0.020493</td>\n",
       "      <td>-0.005904</td>\n",
       "    </tr>\n",
       "    <tr>\n",
       "      <th>117</th>\n",
       "      <td>8054</td>\n",
       "      <td>0.04</td>\n",
       "      <td>4.076772</td>\n",
       "      <td>3.74638</td>\n",
       "      <td>4.370</td>\n",
       "      <td>23.99</td>\n",
       "      <td>1.428389</td>\n",
       "      <td>1.261144</td>\n",
       "      <td>3.0</td>\n",
       "      <td>4.820282</td>\n",
       "      <td>...</td>\n",
       "      <td>0.010503</td>\n",
       "      <td>0.909091</td>\n",
       "      <td>0.020763</td>\n",
       "      <td>-0.392157</td>\n",
       "      <td>0.0</td>\n",
       "      <td>0.000000</td>\n",
       "      <td>-0.300000</td>\n",
       "      <td>-0.029478</td>\n",
       "      <td>0.020493</td>\n",
       "      <td>-0.008798</td>\n",
       "    </tr>\n",
       "    <tr>\n",
       "      <th>118</th>\n",
       "      <td>8054</td>\n",
       "      <td>0.04</td>\n",
       "      <td>4.076772</td>\n",
       "      <td>3.74638</td>\n",
       "      <td>4.456</td>\n",
       "      <td>24.02</td>\n",
       "      <td>1.428389</td>\n",
       "      <td>1.261144</td>\n",
       "      <td>3.0</td>\n",
       "      <td>4.828314</td>\n",
       "      <td>...</td>\n",
       "      <td>0.010503</td>\n",
       "      <td>0.909091</td>\n",
       "      <td>0.022467</td>\n",
       "      <td>-0.392157</td>\n",
       "      <td>0.0</td>\n",
       "      <td>0.008058</td>\n",
       "      <td>-0.300000</td>\n",
       "      <td>-0.029478</td>\n",
       "      <td>0.020493</td>\n",
       "      <td>-0.008047</td>\n",
       "    </tr>\n",
       "    <tr>\n",
       "      <th>119</th>\n",
       "      <td>8054</td>\n",
       "      <td>0.02</td>\n",
       "      <td>4.076772</td>\n",
       "      <td>3.74638</td>\n",
       "      <td>4.490</td>\n",
       "      <td>24.05</td>\n",
       "      <td>1.428389</td>\n",
       "      <td>1.261144</td>\n",
       "      <td>3.0</td>\n",
       "      <td>4.836282</td>\n",
       "      <td>...</td>\n",
       "      <td>0.010503</td>\n",
       "      <td>0.909091</td>\n",
       "      <td>0.020279</td>\n",
       "      <td>-0.392157</td>\n",
       "      <td>0.0</td>\n",
       "      <td>0.016116</td>\n",
       "      <td>-0.428571</td>\n",
       "      <td>-0.029478</td>\n",
       "      <td>0.020493</td>\n",
       "      <td>-0.005857</td>\n",
       "    </tr>\n",
       "  </tbody>\n",
       "</table>\n",
       "<p>5 rows × 72 columns</p>\n",
       "</div>"
      ],
      "text/plain": [
       "     postal_code  90_day_treasury_bill_rate  mean_adjusted_income_lag_log  \\\n",
       "115         8054                       0.04                      4.076772   \n",
       "116         8054                       0.05                      4.076772   \n",
       "117         8054                       0.04                      4.076772   \n",
       "118         8054                       0.04                      4.076772   \n",
       "119         8054                       0.02                      4.076772   \n",
       "\n",
       "     mean_adjusted_income_with_dep_lag_log  mean_fixed_mortgage_rate  \\\n",
       "115                                3.74638                     3.536   \n",
       "116                                3.74638                     4.070   \n",
       "117                                3.74638                     4.370   \n",
       "118                                3.74638                     4.456   \n",
       "119                                3.74638                     4.490   \n",
       "\n",
       "     mean_hourly_earnings_adj  mean_mortgage_interest_hh_lag_log  \\\n",
       "115                     23.89                           1.428389   \n",
       "116                     23.96                           1.428389   \n",
       "117                     23.99                           1.428389   \n",
       "118                     24.02                           1.428389   \n",
       "119                     24.05                           1.428389   \n",
       "\n",
       "     mean_real_estate_taxes_hh_lag_log  mean_rating  median_sqft_value_log  \\\n",
       "115                           1.261144          3.0               4.812184   \n",
       "116                           1.261144          3.0               4.812184   \n",
       "117                           1.261144          3.0               4.820282   \n",
       "118                           1.261144          3.0               4.828314   \n",
       "119                           1.261144          3.0               4.836282   \n",
       "\n",
       "             ...           people_count_lag_yr  review_count_yr  \\\n",
       "115          ...                      0.010503         0.909091   \n",
       "116          ...                      0.010503         0.909091   \n",
       "117          ...                      0.010503         0.909091   \n",
       "118          ...                      0.010503         0.909091   \n",
       "119          ...                      0.010503         0.909091   \n",
       "\n",
       "     mean_hourly_earnings_adj_yr  mean_rating_yr  bar_review_count_yr  \\\n",
       "115                     0.021286       -0.392157                  0.0   \n",
       "116                     0.021222       -0.392157                  0.0   \n",
       "117                     0.020763       -0.392157                  0.0   \n",
       "118                     0.022467       -0.392157                  0.0   \n",
       "119                     0.020279       -0.392157                  0.0   \n",
       "\n",
       "     median_sqft_value_yr  90_day_treasury_bill_rate_yr  \\\n",
       "115             -0.023791                     -0.263158   \n",
       "116             -0.015987                     -0.210526   \n",
       "117              0.000000                     -0.300000   \n",
       "118              0.008058                     -0.300000   \n",
       "119              0.016116                     -0.428571   \n",
       "\n",
       "     mean_real_estate_taxes_hh_lag_yr  mean_adjusted_income_with_dep_lag_yr  \\\n",
       "115                         -0.029478                              0.020493   \n",
       "116                         -0.029478                              0.020493   \n",
       "117                         -0.029478                              0.020493   \n",
       "118                         -0.029478                              0.020493   \n",
       "119                         -0.029478                              0.020493   \n",
       "\n",
       "     zhvi_condo_12_months  \n",
       "115             -0.010332  \n",
       "116             -0.005904  \n",
       "117             -0.008798  \n",
       "118             -0.008047  \n",
       "119             -0.005857  \n",
       "\n",
       "[5 rows x 72 columns]"
      ]
     },
     "execution_count": 11,
     "metadata": {},
     "output_type": "execute_result"
    }
   ],
   "source": [
    "df.head()"
   ]
  },
  {
   "cell_type": "code",
   "execution_count": 12,
   "metadata": {
    "collapsed": false
   },
   "outputs": [],
   "source": [
    "# MinMax scale df\n",
    "scaler = MinMaxScaler()\n",
    "scaler.fit(train_df[features].values)\n",
    "\n",
    "train_df_scaled = scaler.transform(train_df[features].values)\n",
    "train_df_scaled = pd.DataFrame(train_df_scaled, columns=features)\n",
    "train_df_scaled[\"target\"] = train_df[target].values\n",
    "train_df_scaled[\"postal_code\"] = train_df[\"postal_code\"].values\n",
    "\n",
    "test_df_scaled = scaler.transform(test_df[features].values)\n",
    "test_df_scaled = pd.DataFrame(test_df_scaled, columns=features)\n",
    "test_df_scaled[\"target\"] = test_df[target].values\n",
    "test_df_scaled[\"postal_code\"] = test_df[\"postal_code\"].values"
   ]
  },
  {
   "cell_type": "code",
   "execution_count": 14,
   "metadata": {
    "collapsed": false
   },
   "outputs": [
    {
     "data": {
      "text/plain": [
       "['/home/gnazareths/real_estate/data/v4/final/yelp/yelp_scaler.pkl']"
      ]
     },
     "execution_count": 14,
     "metadata": {},
     "output_type": "execute_result"
    }
   ],
   "source": [
    "# Export\n",
    "train_df_scaled.to_csv(\"~/real_estate/data/v4/final/yelp/yelp_train_df.csv\",index=False)\n",
    "test_df_scaled.to_csv(\"~/real_estate/data/v4/final/yelp/yelp_test_df.csv\",index=False)\n",
    "joblib.dump(scaler, \"/home/gnazareths/real_estate/data/v4/final/yelp/yelp_scaler.pkl\")"
   ]
  }
 ],
 "metadata": {
  "kernelspec": {
   "display_name": "Python 3",
   "language": "python",
   "name": "python3"
  },
  "language_info": {
   "codemirror_mode": {
    "name": "ipython",
    "version": 3
   },
   "file_extension": ".py",
   "mimetype": "text/x-python",
   "name": "python",
   "nbconvert_exporter": "python",
   "pygments_lexer": "ipython3",
   "version": "3.5.4"
  }
 },
 "nbformat": 4,
 "nbformat_minor": 0
}
