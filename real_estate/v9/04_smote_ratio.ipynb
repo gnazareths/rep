{
 "cells": [
  {
   "cell_type": "code",
   "execution_count": 1,
   "metadata": {
    "collapsed": true
   },
   "outputs": [],
   "source": [
    "import pandas as pd\n",
    "import numpy as np\n",
    "import matplotlib.pyplot as plt\n",
    "\n",
    "from imblearn.over_sampling import SMOTE\n",
    "\n",
    "% matplotlib inline"
   ]
  },
  {
   "cell_type": "code",
   "execution_count": 2,
   "metadata": {
    "collapsed": false
   },
   "outputs": [],
   "source": [
    "# Load data\n",
    "train_df = pd.read_csv(\"~/real_estate/data/v9/train_df.csv\")\n",
    "\n",
    "smote_features = train_df.columns[:-1]"
   ]
  },
  {
   "cell_type": "code",
   "execution_count": 3,
   "metadata": {
    "collapsed": false
   },
   "outputs": [],
   "source": [
    "scaled_target = (train_df[\"target\"].values - min(train_df[\"target\"]))/(\n",
    "    max(train_df[\"target\"]) - min(train_df[\"target\"]))\n",
    "\n",
    "target_groups = []\n",
    "\n",
    "for i in scaled_target:\n",
    "    target = int(np.floor(i*30))\n",
    "    target_groups.append(target)"
   ]
  },
  {
   "cell_type": "code",
   "execution_count": 4,
   "metadata": {
    "collapsed": true
   },
   "outputs": [],
   "source": [
    "indices_first = [i for i, x in enumerate(target_groups) if x in [0,1]]\n",
    "indices_last = [i for i, x in enumerate(target_groups) if x in [26,27,28,29,30]]\n",
    "\n",
    "for i in indices_first:\n",
    "    target_groups[i] = 2\n",
    "for i in indices_last:\n",
    "    target_groups[i] = 25"
   ]
  },
  {
   "cell_type": "code",
   "execution_count": 6,
   "metadata": {
    "collapsed": false
   },
   "outputs": [],
   "source": [
    "ratios = {}\n",
    "len_target_groups = len(target_groups)\n",
    "len_majority_group = 2420\n",
    "majority_group_fraction = len_majority_group/len_target_groups\n",
    "\n",
    "for i in range(2,26):\n",
    "    len_group = len([j for j in target_groups if j == i])\n",
    "    group_fraction = len_group/len_majority_group\n",
    "    difference = 1 - group_fraction\n",
    "    ratio_ = 1 - difference/2\n",
    "    ratios[i] = int(ratio_*len_majority_group)"
   ]
  },
  {
   "cell_type": "code",
   "execution_count": 7,
   "metadata": {
    "collapsed": false
   },
   "outputs": [],
   "source": [
    "smote = SMOTE(k_neighbors=5, sampling_strategy=ratios, random_state=42)\n",
    "X_res, y_res = smote.fit_resample(train_df[smote_features].values, target_groups)\n",
    "X_res = pd.DataFrame(X_res, columns=smote_features)"
   ]
  },
  {
   "cell_type": "code",
   "execution_count": 8,
   "metadata": {
    "collapsed": false
   },
   "outputs": [
    {
     "data": {
      "image/png": "[encoded data removed]",
      "text/plain": [
       "<Figure size 600x400 with 1 Axes>"
      ]
     },
     "metadata": {},
     "output_type": "display_data"
    }
   ],
   "source": [
    "plt.hist(train_df[\"target\"], bins=35)\n",
    "plt.show()"
   ]
  },
  {
   "cell_type": "code",
   "execution_count": 9,
   "metadata": {
    "collapsed": false
   },
   "outputs": [
    {
     "data": {
      "image/png": "[encoded data removed]",
      "text/plain": [
       "<Figure size 600x400 with 1 Axes>"
      ]
     },
     "metadata": {},
     "output_type": "display_data"
    }
   ],
   "source": [
    "plt.hist(X_res[\"target\"], bins=22)\n",
    "plt.show()"
   ]
  },
  {
   "cell_type": "code",
   "execution_count": 10,
   "metadata": {
    "collapsed": true
   },
   "outputs": [],
   "source": [
    "X_res.to_csv(\"~/real_estate/data/v9/train_df_smote_ratio.csv\", index=False)"
   ]
  }
 ],
 "metadata": {
  "kernelspec": {
   "display_name": "Python 3",
   "language": "python",
   "name": "python3"
  },
  "language_info": {
   "codemirror_mode": {
    "name": "ipython",
    "version": 3
   },
   "file_extension": ".py",
   "mimetype": "text/x-python",
   "name": "python",
   "nbconvert_exporter": "python",
   "pygments_lexer": "ipython3",
   "version": "3.5.4"
  }
 },
 "nbformat": 4,
 "nbformat_minor": 0
}
