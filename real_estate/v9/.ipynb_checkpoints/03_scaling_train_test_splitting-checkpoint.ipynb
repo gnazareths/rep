{
 "cells": [
  {
   "cell_type": "code",
   "execution_count": 21,
   "metadata": {
    "collapsed": false
   },
   "outputs": [],
   "source": [
    "import pandas as pd\n",
    "import matplotlib.pyplot as plt\n",
    "\n",
    "from helpers import *\n",
    "from sklearn.preprocessing import MinMaxScaler, StandardScaler\n",
    "from sklearn.externals import joblib\n",
    "from sklearn.model_selection import train_test_split\n",
    "\n",
    "% matplotlib inline"
   ]
  },
  {
   "cell_type": "code",
   "execution_count": 22,
   "metadata": {
    "collapsed": false
   },
   "outputs": [],
   "source": [
    "# Import\n",
    "df = pd.read_csv(\"~/real_estate/data/v9/supervised_df.csv\")"
   ]
  },
  {
   "cell_type": "code",
   "execution_count": 23,
   "metadata": {
    "collapsed": false
   },
   "outputs": [],
   "source": [
    "current_time_features = [\n",
    "    \"90_day_treasury_bill_rate\", \"adult_count_lag\",\n",
    "    \"mean_adjusted_income_lag\", \"mean_adjusted_income_with_dep_lag\", \"mean_fixed_mortgage_rate\",\n",
    "    \"mean_hourly_earnings_adj\", \"mean_mortgage_interest_hh_lag\", \"mean_real_estate_taxes_hh_lag\",\n",
    "    \"median_sqft_value\", \"people_count_lag\", \"percent_decreasing\", \"percent_increasing\", \n",
    "    \"total_nonfarm_payroll\", \"zhvi_singlefam\", \"zri_sqft_value\", \"zhvi_condo\"\n",
    "]\n",
    "\n",
    "target = \"zhvi_condo_12_months\""
   ]
  },
  {
   "cell_type": "code",
   "execution_count": 24,
   "metadata": {
    "collapsed": false
   },
   "outputs": [],
   "source": [
    "df = df.dropna()"
   ]
  },
  {
   "cell_type": "code",
   "execution_count": 25,
   "metadata": {
    "collapsed": false
   },
   "outputs": [],
   "source": [
    "for i in current_time_features:\n",
    "    mo = i+\"_mo\"\n",
    "    yr = i+\"_yr\"\n",
    "    change_mo = (df[i] + 0.1)/(df[mo] + 0.1) - 1\n",
    "    change_yr = (df[i] + 0.1)/(df[yr] + 0.1) - 1\n",
    "    df[mo] = change_mo\n",
    "    df[yr] = change_yr\n",
    "\n",
    "df[target] = df[target]/df[\"zhvi_condo\"] - 1"
   ]
  },
  {
   "cell_type": "code",
   "execution_count": 26,
   "metadata": {
    "collapsed": false
   },
   "outputs": [
    {
     "name": "stdout",
     "output_type": "stream",
     "text": [
      "(17256, 71)\n"
     ]
    }
   ],
   "source": [
    "print(df.shape)"
   ]
  },
  {
   "cell_type": "code",
   "execution_count": 27,
   "metadata": {
    "collapsed": false
   },
   "outputs": [],
   "source": [
    "log_columns = [\"median_sqft_value\",\"zri_sqft_value\",\"zhvi_condo\",\"zhvi_singlefam\",\"people_count_lag\",\n",
    "               \"adult_count_lag\",\"mean_adjusted_income_lag\",\"mean_adjusted_income_with_dep_lag\",\n",
    "               \"mean_real_estate_taxes_hh_lag\",\"mean_mortgage_interest_hh_lag\"]\n",
    "\n",
    "for i in log_columns:\n",
    "    df[i] = log_with_zeros(df[i].values)\n",
    "    df = df.rename(columns={i:i+\"_log\"})"
   ]
  },
  {
   "cell_type": "code",
   "execution_count": 28,
   "metadata": {
    "collapsed": true
   },
   "outputs": [],
   "source": [
    "columns = ['postal_code',\n",
    "           '90_day_treasury_bill_rate',\n",
    "           'mean_adjusted_income_lag_log', \n",
    "           'mean_adjusted_income_with_dep_lag_log', \n",
    "           'mean_fixed_mortgage_rate', \n",
    "           'mean_hourly_earnings_adj', \n",
    "           'mean_mortgage_interest_hh_lag_log',\n",
    "           'mean_real_estate_taxes_hh_lag_log', \n",
    "           'median_sqft_value_log', \n",
    "           'month', \n",
    "           'people_count_lag_log', \n",
    "           'percent_decreasing', \n",
    "           'percent_increasing', \n",
    "           'total_nonfarm_payroll', \n",
    "           'year', \n",
    "           'zhvi_condo_log', \n",
    "           'zhvi_singlefam_log', \n",
    "           'zri_sqft_value_log', \n",
    "           'adult_count_lag_mo', \n",
    "           'mean_mortgage_interest_hh_lag_mo', \n",
    "           'mean_fixed_mortgage_rate_mo', \n",
    "           'percent_decreasing_mo', \n",
    "           'zhvi_singlefam_mo', \n",
    "           'mean_adjusted_income_with_dep_lag_mo', \n",
    "           'zri_sqft_value_mo', \n",
    "           'percent_increasing_mo', \n",
    "           '90_day_treasury_bill_rate_mo', \n",
    "           'total_nonfarm_payroll_mo', \n",
    "           'mean_adjusted_income_lag_mo', \n",
    "           'mean_real_estate_taxes_hh_lag_mo', \n",
    "           'mean_hourly_earnings_adj_mo', \n",
    "           'people_count_lag_mo', \n",
    "           'zhvi_condo_mo', \n",
    "           'median_sqft_value_mo', \n",
    "           'percent_decreasing_yr', \n",
    "           'percent_increasing_yr', \n",
    "           'adult_count_lag_yr', \n",
    "           'mean_fixed_mortgage_rate_yr', \n",
    "           'mean_adjusted_income_lag_yr', \n",
    "           'zhvi_singlefam_yr', \n",
    "           'zri_sqft_value_yr', \n",
    "           'zhvi_condo_yr', \n",
    "           'mean_mortgage_interest_hh_lag_yr', \n",
    "           'total_nonfarm_payroll_yr', \n",
    "           'people_count_lag_yr', \n",
    "           'mean_hourly_earnings_adj_yr', \n",
    "           'median_sqft_value_yr', \n",
    "           '90_day_treasury_bill_rate_yr', \n",
    "           'mean_real_estate_taxes_hh_lag_yr', \n",
    "           'mean_adjusted_income_with_dep_lag_yr', \n",
    "           'zhvi_condo_12_months']\n",
    "\n",
    "df = df[columns]"
   ]
  },
  {
   "cell_type": "code",
   "execution_count": 31,
   "metadata": {
    "collapsed": true
   },
   "outputs": [],
   "source": [
    "train_df = df.loc[df[\"year\"] < 2017]\n",
    "test_df = df.loc[df[\"year\"] == 2017]\n",
    "\n",
    "features = df.columns[1:-1]\n",
    "target = \"zhvi_condo_12_months\""
   ]
  },
  {
   "cell_type": "code",
   "execution_count": 32,
   "metadata": {
    "collapsed": false
   },
   "outputs": [
    {
     "data": {
      "text/html": [
       "<div>\n",
       "<style scoped>\n",
       "    .dataframe tbody tr th:only-of-type {\n",
       "        vertical-align: middle;\n",
       "    }\n",
       "\n",
       "    .dataframe tbody tr th {\n",
       "        vertical-align: top;\n",
       "    }\n",
       "\n",
       "    .dataframe thead th {\n",
       "        text-align: right;\n",
       "    }\n",
       "</style>\n",
       "<table border=\"1\" class=\"dataframe\">\n",
       "  <thead>\n",
       "    <tr style=\"text-align: right;\">\n",
       "      <th></th>\n",
       "      <th>postal_code</th>\n",
       "      <th>90_day_treasury_bill_rate</th>\n",
       "      <th>mean_adjusted_income_lag_log</th>\n",
       "      <th>mean_adjusted_income_with_dep_lag_log</th>\n",
       "      <th>mean_fixed_mortgage_rate</th>\n",
       "      <th>mean_hourly_earnings_adj</th>\n",
       "      <th>mean_mortgage_interest_hh_lag_log</th>\n",
       "      <th>mean_real_estate_taxes_hh_lag_log</th>\n",
       "      <th>median_sqft_value_log</th>\n",
       "      <th>month</th>\n",
       "      <th>...</th>\n",
       "      <th>zhvi_condo_yr</th>\n",
       "      <th>mean_mortgage_interest_hh_lag_yr</th>\n",
       "      <th>total_nonfarm_payroll_yr</th>\n",
       "      <th>people_count_lag_yr</th>\n",
       "      <th>mean_hourly_earnings_adj_yr</th>\n",
       "      <th>median_sqft_value_yr</th>\n",
       "      <th>90_day_treasury_bill_rate_yr</th>\n",
       "      <th>mean_real_estate_taxes_hh_lag_yr</th>\n",
       "      <th>mean_adjusted_income_with_dep_lag_yr</th>\n",
       "      <th>zhvi_condo_12_months</th>\n",
       "    </tr>\n",
       "  </thead>\n",
       "  <tbody>\n",
       "    <tr>\n",
       "      <th>128</th>\n",
       "      <td>8054</td>\n",
       "      <td>0.01</td>\n",
       "      <td>4.016298</td>\n",
       "      <td>3.687483</td>\n",
       "      <td>3.9925</td>\n",
       "      <td>23.19</td>\n",
       "      <td>1.591174</td>\n",
       "      <td>1.23395</td>\n",
       "      <td>4.859812</td>\n",
       "      <td>11</td>\n",
       "      <td>...</td>\n",
       "      <td>-0.076402</td>\n",
       "      <td>-0.038169</td>\n",
       "      <td>0.015004</td>\n",
       "      <td>0.118929</td>\n",
       "      <td>0.019702</td>\n",
       "      <td>-0.065170</td>\n",
       "      <td>-0.541667</td>\n",
       "      <td>0.039071</td>\n",
       "      <td>-0.141369</td>\n",
       "      <td>-0.086057</td>\n",
       "    </tr>\n",
       "    <tr>\n",
       "      <th>129</th>\n",
       "      <td>8054</td>\n",
       "      <td>0.01</td>\n",
       "      <td>4.016298</td>\n",
       "      <td>3.687483</td>\n",
       "      <td>3.9580</td>\n",
       "      <td>23.23</td>\n",
       "      <td>1.591174</td>\n",
       "      <td>1.23395</td>\n",
       "      <td>4.859812</td>\n",
       "      <td>12</td>\n",
       "      <td>...</td>\n",
       "      <td>-0.070625</td>\n",
       "      <td>-0.038169</td>\n",
       "      <td>0.015974</td>\n",
       "      <td>0.118929</td>\n",
       "      <td>0.020114</td>\n",
       "      <td>-0.051433</td>\n",
       "      <td>-0.541667</td>\n",
       "      <td>0.039071</td>\n",
       "      <td>-0.141369</td>\n",
       "      <td>-0.075319</td>\n",
       "    </tr>\n",
       "    <tr>\n",
       "      <th>130</th>\n",
       "      <td>8054</td>\n",
       "      <td>0.03</td>\n",
       "      <td>4.053280</td>\n",
       "      <td>3.726045</td>\n",
       "      <td>3.9150</td>\n",
       "      <td>23.26</td>\n",
       "      <td>1.528450</td>\n",
       "      <td>1.29190</td>\n",
       "      <td>4.852030</td>\n",
       "      <td>1</td>\n",
       "      <td>...</td>\n",
       "      <td>-0.073232</td>\n",
       "      <td>-0.059583</td>\n",
       "      <td>0.018292</td>\n",
       "      <td>0.004247</td>\n",
       "      <td>0.017422</td>\n",
       "      <td>-0.051813</td>\n",
       "      <td>-0.480000</td>\n",
       "      <td>0.057974</td>\n",
       "      <td>0.039217</td>\n",
       "      <td>-0.063351</td>\n",
       "    </tr>\n",
       "    <tr>\n",
       "      <th>131</th>\n",
       "      <td>8054</td>\n",
       "      <td>0.09</td>\n",
       "      <td>4.053280</td>\n",
       "      <td>3.726045</td>\n",
       "      <td>3.8900</td>\n",
       "      <td>23.28</td>\n",
       "      <td>1.528450</td>\n",
       "      <td>1.29190</td>\n",
       "      <td>4.844187</td>\n",
       "      <td>2</td>\n",
       "      <td>...</td>\n",
       "      <td>-0.082911</td>\n",
       "      <td>-0.059583</td>\n",
       "      <td>0.018656</td>\n",
       "      <td>0.004247</td>\n",
       "      <td>0.017849</td>\n",
       "      <td>-0.052200</td>\n",
       "      <td>-0.173913</td>\n",
       "      <td>0.057974</td>\n",
       "      <td>0.039217</td>\n",
       "      <td>-0.057281</td>\n",
       "    </tr>\n",
       "    <tr>\n",
       "      <th>132</th>\n",
       "      <td>8054</td>\n",
       "      <td>0.08</td>\n",
       "      <td>4.053280</td>\n",
       "      <td>3.726045</td>\n",
       "      <td>3.9540</td>\n",
       "      <td>23.36</td>\n",
       "      <td>1.528450</td>\n",
       "      <td>1.29190</td>\n",
       "      <td>4.844187</td>\n",
       "      <td>3</td>\n",
       "      <td>...</td>\n",
       "      <td>-0.094125</td>\n",
       "      <td>-0.059583</td>\n",
       "      <td>0.018696</td>\n",
       "      <td>0.004247</td>\n",
       "      <td>0.021332</td>\n",
       "      <td>-0.052200</td>\n",
       "      <td>-0.100000</td>\n",
       "      <td>0.057974</td>\n",
       "      <td>0.039217</td>\n",
       "      <td>-0.051604</td>\n",
       "    </tr>\n",
       "  </tbody>\n",
       "</table>\n",
       "<p>5 rows × 51 columns</p>\n",
       "</div>"
      ],
      "text/plain": [
       "     postal_code  90_day_treasury_bill_rate  mean_adjusted_income_lag_log  \\\n",
       "128         8054                       0.01                      4.016298   \n",
       "129         8054                       0.01                      4.016298   \n",
       "130         8054                       0.03                      4.053280   \n",
       "131         8054                       0.09                      4.053280   \n",
       "132         8054                       0.08                      4.053280   \n",
       "\n",
       "     mean_adjusted_income_with_dep_lag_log  mean_fixed_mortgage_rate  \\\n",
       "128                               3.687483                    3.9925   \n",
       "129                               3.687483                    3.9580   \n",
       "130                               3.726045                    3.9150   \n",
       "131                               3.726045                    3.8900   \n",
       "132                               3.726045                    3.9540   \n",
       "\n",
       "     mean_hourly_earnings_adj  mean_mortgage_interest_hh_lag_log  \\\n",
       "128                     23.19                           1.591174   \n",
       "129                     23.23                           1.591174   \n",
       "130                     23.26                           1.528450   \n",
       "131                     23.28                           1.528450   \n",
       "132                     23.36                           1.528450   \n",
       "\n",
       "     mean_real_estate_taxes_hh_lag_log  median_sqft_value_log  month  \\\n",
       "128                            1.23395               4.859812     11   \n",
       "129                            1.23395               4.859812     12   \n",
       "130                            1.29190               4.852030      1   \n",
       "131                            1.29190               4.844187      2   \n",
       "132                            1.29190               4.844187      3   \n",
       "\n",
       "             ...           zhvi_condo_yr  mean_mortgage_interest_hh_lag_yr  \\\n",
       "128          ...               -0.076402                         -0.038169   \n",
       "129          ...               -0.070625                         -0.038169   \n",
       "130          ...               -0.073232                         -0.059583   \n",
       "131          ...               -0.082911                         -0.059583   \n",
       "132          ...               -0.094125                         -0.059583   \n",
       "\n",
       "     total_nonfarm_payroll_yr  people_count_lag_yr  \\\n",
       "128                  0.015004             0.118929   \n",
       "129                  0.015974             0.118929   \n",
       "130                  0.018292             0.004247   \n",
       "131                  0.018656             0.004247   \n",
       "132                  0.018696             0.004247   \n",
       "\n",
       "     mean_hourly_earnings_adj_yr  median_sqft_value_yr  \\\n",
       "128                     0.019702             -0.065170   \n",
       "129                     0.020114             -0.051433   \n",
       "130                     0.017422             -0.051813   \n",
       "131                     0.017849             -0.052200   \n",
       "132                     0.021332             -0.052200   \n",
       "\n",
       "     90_day_treasury_bill_rate_yr  mean_real_estate_taxes_hh_lag_yr  \\\n",
       "128                     -0.541667                          0.039071   \n",
       "129                     -0.541667                          0.039071   \n",
       "130                     -0.480000                          0.057974   \n",
       "131                     -0.173913                          0.057974   \n",
       "132                     -0.100000                          0.057974   \n",
       "\n",
       "     mean_adjusted_income_with_dep_lag_yr  zhvi_condo_12_months  \n",
       "128                             -0.141369             -0.086057  \n",
       "129                             -0.141369             -0.075319  \n",
       "130                              0.039217             -0.063351  \n",
       "131                              0.039217             -0.057281  \n",
       "132                              0.039217             -0.051604  \n",
       "\n",
       "[5 rows x 51 columns]"
      ]
     },
     "execution_count": 32,
     "metadata": {},
     "output_type": "execute_result"
    }
   ],
   "source": [
    "df.head()"
   ]
  },
  {
   "cell_type": "code",
   "execution_count": 33,
   "metadata": {
    "collapsed": false
   },
   "outputs": [],
   "source": [
    "# MinMax scale df\n",
    "scaler = MinMaxScaler()\n",
    "scaler.fit(train_df[features].values)\n",
    "\n",
    "train_df_scaled = scaler.transform(train_df[features].values)\n",
    "train_df_scaled = pd.DataFrame(train_df_scaled, columns=features)\n",
    "train_df_scaled[\"target\"] = train_df[target].values\n",
    "train_df_scaled[\"postal_code\"] = train_df[\"postal_code\"].values\n",
    "\n",
    "test_df_scaled = scaler.transform(test_df[features].values)\n",
    "test_df_scaled = pd.DataFrame(test_df_scaled, columns=features)\n",
    "test_df_scaled[\"target\"] = test_df[target].values\n",
    "test_df_scaled[\"postal_code\"] = test_df[\"postal_code\"].values"
   ]
  },
  {
   "cell_type": "code",
   "execution_count": 34,
   "metadata": {
    "collapsed": false
   },
   "outputs": [
    {
     "data": {
      "text/plain": [
       "['/home/gnazareths/real_estate/data/v9/scaler.pkl']"
      ]
     },
     "execution_count": 34,
     "metadata": {},
     "output_type": "execute_result"
    }
   ],
   "source": [
    "# Export\n",
    "train_df_scaled.to_csv(\"~/real_estate/data/v9/train_df.csv\",index=False)\n",
    "test_df_scaled.to_csv(\"~/real_estate/data/v9/test_df.csv\",index=False)\n",
    "joblib.dump(scaler, \"/home/gnazareths/real_estate/data/v9/scaler.pkl\")"
   ]
  }
 ],
 "metadata": {
  "kernelspec": {
   "display_name": "Python 3",
   "language": "python",
   "name": "python3"
  },
  "language_info": {
   "codemirror_mode": {
    "name": "ipython",
    "version": 3
   },
   "file_extension": ".py",
   "mimetype": "text/x-python",
   "name": "python",
   "nbconvert_exporter": "python",
   "pygments_lexer": "ipython3",
   "version": "3.5.4"
  }
 },
 "nbformat": 4,
 "nbformat_minor": 0
}
