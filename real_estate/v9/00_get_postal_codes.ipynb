{
 "cells": [
  {
   "cell_type": "code",
   "execution_count": 1,
   "metadata": {
    "collapsed": true
   },
   "outputs": [],
   "source": [
    "import pandas as pd"
   ]
  },
  {
   "cell_type": "code",
   "execution_count": 2,
   "metadata": {
    "collapsed": false
   },
   "outputs": [],
   "source": [
    "df = pd.read_table(\"~/real_estate/data/raw/cbp/zbp10totals.txt\",sep=\",\")"
   ]
  },
  {
   "cell_type": "code",
   "execution_count": 3,
   "metadata": {
    "collapsed": false
   },
   "outputs": [],
   "source": [
    "county_df = df[[\"zip\",\"cty_name\",\"stabbr\"]]\n",
    "county_df = county_df.rename(columns={\"zip\":\"postal_code\",\n",
    "                                      \"cty_name\":\"county\",\n",
    "                                      \"stabbr\":\"state\"})\n",
    "county_df[\"county_state\"] = [str(i)+\" \"+str(j)for i,j in zip(df[\"cty_name\"].values, df[\"stabbr\"].values)]"
   ]
  },
  {
   "cell_type": "code",
   "execution_count": 15,
   "metadata": {
    "collapsed": true
   },
   "outputs": [],
   "source": [
    "counties = [\"LOS ANGELES CA\",\"COOK IL\",\"HARRIS TX\",\"MARICOPA AZ\",\"SAN DIEGO CA\",\n",
    "            \"ORANGE CA\",\"MIAMI-DADE FL\",\"KINGS NY\",\"DALLAS TX\",\"RIVERSIDE CA\",\n",
    "            \"QUEENS NY\",\"CLARK NV\",\"KING WA\",\"SAN BERNARDINO CA\",\"TARRANT TX\",\n",
    "            \"BEXAR TX\",\"SANTA CLARA CA\",\"BROWARD FL\",\"WAYNE MI\",\"NEW YORK NY\",\n",
    "            \"ALAMEDA CA\",\"MIDDLESEX MA\",\"PHILADELPHIA PA\",\"SACRAMENTO CA\",\"SUFFOLK NY\",\n",
    "            \"BRONX NY\",\"PALM BEACH FL\",\"HILLSBOROUGH FL\",\"NASSAU NY\",\"ORANGE FL\",\n",
    "            \"FRANKLIN OH\",\"HENNEPIN MN\",\"OAKLAND MI\",\"CUYAHOGA OH\",\"TRAVIS TX\",\n",
    "            \"ALLEGHENY PA\",\"FAIRFAX VA\",\"CONTRA COSTA CA\",\"SALT LAKE UT\", \n",
    "            \"MECKLENBURG NC\",\n",
    "            \"WAKE NC\",\"MONTGOMERY MD\",\"FULTON GA\",\"PIMA AZ\",\"SAINT LOUIS MO\",\"FRESNO CA\",\n",
    "            \"HONOLULU HI\",\"WESTCHESTER NY\",\"PINELLAS FL\",\"COLLIN TX\",\"MILWAUKEE WI\",\n",
    "            \"MARION IN\",\"FAIRFIELD CT\",\"BERGEN NJ\",\"DUVAL FL\",\"SHELBY TN\",\"DUPAGE IL\",\n",
    "            \"ERIE NY\",\"GWINNETT GA\",\"PRICE GEORGES MD\",\"HARTFORD CT\",\"KERN CA\",\n",
    "            \"SAN FRANCISCO CA\",\"PIERCE WA\",\"MACOMB MI\",\"HIDALGO TX\",\"NEW HAVEN CT\",\n",
    "            \"VENTURA CA\",\"MIDDLESEX NJ\",\"EL PASO TX\",\"DENTON TX\",\"BALTIMORE MD\",\n",
    "            \"WORCESTER MA\",\n",
    "            \"MONTGOMERY PA\",\"HAMILTON OH\",\"ESSEX NJ\",\"MULTNOMAH OR\",\"SNOHOMISH WA\",\n",
    "            \"SUFFOLK MA\",\n",
    "            \"OKLAHOMA OK\",\"ESSEX MA\",\"SAN MATEO CA\",\"JEFFERSON KY\",\"FORT BEND TX\",\n",
    "            \"COBB GA\",\n",
    "            \"DEKALB GA\",\"MONROE NY\",\"SAN JOAQUIN CA\",\"LEE FL\",\"DENVER CO\",\"LAKE FL\",\n",
    "            \"NORFOLK MA\",\n",
    "            \"EL PASO CO\",\"JACKSON MI\",\"DISTRICT OF COLUMBIA DC\",\"WILL IL\",\"HUDSON NJ\",\"DAVIDSON TN\",\n",
    "            \"POLK FL\",\"BERNALILLO NM\",\"JEFFERSON AL\"]"
   ]
  },
  {
   "cell_type": "code",
   "execution_count": 16,
   "metadata": {
    "collapsed": false
   },
   "outputs": [],
   "source": [
    "county_df_ = county_df.loc[county_df[\"county_state\"].isin(counties)]"
   ]
  },
  {
   "cell_type": "code",
   "execution_count": 19,
   "metadata": {
    "collapsed": false
   },
   "outputs": [],
   "source": [
    "county_df_.to_csv(\"~/real_estate/data/v9/zipcode.csv\",index=False)"
   ]
  },
  {
   "cell_type": "code",
   "execution_count": null,
   "metadata": {
    "collapsed": true
   },
   "outputs": [],
   "source": []
  }
 ],
 "metadata": {
  "kernelspec": {
   "display_name": "Python 3",
   "language": "python",
   "name": "python3"
  },
  "language_info": {
   "codemirror_mode": {
    "name": "ipython",
    "version": 3
   },
   "file_extension": ".py",
   "mimetype": "text/x-python",
   "name": "python",
   "nbconvert_exporter": "python",
   "pygments_lexer": "ipython3",
   "version": "3.5.4"
  }
 },
 "nbformat": 4,
 "nbformat_minor": 0
}
