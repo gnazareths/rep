{
 "cells": [
  {
   "cell_type": "code",
   "execution_count": 1,
   "metadata": {
    "collapsed": false
   },
   "outputs": [
    {
     "name": "stderr",
     "output_type": "stream",
     "text": [
      "Using TensorFlow backend.\n"
     ]
    }
   ],
   "source": [
    "import pandas as pd\n",
    "import numpy as np\n",
    "\n",
    "import matplotlib.pyplot as plt\n",
    "\n",
    "from keras.models import Sequential, load_model\n",
    "from keras.layers import Dense, Activation\n",
    "from sklearn.externals import joblib\n",
    "\n",
    "% matplotlib inline"
   ]
  },
  {
   "cell_type": "code",
   "execution_count": 2,
   "metadata": {
    "collapsed": true
   },
   "outputs": [],
   "source": [
    "train_df = pd.read_csv(\"~/real_estate/data/v14/train_df_adasyn.csv\")\n",
    "test_df = pd.read_csv(\"~/real_estate/data/v14/test_df.csv\")\n",
    "\n",
    "features = train_df.columns[:-1]\n",
    "\n",
    "X_train = train_df[features]\n",
    "X_test = test_df[features]\n",
    "y_train = train_df[\"target\"]\n",
    "y_test = test_df[\"target\"]"
   ]
  },
  {
   "cell_type": "code",
   "execution_count": 13,
   "metadata": {
    "collapsed": false
   },
   "outputs": [
    {
     "name": "stdout",
     "output_type": "stream",
     "text": [
      "Epoch 1/1\n",
      "59619/59619 [==============================] - 12s 200us/step - loss: 0.0018\n"
     ]
    },
    {
     "data": {
      "text/plain": [
       "<keras.callbacks.History at 0x7f8cc0b69780>"
      ]
     },
     "execution_count": 13,
     "metadata": {},
     "output_type": "execute_result"
    }
   ],
   "source": [
    "# compile DNN\n",
    "#model = Sequential()\n",
    "#model.add(Dense(units=100, activation='relu', input_dim=70))\n",
    "#model.add(Dense(units=50, activation='relu'))\n",
    "#model.add(Dense(units=1))\n",
    "#model.compile(loss='mean_squared_error', optimizer='adam')\n",
    "\n",
    "# Run DNN\n",
    "model.fit(X_train, y_train, epochs=1, batch_size=10)"
   ]
  },
  {
   "cell_type": "code",
   "execution_count": 14,
   "metadata": {
    "collapsed": false
   },
   "outputs": [
    {
     "name": "stdout",
     "output_type": "stream",
     "text": [
      "Mean test error:  0.054577553765342034\n",
      "Mean test value:  0.09927537036389422\n",
      "R^2 test:  0.3101942906532941\n",
      "---\n",
      "Mean train error:  0.032350967831572174\n",
      "Mean train value:  0.12571823666572557\n",
      "R^2 train:  0.952575550419639\n"
     ]
    }
   ],
   "source": [
    "# Get predictions and errors\n",
    "y_train_hat = model.predict(X_train).reshape(1, -1)\n",
    "y_test_hat = model.predict(X_test).reshape(1, -1)\n",
    "\n",
    "errors_train = abs(y_train_hat - y_train.values)\n",
    "\n",
    "errors_test = abs(y_test_hat - y_test.values)\n",
    "\n",
    "print(\"Mean test error: \", np.mean(errors_test))\n",
    "print(\"Mean test value: \", np.mean(y_test))\n",
    "print(\"R^2 test: \", np.square(np.corrcoef(y_test, y_test_hat)[0,1]))\n",
    "print('---')\n",
    "print(\"Mean train error: \", np.mean(errors_train))\n",
    "print(\"Mean train value: \", np.mean(y_train))\n",
    "print(\"R^2 train: \", np.square(np.corrcoef(y_train, y_train_hat)[0,1]))"
   ]
  },
  {
   "cell_type": "code",
   "execution_count": 5,
   "metadata": {
    "collapsed": true
   },
   "outputs": [],
   "source": [
    "#model.save(\"/home/gnazareths/real_estate/v14/models/dnn_adasyn_0214.h5\")"
   ]
  },
  {
   "cell_type": "code",
   "execution_count": 10,
   "metadata": {
    "collapsed": false
   },
   "outputs": [],
   "source": [
    "#model.save(\"/home/gnazareths/real_estate/v14/models/dnn_adasyn_0214_2.h5\")"
   ]
  },
  {
   "cell_type": "code",
   "execution_count": null,
   "metadata": {
    "collapsed": true
   },
   "outputs": [],
   "source": []
  }
 ],
 "metadata": {
  "kernelspec": {
   "display_name": "Python 3",
   "language": "python",
   "name": "python3"
  },
  "language_info": {
   "codemirror_mode": {
    "name": "ipython",
    "version": 3
   },
   "file_extension": ".py",
   "mimetype": "text/x-python",
   "name": "python",
   "nbconvert_exporter": "python",
   "pygments_lexer": "ipython3",
   "version": "3.5.4"
  }
 },
 "nbformat": 4,
 "nbformat_minor": 0
}
