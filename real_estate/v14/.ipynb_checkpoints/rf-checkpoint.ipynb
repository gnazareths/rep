{
 "cells": [
  {
   "cell_type": "code",
   "execution_count": 14,
   "metadata": {
    "collapsed": true
   },
   "outputs": [],
   "source": [
    "import pandas as pd\n",
    "import numpy as np\n",
    "import matplotlib.pyplot as plt\n",
    "\n",
    "from sklearn.ensemble import RandomForestRegressor\n",
    "from sklearn.externals import joblib\n",
    "\n",
    "%matplotlib inline\n",
    "np.random.seed(42)"
   ]
  },
  {
   "cell_type": "code",
   "execution_count": 15,
   "metadata": {
    "collapsed": true
   },
   "outputs": [],
   "source": [
    "train_df = pd.read_csv(\"~/real_estate/data/v14/train_df.csv\")\n",
    "test_df = pd.read_csv(\"~/real_estate/data/v14/test_df.csv\")\n",
    "\n",
    "features = train_df.columns[:-2]\n",
    "\n",
    "X_train = train_df[features]\n",
    "X_test = test_df[features]\n",
    "y_train = train_df[\"target\"]\n",
    "y_test = test_df[\"target\"]"
   ]
  },
  {
   "cell_type": "code",
   "execution_count": 16,
   "metadata": {
    "collapsed": true
   },
   "outputs": [],
   "source": [
    "rf = RandomForestRegressor(n_estimators=500, max_depth=3)"
   ]
  },
  {
   "cell_type": "code",
   "execution_count": 17,
   "metadata": {
    "collapsed": false
   },
   "outputs": [
    {
     "data": {
      "text/plain": [
       "RandomForestRegressor(bootstrap=True, criterion='mse', max_depth=3,\n",
       "           max_features='auto', max_leaf_nodes=None,\n",
       "           min_impurity_decrease=0.0, min_impurity_split=None,\n",
       "           min_samples_leaf=1, min_samples_split=2,\n",
       "           min_weight_fraction_leaf=0.0, n_estimators=500, n_jobs=None,\n",
       "           oob_score=False, random_state=None, verbose=0, warm_start=False)"
      ]
     },
     "execution_count": 17,
     "metadata": {},
     "output_type": "execute_result"
    }
   ],
   "source": [
    "rf.fit(X_train, y_train)"
   ]
  },
  {
   "cell_type": "code",
   "execution_count": 18,
   "metadata": {
    "collapsed": false
   },
   "outputs": [
    {
     "name": "stdout",
     "output_type": "stream",
     "text": [
      "R^2 train:  0.4182280150225608\n",
      "R^2 test:  0.2537948335884311\n"
     ]
    }
   ],
   "source": [
    "y_test_hat_1 = rf.predict(X_test)\n",
    "y_train_hat_1 = rf.predict(X_train)\n",
    "print(\"R^2 train: \", np.square(np.corrcoef(y_train, y_train_hat_1)[0,1]))\n",
    "print(\"R^2 test: \", np.square(np.corrcoef(y_test, y_test_hat_1)[0,1]))"
   ]
  },
  {
   "cell_type": "code",
   "execution_count": 19,
   "metadata": {
    "collapsed": false
   },
   "outputs": [
    {
     "data": {
      "text/plain": [
       "['/home/gnazareths/real_estate/v14/models/rf_0215.joblib']"
      ]
     },
     "execution_count": 19,
     "metadata": {},
     "output_type": "execute_result"
    }
   ],
   "source": [
    "joblib.dump(rf, '/home/gnazareths/real_estate/v14/models/rf_0215.joblib')"
   ]
  },
  {
   "cell_type": "code",
   "execution_count": 20,
   "metadata": {
    "collapsed": false
   },
   "outputs": [],
   "source": [
    "feature_importances = [(i,j) for i,j in zip(features,rf.feature_importances_)]"
   ]
  },
  {
   "cell_type": "code",
   "execution_count": 21,
   "metadata": {
    "collapsed": false
   },
   "outputs": [
    {
     "data": {
      "text/plain": [
       "[('year', 0.0),\n",
       " ('month', 0.0),\n",
       " ('90_day_treasury_bill_rate', 0.0),\n",
       " ('mean_mortgage_interest_hh_lag_log', 0.0),\n",
       " ('business_500_count_cbp_lag', 0.0),\n",
       " ('bar_count_cbp_lag', 0.0),\n",
       " ('mean_rating', 0.0),\n",
       " ('mean_fixed_mortgage_rate_mo', 0.0),\n",
       " ('zri_sqft_value_mo', 0.0),\n",
       " ('percent_increasing_mo', 0.0),\n",
       " ('90_day_treasury_bill_rate_mo', 0.0),\n",
       " ('total_nonfarm_payroll_mo', 0.0),\n",
       " ('mean_hourly_earnings_adj_mo', 0.0),\n",
       " ('mean_rating_mo', 0.0),\n",
       " ('review_count_mo', 0.0),\n",
       " ('restaurant_review_count_mo', 0.0),\n",
       " ('bar_review_count_mo', 0.0),\n",
       " ('price_2_review_count_mo', 0.0),\n",
       " ('median_county_hourly_earnings_adj_mo', 0.0),\n",
       " ('total_nonfarm_payroll_yr', 0.0),\n",
       " ('mean_hourly_earnings_adj_yr', 0.0),\n",
       " ('business_count_cbp_lag_yr', 0.0),\n",
       " ('employment_count_cbp_lag_yr', 0.0),\n",
       " ('restaurant_count_cbp_lag_yr', 0.0),\n",
       " ('business_500_count_cbp_lag_yr', 0.0),\n",
       " ('bar_count_cbp_lag_yr', 0.0),\n",
       " ('review_count_yr', 0.0),\n",
       " ('restaurant_review_count_yr', 0.0),\n",
       " ('bar_review_count_yr', 0.0),\n",
       " ('median_county_hourly_earnings_adj_yr', 0.0),\n",
       " ('mean_adjusted_income_lag_yr', 1.5604679106965617e-05),\n",
       " ('zhvi_condo_yr', 1.884029815387674e-05),\n",
       " ('price_3_review_count_yr', 2.2967366753037088e-05),\n",
       " ('price_3_review_count_mo', 3.34491064493145e-05),\n",
       " ('price_2_review_count_log', 3.5931332741261646e-05),\n",
       " ('people_count_lag_log', 5.0982273864443426e-05),\n",
       " ('zhvi_condo_mo', 5.14123758155515e-05),\n",
       " ('adult_count_lag_yr', 5.3541876245295365e-05),\n",
       " ('mean_rating_yr', 5.674891388033455e-05),\n",
       " ('90_day_treasury_bill_rate_yr', 5.779994364484796e-05),\n",
       " ('mean_real_estate_taxes_hh_lag_log', 5.914466772615613e-05),\n",
       " ('price_2_review_count_yr', 9.566578572184746e-05),\n",
       " ('people_count_lag_yr', 9.703313192442881e-05),\n",
       " ('zhvi_singlefam_log', 0.00010968453833938872),\n",
       " ('mean_adjusted_income_with_dep_lag_yr', 0.00011298364125672511),\n",
       " ('business_100_count_cbp_lag_yr', 0.0001184025441212306),\n",
       " ('median_county_zhvi_condo_yr', 0.0001271640942303644),\n",
       " ('price_3_review_count_log', 0.0001782230131833979),\n",
       " ('median_sqft_value_log', 0.00024204506357152798),\n",
       " ('zhvi_singlefam_yr', 0.0002522013985999322),\n",
       " ('zri_sqft_value_log', 0.00030589582460104325),\n",
       " ('bar_review_count_log', 0.00032609957971045477),\n",
       " ('mean_adjusted_income_lag_log', 0.0003716933139366638),\n",
       " ('zhvi_singlefam_mo', 0.0004261607907010297),\n",
       " ('restaurant_review_count_log', 0.000429098870369499),\n",
       " ('zri_sqft_value_yr', 0.0005441319935424167),\n",
       " ('percent_decreasing_mo', 0.0005570694021712648),\n",
       " ('business_count_cbp_lag_log', 0.0007541368382260295),\n",
       " ('median_county_sqft_value_log', 0.0007884705603960473),\n",
       " ('median_sqft_value_mo', 0.0010077728390213015),\n",
       " ('median_sqft_value_yr', 0.0012332588884129078),\n",
       " ('mean_adjusted_income_with_dep_lag_log', 0.0015291482210502856),\n",
       " ('mean_fixed_mortgage_rate_yr', 0.004542216699080369),\n",
       " ('percent_decreasing', 0.0068226691677550294),\n",
       " ('total_nonfarm_payroll', 0.008733746632044587),\n",
       " ('mean_fixed_mortgage_rate', 0.009251681247406057),\n",
       " ('median_county_hourly_earnings_adj', 0.011035322041722348),\n",
       " ('mean_hourly_earnings_adj', 0.011156528870618378),\n",
       " ('zhvi_condo_log', 0.011707385939131875),\n",
       " ('review_count_log', 0.012748994342738698),\n",
       " ('percent_decreasing_yr', 0.01655867055293097),\n",
       " ('median_county_sqft_value_yr', 0.016724623066236656),\n",
       " ('median_county_zhvi_condo_mo', 0.019803998366069976),\n",
       " ('median_county_sqft_value_mo', 0.023966104646048376),\n",
       " ('mean_mortgage_interest_hh_lag_yr', 0.03296140282469602),\n",
       " ('mean_real_estate_taxes_hh_lag_yr', 0.05461678370493018),\n",
       " ('median_county_zhvi_condo_log', 0.09673385982260103),\n",
       " ('percent_increasing', 0.16076071164278688),\n",
       " ('percent_increasing_yr', 0.4918125372657338)]"
      ]
     },
     "execution_count": 21,
     "metadata": {},
     "output_type": "execute_result"
    }
   ],
   "source": [
    "sorted(feature_importances, key=lambda tup: tup[1])"
   ]
  },
  {
   "cell_type": "code",
   "execution_count": null,
   "metadata": {
    "collapsed": true
   },
   "outputs": [],
   "source": []
  }
 ],
 "metadata": {
  "kernelspec": {
   "display_name": "Python 3",
   "language": "python",
   "name": "python3"
  },
  "language_info": {
   "codemirror_mode": {
    "name": "ipython",
    "version": 3
   },
   "file_extension": ".py",
   "mimetype": "text/x-python",
   "name": "python",
   "nbconvert_exporter": "python",
   "pygments_lexer": "ipython3",
   "version": "3.5.4"
  }
 },
 "nbformat": 4,
 "nbformat_minor": 0
}
