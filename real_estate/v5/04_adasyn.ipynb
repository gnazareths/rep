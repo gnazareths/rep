{
 "cells": [
  {
   "cell_type": "code",
   "execution_count": 2,
   "metadata": {
    "collapsed": true
   },
   "outputs": [],
   "source": [
    "import pandas as pd\n",
    "import numpy as np\n",
    "import matplotlib.pyplot as plt\n",
    "\n",
    "from sklearn.cluster import DBSCAN\n",
    "from imblearn.over_sampling import ADASYN\n",
    "\n",
    "% matplotlib inline"
   ]
  },
  {
   "cell_type": "code",
   "execution_count": 17,
   "metadata": {
    "collapsed": false
   },
   "outputs": [],
   "source": [
    "# Load data\n",
    "train_df = pd.read_csv(\"~/real_estate/data/v5/final/yelp/yelp_train_df.csv\")\n",
    "train_df = train_df.loc[train_df[\"target\"] != -5]\n",
    "\n",
    "smote_features = train_df.columns[:-1]"
   ]
  },
  {
   "cell_type": "code",
   "execution_count": 21,
   "metadata": {
    "collapsed": false
   },
   "outputs": [],
   "source": [
    "scaled_target = (train_df[\"target\"].values - min(train_df[\"target\"]))/(\n",
    "    max(train_df[\"target\"]) - min(train_df[\"target\"]))\n",
    "\n",
    "target_groups = []\n",
    "\n",
    "for i in scaled_target:\n",
    "    target = int(np.floor(i*30))\n",
    "    target_groups.append(target)"
   ]
  },
  {
   "cell_type": "code",
   "execution_count": 23,
   "metadata": {
    "collapsed": true
   },
   "outputs": [],
   "source": [
    "indices_first = [i for i, x in enumerate(target_groups) if x in [0,1]]\n",
    "indices_last = [i for i, x in enumerate(target_groups) if x in [27,28,29,30]]\n",
    "\n",
    "for i in indices_first:\n",
    "    target_groups[i] = 2\n",
    "for i in indices_last:\n",
    "    target_groups[i] = 26"
   ]
  },
  {
   "cell_type": "code",
   "execution_count": 24,
   "metadata": {
    "collapsed": false
   },
   "outputs": [],
   "source": [
    "adasyn = ADASYN(n_neighbors=5, ratio=\"minority\", random_state=42)\n",
    "X_res, y_res = adasyn.fit_resample(train_df[smote_features].values, target_groups)\n",
    "\n",
    "for i in range(21):\n",
    "    X_res, y_res = adasyn.fit_resample(X_res, y_res)\n",
    "    \n",
    "X_res = pd.DataFrame(X_res, columns=smote_features)"
   ]
  },
  {
   "cell_type": "code",
   "execution_count": 25,
   "metadata": {
    "collapsed": false
   },
   "outputs": [
    {
     "data": {
      "image/png": "[encoded data removed]",
      "text/plain": [
       "<Figure size 600x400 with 1 Axes>"
      ]
     },
     "metadata": {},
     "output_type": "display_data"
    }
   ],
   "source": [
    "plt.hist(train_df[\"target\"], bins=35)\n",
    "plt.show()"
   ]
  },
  {
   "cell_type": "code",
   "execution_count": 26,
   "metadata": {
    "collapsed": false
   },
   "outputs": [
    {
     "data": {
      "image/png": "[encoded data removed]",
      "text/plain": [
       "<Figure size 600x400 with 1 Axes>"
      ]
     },
     "metadata": {},
     "output_type": "display_data"
    }
   ],
   "source": [
    "plt.hist(X_res[\"target\"], bins=22)\n",
    "plt.show()"
   ]
  },
  {
   "cell_type": "code",
   "execution_count": 27,
   "metadata": {
    "collapsed": true
   },
   "outputs": [],
   "source": [
    "X_res.to_csv(\"~/real_estate/data/v5/final/yelp/yelp_train_df_adasyn.csv\", index=False)"
   ]
  }
 ],
 "metadata": {
  "kernelspec": {
   "display_name": "Python 3",
   "language": "python",
   "name": "python3"
  },
  "language_info": {
   "codemirror_mode": {
    "name": "ipython",
    "version": 3
   },
   "file_extension": ".py",
   "mimetype": "text/x-python",
   "name": "python",
   "nbconvert_exporter": "python",
   "pygments_lexer": "ipython3",
   "version": "3.5.4"
  }
 },
 "nbformat": 4,
 "nbformat_minor": 0
}
