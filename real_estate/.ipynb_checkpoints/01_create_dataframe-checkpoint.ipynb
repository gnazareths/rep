{
 "cells": [
  {
   "cell_type": "code",
   "execution_count": 1,
   "metadata": {
    "collapsed": true
   },
   "outputs": [],
   "source": [
    "import pandas as pd"
   ]
  },
  {
   "cell_type": "code",
   "execution_count": 2,
   "metadata": {
    "collapsed": false
   },
   "outputs": [],
   "source": [
    "dataframes = {\n",
    "    \"01\": pd.read_csv(\"~/real_estate/data/raw/Zip_MedianValuePerSqft_AllHomes.csv\", encoding='ISO-8859-1'),\n",
    "    \"02\": pd.read_csv(\"~/real_estate/data/raw/Zip_PctOfHomesDecreasingInValues_AllHomes.csv\", encoding='ISO-8859-1'),\n",
    "    \"03\": pd.read_csv(\"~/real_estate/data/raw/Zip_PctOfHomesIncreasingInValues_AllHomes.csv\", encoding='ISO-8859-1'),\n",
    "    \"04\": pd.read_csv(\"~/real_estate/data/raw/Zip_Zhvi_1bedroom.csv\", encoding='ISO-8859-1'),\n",
    "    \"05\": pd.read_csv(\"~/real_estate/data/raw/Zip_Zhvi_2bedroom.csv\", encoding='ISO-8859-1'),\n",
    "    \"06\": pd.read_csv(\"~/real_estate/data/raw/Zip_Zhvi_3bedroom.csv\", encoding='ISO-8859-1'),\n",
    "    \"07\": pd.read_csv(\"~/real_estate/data/raw/Zip_ZriPerSqft_AllHomes.csv\", encoding='ISO-8859-1'),\n",
    "    \"08\": pd.read_csv(\"~/real_estate/data/raw/Zip_Zhvi_Condominum.csv\", encoding='ISO-8859-1'),\n",
    "    \"09\": pd.read_csv(\"~/real_estate/data/raw/Zip_Zhvi_SingleFamilyResidence.csv\", encoding='ISO-8859-1'),\n",
    "    \"10\": pd.read_csv(\"~/real_estate/data/raw/fred_3monthtreasurybill.csv\"),\n",
    "    \"11\": pd.read_csv(\"~/real_estate/data/raw/fred_average_hourly_earnings_seasonally_adjusted.csv\"),\n",
    "    \"12\": pd.read_csv(\"~/real_estate/data/raw/fred_fixed_mortgage_rate.csv\"),\n",
    "    \"13\": pd.read_csv(\"~/real_estate/data/raw/fred_total_nonfarm_payroll.csv\")\n",
    "}"
   ]
  },
  {
   "cell_type": "code",
   "execution_count": 3,
   "metadata": {
    "collapsed": true
   },
   "outputs": [],
   "source": [
    "zillow_variables = {\n",
    "    \"01\": \"median_sqft_value\",\n",
    "    \"02\": \"percent_decreasing\",\n",
    "    \"03\": \"percent_increasing\",\n",
    "    \"04\": \"zhvi_1bed\",\n",
    "    \"05\": \"zhvi_2bed\",\n",
    "    \"06\": \"zhvi_3bed\",\n",
    "    \"07\": \"zhvi_sqft_value\",\n",
    "    \"08\": \"zhvi_condo\",\n",
    "    \"09\": \"zhvi_singlefam\"\n",
    "}\n",
    "\n",
    "fred_variables = {\n",
    "    \"10\": \"90_day_treasury_bill_rate\",\n",
    "    \"11\": \"mean_hourly_earnings_adj\",\n",
    "    \"12\": \"mean_fixed_mortgage_rate\",\n",
    "    \"13\": \"total_nonfarm_payroll\"\n",
    "}"
   ]
  },
  {
   "cell_type": "code",
   "execution_count": 4,
   "metadata": {
    "collapsed": false
   },
   "outputs": [],
   "source": [
    "dataframes_melt = {}\n",
    "\n",
    "for i in zillow_variables.keys():\n",
    "    \n",
    "    df_ = dataframes[i].drop([\"RegionID\",\"SizeRank\",\"City\",\"State\",\"Metro\",\"CountyName\",\"SizeRank\"],axis=1)\n",
    "    dataframes_melt[i] = pd.melt(df_, id_vars=[\"RegionName\"]).rename(columns={\"variable\":\"date\",\n",
    "                                                                                \"value\":zillow_variables[i]})\n",
    "\n",
    "for i in fred_variables.keys():\n",
    "    \n",
    "    varname = dataframes[i].columns[1]\n",
    "    df_ = dataframes[i].rename(columns={\"DATE\":\"date\",varname:fred_variables[i]})\n",
    "    df_[\"date\"] = [j[:7] for j in df_[\"date\"].values]\n",
    "    df_ = df_.groupby([\"date\"], as_index=False).agg('mean')\n",
    "    dataframes_melt[i] = df_"
   ]
  },
  {
   "cell_type": "code",
   "execution_count": 5,
   "metadata": {
    "collapsed": false
   },
   "outputs": [],
   "source": [
    "df_zillow = pd.merge(dataframes_melt[\"01\"], dataframes_melt[\"02\"], on=[\"RegionName\",\"date\"], how=\"outer\")\n",
    "for i in [\"03\",\"04\",\"05\",\"06\",\"07\",\"08\",\"09\"]:\n",
    "    df_zillow = pd.merge(df_zillow, dataframes_melt[i], on=[\"RegionName\",\"date\"], how=\"outer\")"
   ]
  },
  {
   "cell_type": "code",
   "execution_count": 6,
   "metadata": {
    "collapsed": false
   },
   "outputs": [],
   "source": [
    "df = pd.merge(df_zillow, dataframes_melt[\"10\"], on=[\"date\"], how=\"left\")\n",
    "for i in [\"11\",\"12\",\"13\"]:\n",
    "    df = pd.merge(df, dataframes_melt[i], on=[\"date\"], how=\"left\")"
   ]
  },
  {
   "cell_type": "code",
   "execution_count": 7,
   "metadata": {
    "collapsed": false
   },
   "outputs": [],
   "source": [
    "df = df.loc[df[\"date\"] > '2000']\n",
    "df = df.dropna()\n",
    "\n",
    "df[\"month\"] = [i[5:] for i in df[\"date\"].values]\n",
    "df[\"year\"] = [i[:4] for i in df[\"date\"].values]\n",
    "\n",
    "df = df.drop(\"date\", axis=1)\n",
    "df.index = range(len(df))"
   ]
  },
  {
   "cell_type": "code",
   "execution_count": 10,
   "metadata": {
    "collapsed": true
   },
   "outputs": [],
   "source": [
    "df.to_csv(\"~/real_estate/data/unsupervised_dfs/df_20181210.csv\",index=False)"
   ]
  }
 ],
 "metadata": {
  "kernelspec": {
   "display_name": "Python 3",
   "language": "python",
   "name": "python3"
  },
  "language_info": {
   "codemirror_mode": {
    "name": "ipython",
    "version": 3
   },
   "file_extension": ".py",
   "mimetype": "text/x-python",
   "name": "python",
   "nbconvert_exporter": "python",
   "pygments_lexer": "ipython3",
   "version": "3.5.4"
  }
 },
 "nbformat": 4,
 "nbformat_minor": 0
}
