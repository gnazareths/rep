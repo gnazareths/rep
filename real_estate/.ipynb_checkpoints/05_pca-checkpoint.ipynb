{
 "cells": [
  {
   "cell_type": "code",
   "execution_count": 15,
   "metadata": {
    "collapsed": false
   },
   "outputs": [],
   "source": [
    "import pandas as pd\n",
    "import numpy as np\n",
    "import seaborn as sns\n",
    "import matplotlib.pyplot as plt\n",
    "\n",
    "from imblearn.over_sampling import SMOTE, ADASYN\n",
    "from sklearn.decomposition import PCA\n",
    "from sklearn.externals import joblib\n",
    "\n",
    "%matplotlib inline\n",
    "np.random.seed(42)"
   ]
  },
  {
   "cell_type": "code",
   "execution_count": 6,
   "metadata": {
    "collapsed": true
   },
   "outputs": [],
   "source": [
    "# Load data\n",
    "train_df = pd.read_csv(\"~/real_estate/data/supervised_dfs/train_df.csv\")\n",
    "test_df = pd.read_csv(\"~/real_estate/data/supervised_dfs/test_df.csv\")\n",
    "\n",
    "features = train_df.columns[:-2]\n",
    "\n",
    "X_train = train_df[features]\n",
    "y_train = train_df[\"target\"]\n",
    "X_test = test_df[features]\n",
    "y_test = test_df[\"target\"]"
   ]
  },
  {
   "cell_type": "markdown",
   "metadata": {},
   "source": [
    "### PCA"
   ]
  },
  {
   "cell_type": "code",
   "execution_count": 9,
   "metadata": {
    "collapsed": false
   },
   "outputs": [
    {
     "name": "stdout",
     "output_type": "stream",
     "text": [
      "Total explained variance:  0.9723580960421312\n"
     ]
    }
   ],
   "source": [
    "# Fit PCA\n",
    "pca = PCA(n_components=20)\n",
    "pca.fit(X_train.values)\n",
    "print(\"Total explained variance: \", sum(pca.explained_variance_ratio_))"
   ]
  },
  {
   "cell_type": "code",
   "execution_count": 11,
   "metadata": {
    "collapsed": true
   },
   "outputs": [],
   "source": [
    "# Reduce dimensionality\n",
    "train_df_pca = pca.transform(X_train.values)\n",
    "train_df_pca = pd.DataFrame(train_df_pca)\n",
    "train_df_pca[\"target\"] = y_train.values\n",
    "\n",
    "test_df_pca = pca.transform(X_test.values)\n",
    "test_df_pca = pd.DataFrame(test_df_pca)\n",
    "test_df_pca[\"target\"] = y_test.values\n",
    "test_df_pca[\"RegionName\"] = test_df[\"RegionName\"].values"
   ]
  },
  {
   "cell_type": "code",
   "execution_count": 12,
   "metadata": {
    "collapsed": false
   },
   "outputs": [
    {
     "data": {
      "text/html": [
       "<div>\n",
       "<style scoped>\n",
       "    .dataframe tbody tr th:only-of-type {\n",
       "        vertical-align: middle;\n",
       "    }\n",
       "\n",
       "    .dataframe tbody tr th {\n",
       "        vertical-align: top;\n",
       "    }\n",
       "\n",
       "    .dataframe thead th {\n",
       "        text-align: right;\n",
       "    }\n",
       "</style>\n",
       "<table border=\"1\" class=\"dataframe\">\n",
       "  <thead>\n",
       "    <tr style=\"text-align: right;\">\n",
       "      <th></th>\n",
       "      <th>0</th>\n",
       "      <th>1</th>\n",
       "      <th>2</th>\n",
       "      <th>3</th>\n",
       "      <th>4</th>\n",
       "      <th>5</th>\n",
       "      <th>6</th>\n",
       "      <th>7</th>\n",
       "      <th>8</th>\n",
       "      <th>9</th>\n",
       "      <th>...</th>\n",
       "      <th>11</th>\n",
       "      <th>12</th>\n",
       "      <th>13</th>\n",
       "      <th>14</th>\n",
       "      <th>15</th>\n",
       "      <th>16</th>\n",
       "      <th>17</th>\n",
       "      <th>18</th>\n",
       "      <th>19</th>\n",
       "      <th>target</th>\n",
       "    </tr>\n",
       "  </thead>\n",
       "  <tbody>\n",
       "    <tr>\n",
       "      <th>0</th>\n",
       "      <td>1.053341</td>\n",
       "      <td>0.168760</td>\n",
       "      <td>-0.694155</td>\n",
       "      <td>0.483232</td>\n",
       "      <td>0.723046</td>\n",
       "      <td>0.442980</td>\n",
       "      <td>-0.076065</td>\n",
       "      <td>-0.065262</td>\n",
       "      <td>0.085768</td>\n",
       "      <td>-0.057930</td>\n",
       "      <td>...</td>\n",
       "      <td>-0.027939</td>\n",
       "      <td>-0.150362</td>\n",
       "      <td>0.048810</td>\n",
       "      <td>0.008362</td>\n",
       "      <td>-0.097810</td>\n",
       "      <td>0.178369</td>\n",
       "      <td>0.049891</td>\n",
       "      <td>-0.053790</td>\n",
       "      <td>-0.056670</td>\n",
       "      <td>0.029412</td>\n",
       "    </tr>\n",
       "    <tr>\n",
       "      <th>1</th>\n",
       "      <td>1.059905</td>\n",
       "      <td>0.121767</td>\n",
       "      <td>-0.519310</td>\n",
       "      <td>0.009912</td>\n",
       "      <td>0.516214</td>\n",
       "      <td>0.123516</td>\n",
       "      <td>-0.229145</td>\n",
       "      <td>-0.006321</td>\n",
       "      <td>0.079884</td>\n",
       "      <td>-0.054503</td>\n",
       "      <td>...</td>\n",
       "      <td>-0.009262</td>\n",
       "      <td>-0.086371</td>\n",
       "      <td>-0.067583</td>\n",
       "      <td>-0.043621</td>\n",
       "      <td>-0.134146</td>\n",
       "      <td>0.084398</td>\n",
       "      <td>0.165527</td>\n",
       "      <td>-0.002299</td>\n",
       "      <td>0.013450</td>\n",
       "      <td>0.038377</td>\n",
       "    </tr>\n",
       "    <tr>\n",
       "      <th>2</th>\n",
       "      <td>1.146398</td>\n",
       "      <td>-0.004254</td>\n",
       "      <td>-0.508459</td>\n",
       "      <td>0.306215</td>\n",
       "      <td>0.723323</td>\n",
       "      <td>0.483823</td>\n",
       "      <td>-0.054473</td>\n",
       "      <td>-0.113258</td>\n",
       "      <td>0.132147</td>\n",
       "      <td>-0.023382</td>\n",
       "      <td>...</td>\n",
       "      <td>-0.176188</td>\n",
       "      <td>-0.039192</td>\n",
       "      <td>-0.002552</td>\n",
       "      <td>0.094392</td>\n",
       "      <td>0.014893</td>\n",
       "      <td>0.204564</td>\n",
       "      <td>0.114278</td>\n",
       "      <td>-0.101138</td>\n",
       "      <td>-0.049786</td>\n",
       "      <td>0.002611</td>\n",
       "    </tr>\n",
       "    <tr>\n",
       "      <th>3</th>\n",
       "      <td>1.042201</td>\n",
       "      <td>0.165194</td>\n",
       "      <td>-0.470465</td>\n",
       "      <td>0.365697</td>\n",
       "      <td>0.684422</td>\n",
       "      <td>0.299196</td>\n",
       "      <td>-0.162731</td>\n",
       "      <td>0.028511</td>\n",
       "      <td>0.169432</td>\n",
       "      <td>0.073658</td>\n",
       "      <td>...</td>\n",
       "      <td>0.164082</td>\n",
       "      <td>-0.100171</td>\n",
       "      <td>-0.161797</td>\n",
       "      <td>-0.020688</td>\n",
       "      <td>-0.144555</td>\n",
       "      <td>0.194417</td>\n",
       "      <td>0.047782</td>\n",
       "      <td>-0.005752</td>\n",
       "      <td>0.064454</td>\n",
       "      <td>0.006562</td>\n",
       "    </tr>\n",
       "    <tr>\n",
       "      <th>4</th>\n",
       "      <td>1.138820</td>\n",
       "      <td>0.020594</td>\n",
       "      <td>-0.409824</td>\n",
       "      <td>0.408724</td>\n",
       "      <td>0.768427</td>\n",
       "      <td>0.493520</td>\n",
       "      <td>-0.066903</td>\n",
       "      <td>-0.025369</td>\n",
       "      <td>0.168024</td>\n",
       "      <td>0.052843</td>\n",
       "      <td>...</td>\n",
       "      <td>0.157402</td>\n",
       "      <td>-0.216737</td>\n",
       "      <td>-0.003585</td>\n",
       "      <td>0.034149</td>\n",
       "      <td>-0.111206</td>\n",
       "      <td>0.170985</td>\n",
       "      <td>0.047969</td>\n",
       "      <td>-0.107796</td>\n",
       "      <td>0.131701</td>\n",
       "      <td>0.070030</td>\n",
       "    </tr>\n",
       "  </tbody>\n",
       "</table>\n",
       "<p>5 rows × 21 columns</p>\n",
       "</div>"
      ],
      "text/plain": [
       "          0         1         2         3         4         5         6  \\\n",
       "0  1.053341  0.168760 -0.694155  0.483232  0.723046  0.442980 -0.076065   \n",
       "1  1.059905  0.121767 -0.519310  0.009912  0.516214  0.123516 -0.229145   \n",
       "2  1.146398 -0.004254 -0.508459  0.306215  0.723323  0.483823 -0.054473   \n",
       "3  1.042201  0.165194 -0.470465  0.365697  0.684422  0.299196 -0.162731   \n",
       "4  1.138820  0.020594 -0.409824  0.408724  0.768427  0.493520 -0.066903   \n",
       "\n",
       "          7         8         9    ...           11        12        13  \\\n",
       "0 -0.065262  0.085768 -0.057930    ...    -0.027939 -0.150362  0.048810   \n",
       "1 -0.006321  0.079884 -0.054503    ...    -0.009262 -0.086371 -0.067583   \n",
       "2 -0.113258  0.132147 -0.023382    ...    -0.176188 -0.039192 -0.002552   \n",
       "3  0.028511  0.169432  0.073658    ...     0.164082 -0.100171 -0.161797   \n",
       "4 -0.025369  0.168024  0.052843    ...     0.157402 -0.216737 -0.003585   \n",
       "\n",
       "         14        15        16        17        18        19    target  \n",
       "0  0.008362 -0.097810  0.178369  0.049891 -0.053790 -0.056670  0.029412  \n",
       "1 -0.043621 -0.134146  0.084398  0.165527 -0.002299  0.013450  0.038377  \n",
       "2  0.094392  0.014893  0.204564  0.114278 -0.101138 -0.049786  0.002611  \n",
       "3 -0.020688 -0.144555  0.194417  0.047782 -0.005752  0.064454  0.006562  \n",
       "4  0.034149 -0.111206  0.170985  0.047969 -0.107796  0.131701  0.070030  \n",
       "\n",
       "[5 rows x 21 columns]"
      ]
     },
     "execution_count": 12,
     "metadata": {},
     "output_type": "execute_result"
    }
   ],
   "source": [
    "train_df_pca.head()"
   ]
  },
  {
   "cell_type": "code",
   "execution_count": 17,
   "metadata": {
    "collapsed": false
   },
   "outputs": [
    {
     "data": {
      "text/plain": [
       "['../real_estate/data/supervised_dfs/pca.pkl']"
      ]
     },
     "execution_count": 17,
     "metadata": {},
     "output_type": "execute_result"
    }
   ],
   "source": [
    "train_df_pca.to_csv(\"~/real_estate/data/supervised_dfs/train_df_pca.csv\",\n",
    "                    index=False)\n",
    "test_df_pca.to_csv(\"~/real_estate/data/supervised_dfs/test_df_pca.csv\",\n",
    "                    index=False)\n",
    "joblib.dump(pca, \"../real_estate/data/supervised_dfs/pca.pkl\")"
   ]
  }
 ],
 "metadata": {
  "kernelspec": {
   "display_name": "Python 3",
   "language": "python",
   "name": "python3"
  },
  "language_info": {
   "codemirror_mode": {
    "name": "ipython",
    "version": 3
   },
   "file_extension": ".py",
   "mimetype": "text/x-python",
   "name": "python",
   "nbconvert_exporter": "python",
   "pygments_lexer": "ipython3",
   "version": "3.5.4"
  }
 },
 "nbformat": 4,
 "nbformat_minor": 0
}
