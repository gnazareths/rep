{
 "cells": [
  {
   "cell_type": "code",
   "execution_count": 1,
   "metadata": {
    "collapsed": true
   },
   "outputs": [],
   "source": [
    "import pandas as pd\n",
    "import matplotlib.pyplot as plt\n",
    "\n",
    "from helpers import *\n",
    "from sklearn.preprocessing import MinMaxScaler\n",
    "from sklearn.externals import joblib\n",
    "\n",
    "% matplotlib inline"
   ]
  },
  {
   "cell_type": "code",
   "execution_count": 2,
   "metadata": {
    "collapsed": true
   },
   "outputs": [],
   "source": [
    "# Import\n",
    "df = pd.read_csv(\"~/real_estate/data/supervised_dfs/df_20181210.csv\")"
   ]
  },
  {
   "cell_type": "code",
   "execution_count": 3,
   "metadata": {
    "collapsed": false
   },
   "outputs": [],
   "source": [
    "# Multiply variables\n",
    "columns_x100 = [\"zhvi_sqft_value\",\n",
    "                \"zhvi_sqft_value_mo\",\n",
    "                \"zhvi_sqft_value_yr\",\n",
    "                \"zhvi_sqft_value_12_months\"]\n",
    "\n",
    "for col in columns_x100:\n",
    "    df[col] = df[col].values * 1000"
   ]
  },
  {
   "cell_type": "code",
   "execution_count": 4,
   "metadata": {
    "collapsed": false
   },
   "outputs": [],
   "source": [
    "current_time_features = [\"median_sqft_value\",\"percent_decreasing\",\n",
    "    \"percent_increasing\",\"zhvi_1bed\",\"zhvi_2bed\",\"zhvi_3bed\",\n",
    "    \"zhvi_sqft_value\",\"zhvi_condo\",\"zhvi_singlefam\",\n",
    "    \"90_day_treasury_bill_rate\",\"mean_hourly_earnings_adj\", \n",
    "    \"mean_fixed_mortgage_rate\",\"total_nonfarm_payroll\"]\n",
    "\n",
    "target = \"zhvi_sqft_value_12_months\"\n",
    "\n",
    "for i in current_time_features:\n",
    "    mo = i+\"_mo\"\n",
    "    yr = i+\"_yr\"\n",
    "    change_mo = df[i]/df[mo] - 1\n",
    "    change_yr = df[i]/df[yr] - 1\n",
    "    df[mo] = change_mo\n",
    "    df[yr] = change_yr\n",
    "\n",
    "df[target] = df[target]/df[\"zhvi_sqft_value\"] - 1"
   ]
  },
  {
   "cell_type": "code",
   "execution_count": 5,
   "metadata": {
    "collapsed": true
   },
   "outputs": [],
   "source": [
    "log_columns = [\"median_sqft_value\",\"zhvi_1bed\",\"zhvi_2bed\",\"zhvi_3bed\",\"zhvi_sqft_value\",\n",
    "               \"zhvi_condo\",\"zhvi_singlefam\",\"percent_decreasing_mo\",\"percent_increasing_mo\",\n",
    "               \"percent_decreasing_yr\",\"percent_increasing_yr\"]\n",
    "\n",
    "for i in log_columns:\n",
    "    df[i] = log_with_zeros(df[i].values)\n",
    "    df = df.rename(columns={i:i+\"_log\"})"
   ]
  },
  {
   "cell_type": "code",
   "execution_count": 6,
   "metadata": {
    "collapsed": false
   },
   "outputs": [],
   "source": [
    "train_df = df.loc[df[\"year\"] < 2017]\n",
    "test_df = df.loc[df[\"year\"] == 2017]\n",
    "\n",
    "features = df.columns[1:-1]\n",
    "target = \"zhvi_sqft_value_12_months\""
   ]
  },
  {
   "cell_type": "code",
   "execution_count": 7,
   "metadata": {
    "collapsed": false
   },
   "outputs": [
    {
     "data": {
      "text/plain": [
       "MinMaxScaler(copy=True, feature_range=(0, 1))"
      ]
     },
     "execution_count": 7,
     "metadata": {},
     "output_type": "execute_result"
    }
   ],
   "source": [
    "scaler = MinMaxScaler()\n",
    "scaler.fit(train_df[features].values)"
   ]
  },
  {
   "cell_type": "code",
   "execution_count": 9,
   "metadata": {
    "collapsed": false
   },
   "outputs": [],
   "source": [
    "train_df_scaled = scaler.transform(train_df[features].values)\n",
    "train_df_scaled = pd.DataFrame(train_df_scaled, columns=features)\n",
    "train_df_scaled[\"target\"] = train_df[target].values\n",
    "train_df_scaled[\"RegionName\"] = train_df[\"RegionName\"].values\n",
    "\n",
    "test_df_scaled = scaler.transform(test_df[features].values)\n",
    "test_df_scaled = pd.DataFrame(test_df_scaled, columns=features)\n",
    "test_df_scaled[\"target\"] = test_df[target].values\n",
    "test_df_scaled[\"RegionName\"] = test_df[\"RegionName\"].values"
   ]
  },
  {
   "cell_type": "code",
   "execution_count": 10,
   "metadata": {
    "collapsed": true
   },
   "outputs": [],
   "source": [
    "train_df_scaled.to_csv(\"~/real_estate/data/supervised_dfs/train_df.csv\",index=False)\n",
    "test_df_scaled.to_csv(\"~/real_estate/data/supervised_dfs/test_df.csv\",index=False)"
   ]
  },
  {
   "cell_type": "code",
   "execution_count": 11,
   "metadata": {
    "collapsed": false
   },
   "outputs": [
    {
     "data": {
      "text/plain": [
       "['/home/gnazareths/real_estate/data/supervised_dfs/scaler.pkl']"
      ]
     },
     "execution_count": 11,
     "metadata": {},
     "output_type": "execute_result"
    }
   ],
   "source": [
    "joblib.dump(scaler, \"/home/gnazareths/real_estate/data/supervised_dfs/scaler.pkl\")"
   ]
  }
 ],
 "metadata": {
  "kernelspec": {
   "display_name": "Python 3",
   "language": "python",
   "name": "python3"
  },
  "language_info": {
   "codemirror_mode": {
    "name": "ipython",
    "version": 3
   },
   "file_extension": ".py",
   "mimetype": "text/x-python",
   "name": "python",
   "nbconvert_exporter": "python",
   "pygments_lexer": "ipython3",
   "version": "3.5.4"
  }
 },
 "nbformat": 4,
 "nbformat_minor": 0
}
