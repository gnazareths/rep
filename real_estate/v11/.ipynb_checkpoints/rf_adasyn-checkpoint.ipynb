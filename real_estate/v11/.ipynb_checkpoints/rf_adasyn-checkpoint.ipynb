{
 "cells": [
  {
   "cell_type": "code",
   "execution_count": 1,
   "metadata": {
    "collapsed": true
   },
   "outputs": [],
   "source": [
    "import pandas as pd\n",
    "import numpy as np\n",
    "import matplotlib.pyplot as plt\n",
    "\n",
    "from sklearn.ensemble import RandomForestRegressor\n",
    "from sklearn.externals import joblib\n",
    "\n",
    "%matplotlib inline\n",
    "np.random.seed(42)"
   ]
  },
  {
   "cell_type": "code",
   "execution_count": 2,
   "metadata": {
    "collapsed": true
   },
   "outputs": [],
   "source": [
    "train_df = pd.read_csv(\"~/real_estate/data/v11/train_df_adasyn.csv\")\n",
    "test_df = pd.read_csv(\"~/real_estate/data/v11/test_df.csv\")\n",
    "\n",
    "features = train_df.columns[:-2]\n",
    "\n",
    "X_train = train_df[features]\n",
    "X_test = test_df[features]\n",
    "y_train = train_df[\"target\"]\n",
    "y_test = test_df[\"target\"]"
   ]
  },
  {
   "cell_type": "code",
   "execution_count": 3,
   "metadata": {
    "collapsed": true
   },
   "outputs": [],
   "source": [
    "rf = RandomForestRegressor(n_estimators=500, max_depth=3)"
   ]
  },
  {
   "cell_type": "code",
   "execution_count": null,
   "metadata": {
    "collapsed": false
   },
   "outputs": [],
   "source": [
    "rf.fit(X_train, y_train)"
   ]
  },
  {
   "cell_type": "code",
   "execution_count": 9,
   "metadata": {
    "collapsed": false
   },
   "outputs": [
    {
     "name": "stdout",
     "output_type": "stream",
     "text": [
      "R^2 train:  0.26042198122426524\n",
      "R^2 test:  0.09426259586026765\n"
     ]
    }
   ],
   "source": [
    "y_test_hat_1 = rf.predict(X_test)\n",
    "y_train_hat_1 = rf.predict(X_train)\n",
    "print(\"R^2 train: \", np.square(np.corrcoef(y_train, y_train_hat_1)[0,1]))\n",
    "print(\"R^2 test: \", np.square(np.corrcoef(y_test, y_test_hat_1)[0,1]))"
   ]
  },
  {
   "cell_type": "code",
   "execution_count": null,
   "metadata": {
    "collapsed": true
   },
   "outputs": [],
   "source": [
    "##joblib.dump(svr, '/home/gnazareths/real_estate/v11/models/svr_adasyn_0215.joblib')"
   ]
  },
  {
   "cell_type": "code",
   "execution_count": 7,
   "metadata": {
    "collapsed": false
   },
   "outputs": [],
   "source": [
    "feature_importances = [(i,j) for i,j in zip(features,rf.feature_importances_)]"
   ]
  },
  {
   "cell_type": "code",
   "execution_count": 8,
   "metadata": {
    "collapsed": false
   },
   "outputs": [
    {
     "data": {
      "text/plain": [
       "[('month', 0.0),\n",
       " ('90_day_treasury_bill_rate', 0.0),\n",
       " ('mean_adjusted_income_lag_log', 0.0),\n",
       " ('mean_fixed_mortgage_rate', 0.0),\n",
       " ('mean_mortgage_interest_hh_lag_log', 0.0),\n",
       " ('median_sqft_value_log', 0.0),\n",
       " ('people_count_lag_log', 0.0),\n",
       " ('zhvi_condo_log', 0.0),\n",
       " ('zhvi_singlefam_log', 0.0),\n",
       " ('zri_sqft_value_log', 0.0),\n",
       " ('business_count_cbp_lag_log', 0.0),\n",
       " ('business_500_count_cbp_lag', 0.0),\n",
       " ('bar_count_cbp_lag', 0.0),\n",
       " ('mean_county_zhvi_condo_log', 0.0),\n",
       " ('median_county_zhvi_condo_log', 0.0),\n",
       " ('mean_county_sqft_value_log', 0.0),\n",
       " ('median_county_sqft_value_log', 0.0),\n",
       " ('mean_fixed_mortgage_rate_mo', 0.0),\n",
       " ('zhvi_singlefam_mo', 0.0),\n",
       " ('zri_sqft_value_mo', 0.0),\n",
       " ('percent_increasing_mo', 0.0),\n",
       " ('90_day_treasury_bill_rate_mo', 0.0),\n",
       " ('total_nonfarm_payroll_mo', 0.0),\n",
       " ('mean_hourly_earnings_adj_mo', 0.0),\n",
       " ('median_sqft_value_mo', 0.0),\n",
       " ('percent_increasing_yr', 0.0),\n",
       " ('adult_count_lag_yr', 0.0),\n",
       " ('mean_fixed_mortgage_rate_yr', 0.0),\n",
       " ('mean_adjusted_income_lag_yr', 0.0),\n",
       " ('zhvi_singlefam_yr', 0.0),\n",
       " ('zri_sqft_value_yr', 0.0),\n",
       " ('zhvi_condo_yr', 0.0),\n",
       " ('mean_mortgage_interest_hh_lag_yr', 0.0),\n",
       " ('total_nonfarm_payroll_yr', 0.0),\n",
       " ('people_count_lag_yr', 0.0),\n",
       " ('mean_hourly_earnings_adj_yr', 0.0),\n",
       " ('90_day_treasury_bill_rate_yr', 0.0),\n",
       " ('mean_real_estate_taxes_hh_lag_yr', 0.0),\n",
       " ('mean_adjusted_income_with_dep_lag_yr', 0.0),\n",
       " ('business_count_cbp_lag_yr', 0.0),\n",
       " ('employment_count_cbp_lag_yr', 0.0),\n",
       " ('business_100_count_cbp_lag_yr', 0.0),\n",
       " ('restaurant_count_cbp_lag_yr', 0.0),\n",
       " ('business_500_count_cbp_lag_yr', 0.0),\n",
       " ('bar_count_cbp_lag_yr', 0.0),\n",
       " ('mean_county_sqft_value_yr', 0.0),\n",
       " ('median_county_sqft_value_yr', 0.0),\n",
       " ('mean_county_hourly_earnings_adj_mo', 0.0),\n",
       " ('median_county_hourly_earnings_adj_mo', 0.0),\n",
       " ('mean_county_hourly_earnings_adj_yr', 0.0),\n",
       " ('median_county_hourly_earnings_adj_yr', 0.0),\n",
       " ('percent_decreasing', 3.4719813521452044e-05),\n",
       " ('median_county_zhvi_condo_yr', 4.160266144168095e-05),\n",
       " ('year', 0.00010938572121942932),\n",
       " ('percent_decreasing_mo', 0.00011926115777477992),\n",
       " ('mean_adjusted_income_with_dep_lag_log', 0.0001581889087583538),\n",
       " ('mean_county_zhvi_condo_yr', 0.0001583471531164671),\n",
       " ('percent_increasing', 0.0008312984435588966),\n",
       " ('mean_real_estate_taxes_hh_lag_log', 0.002830814400469327),\n",
       " ('median_sqft_value_yr', 0.005300939221934068),\n",
       " ('mean_county_zhvi_condo_mo', 0.01578079268014528),\n",
       " ('percent_decreasing_yr', 0.016353518804822182),\n",
       " ('zhvi_condo_mo', 0.048154416878247466),\n",
       " ('mean_hourly_earnings_adj', 0.05284949477451164),\n",
       " ('mean_county_hourly_earnings_adj', 0.053714053446691855),\n",
       " ('total_nonfarm_payroll', 0.08461519814196082),\n",
       " ('median_county_sqft_value_mo', 0.0860798918016096),\n",
       " ('median_county_zhvi_condo_mo', 0.18511445006612548),\n",
       " ('mean_county_sqft_value_mo', 0.4477536259240909)]"
      ]
     },
     "execution_count": 8,
     "metadata": {},
     "output_type": "execute_result"
    }
   ],
   "source": [
    "sorted(feature_importances, key=lambda tup: tup[1])"
   ]
  },
  {
   "cell_type": "code",
   "execution_count": null,
   "metadata": {
    "collapsed": true
   },
   "outputs": [],
   "source": []
  }
 ],
 "metadata": {
  "kernelspec": {
   "display_name": "Python 3",
   "language": "python",
   "name": "python3"
  },
  "language_info": {
   "codemirror_mode": {
    "name": "ipython",
    "version": 3
   },
   "file_extension": ".py",
   "mimetype": "text/x-python",
   "name": "python",
   "nbconvert_exporter": "python",
   "pygments_lexer": "ipython3",
   "version": "3.5.4"
  }
 },
 "nbformat": 4,
 "nbformat_minor": 0
}
