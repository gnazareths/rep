{
 "cells": [
  {
   "cell_type": "code",
   "execution_count": 13,
   "metadata": {
    "collapsed": true
   },
   "outputs": [],
   "source": [
    "import pandas as pd\n",
    "import numpy as np\n",
    "import matplotlib.pyplot as plt\n",
    "\n",
    "from sklearn.ensemble import RandomForestRegressor\n",
    "\n",
    "%matplotlib inline\n",
    "np.random.seed(42)"
   ]
  },
  {
   "cell_type": "code",
   "execution_count": 14,
   "metadata": {
    "collapsed": true
   },
   "outputs": [],
   "source": [
    "train_df = pd.read_csv(\"~/real_estate/data/v11/train_df.csv\")\n",
    "test_df = pd.read_csv(\"~/real_estate/data/v11/test_df.csv\")\n",
    "\n",
    "features = train_df.columns[:-2]\n",
    "\n",
    "X_train = train_df[features]\n",
    "X_test = test_df[features]\n",
    "y_train = train_df[\"target\"]\n",
    "y_test = test_df[\"target\"]"
   ]
  },
  {
   "cell_type": "code",
   "execution_count": 15,
   "metadata": {
    "collapsed": true
   },
   "outputs": [],
   "source": [
    "rf = RandomForestRegressor(n_estimators=500, max_depth=4)"
   ]
  },
  {
   "cell_type": "code",
   "execution_count": 16,
   "metadata": {
    "collapsed": false
   },
   "outputs": [
    {
     "data": {
      "text/plain": [
       "RandomForestRegressor(bootstrap=True, criterion='mse', max_depth=4,\n",
       "           max_features='auto', max_leaf_nodes=None,\n",
       "           min_impurity_decrease=0.0, min_impurity_split=None,\n",
       "           min_samples_leaf=1, min_samples_split=2,\n",
       "           min_weight_fraction_leaf=0.0, n_estimators=500, n_jobs=None,\n",
       "           oob_score=False, random_state=None, verbose=0, warm_start=False)"
      ]
     },
     "execution_count": 16,
     "metadata": {},
     "output_type": "execute_result"
    }
   ],
   "source": [
    "rf.fit(X_train, y_train)"
   ]
  },
  {
   "cell_type": "code",
   "execution_count": null,
   "metadata": {
    "collapsed": true
   },
   "outputs": [],
   "source": []
  },
  {
   "cell_type": "code",
   "execution_count": 17,
   "metadata": {
    "collapsed": false
   },
   "outputs": [],
   "source": [
    "feature_importances = [(i,j) for i,j in zip(features,rf.feature_importances_)]"
   ]
  },
  {
   "cell_type": "code",
   "execution_count": 18,
   "metadata": {
    "collapsed": false
   },
   "outputs": [
    {
     "data": {
      "text/plain": [
       "[('year', 0.0),\n",
       " ('month', 0.0),\n",
       " ('mean_mortgage_interest_hh_lag_log', 0.0),\n",
       " ('zhvi_singlefam_log', 0.0),\n",
       " ('business_count_cbp_lag_log', 0.0),\n",
       " ('business_500_count_cbp_lag', 0.0),\n",
       " ('bar_count_cbp_lag', 0.0),\n",
       " ('mean_fixed_mortgage_rate_mo', 0.0),\n",
       " ('zhvi_singlefam_mo', 0.0),\n",
       " ('zri_sqft_value_mo', 0.0),\n",
       " ('percent_increasing_mo', 0.0),\n",
       " ('90_day_treasury_bill_rate_mo', 0.0),\n",
       " ('total_nonfarm_payroll_mo', 0.0),\n",
       " ('mean_hourly_earnings_adj_mo', 0.0),\n",
       " ('median_sqft_value_mo', 0.0),\n",
       " ('adult_count_lag_yr', 0.0),\n",
       " ('mean_adjusted_income_lag_yr', 0.0),\n",
       " ('mean_mortgage_interest_hh_lag_yr', 0.0),\n",
       " ('total_nonfarm_payroll_yr', 0.0),\n",
       " ('people_count_lag_yr', 0.0),\n",
       " ('mean_hourly_earnings_adj_yr', 0.0),\n",
       " ('mean_real_estate_taxes_hh_lag_yr', 0.0),\n",
       " ('mean_adjusted_income_with_dep_lag_yr', 0.0),\n",
       " ('business_count_cbp_lag_yr', 0.0),\n",
       " ('employment_count_cbp_lag_yr', 0.0),\n",
       " ('business_100_count_cbp_lag_yr', 0.0),\n",
       " ('restaurant_count_cbp_lag_yr', 0.0),\n",
       " ('business_500_count_cbp_lag_yr', 0.0),\n",
       " ('bar_count_cbp_lag_yr', 0.0),\n",
       " ('mean_county_hourly_earnings_adj_mo', 0.0),\n",
       " ('median_county_hourly_earnings_adj_mo', 0.0),\n",
       " ('mean_county_hourly_earnings_adj_yr', 0.0),\n",
       " ('median_county_hourly_earnings_adj_yr', 0.0),\n",
       " ('zri_sqft_value_log', 7.1543119276332715e-06),\n",
       " ('90_day_treasury_bill_rate_yr', 1.558998843508371e-05),\n",
       " ('zhvi_singlefam_yr', 2.871290608349883e-05),\n",
       " ('mean_fixed_mortgage_rate_yr', 3.403430790559046e-05),\n",
       " ('mean_county_zhvi_condo_log', 6.789585490392788e-05),\n",
       " ('median_sqft_value_log', 7.840122447769306e-05),\n",
       " ('median_county_zhvi_condo_yr', 8.689304986210741e-05),\n",
       " ('median_county_sqft_value_yr', 0.0001209328150813173),\n",
       " ('percent_decreasing', 0.00013252315830022114),\n",
       " ('mean_adjusted_income_lag_log', 0.000149245857257397),\n",
       " ('zhvi_condo_yr', 0.0001549014271896427),\n",
       " ('mean_fixed_mortgage_rate', 0.00021048223029593812),\n",
       " ('median_county_zhvi_condo_log', 0.00022150954957785322),\n",
       " ('mean_county_sqft_value_log', 0.00025980353671141773),\n",
       " ('90_day_treasury_bill_rate', 0.0004048207665518121),\n",
       " ('percent_decreasing_mo', 0.0006602958780391298),\n",
       " ('mean_county_sqft_value_yr', 0.0007803516451289213),\n",
       " ('mean_county_zhvi_condo_yr', 0.0008353739493895268),\n",
       " ('mean_adjusted_income_with_dep_lag_log', 0.0011569634096792942),\n",
       " ('zri_sqft_value_yr', 0.002307462770154084),\n",
       " ('percent_increasing', 0.00247528519857678),\n",
       " ('mean_real_estate_taxes_hh_lag_log', 0.002746475094763285),\n",
       " ('percent_increasing_yr', 0.0030008139003033173),\n",
       " ('median_county_sqft_value_log', 0.004991088934708427),\n",
       " ('people_count_lag_log', 0.007044585781507104),\n",
       " ('zhvi_condo_log', 0.008638935803057747),\n",
       " ('percent_decreasing_yr', 0.015083064910654604),\n",
       " ('mean_county_zhvi_condo_mo', 0.016201667092055227),\n",
       " ('zhvi_condo_mo', 0.04300582159074718),\n",
       " ('mean_hourly_earnings_adj', 0.04435355419271927),\n",
       " ('mean_county_hourly_earnings_adj', 0.047175465736303726),\n",
       " ('median_sqft_value_yr', 0.07697676499733387),\n",
       " ('total_nonfarm_payroll', 0.07961700746292694),\n",
       " ('median_county_sqft_value_mo', 0.08347865653766878),\n",
       " ('median_county_zhvi_condo_mo', 0.16038364654060078),\n",
       " ('mean_county_sqft_value_mo', 0.39711381758912123)]"
      ]
     },
     "execution_count": 18,
     "metadata": {},
     "output_type": "execute_result"
    }
   ],
   "source": [
    "sorted(feature_importances, key=lambda tup: tup[1])"
   ]
  },
  {
   "cell_type": "code",
   "execution_count": null,
   "metadata": {
    "collapsed": true
   },
   "outputs": [],
   "source": []
  }
 ],
 "metadata": {
  "kernelspec": {
   "display_name": "Python 3",
   "language": "python",
   "name": "python3"
  },
  "language_info": {
   "codemirror_mode": {
    "name": "ipython",
    "version": 3
   },
   "file_extension": ".py",
   "mimetype": "text/x-python",
   "name": "python",
   "nbconvert_exporter": "python",
   "pygments_lexer": "ipython3",
   "version": "3.5.4"
  }
 },
 "nbformat": 4,
 "nbformat_minor": 0
}
