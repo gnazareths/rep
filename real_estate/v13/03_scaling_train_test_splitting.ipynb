{
 "cells": [
  {
   "cell_type": "code",
   "execution_count": 5,
   "metadata": {
    "collapsed": false
   },
   "outputs": [],
   "source": [
    "import pandas as pd\n",
    "import matplotlib.pyplot as plt\n",
    "\n",
    "from helpers import *\n",
    "from sklearn.preprocessing import MinMaxScaler, StandardScaler\n",
    "from sklearn.externals import joblib\n",
    "from sklearn.model_selection import train_test_split\n",
    "\n",
    "% matplotlib inline"
   ]
  },
  {
   "cell_type": "code",
   "execution_count": 6,
   "metadata": {
    "collapsed": false
   },
   "outputs": [],
   "source": [
    "# Import\n",
    "df = pd.read_csv(\"~/real_estate/data/v9/supervised_df.csv\")\n",
    "postal_code_df = pd.read_csv(\"~/real_estate/data/v9/zipcode.csv\")"
   ]
  },
  {
   "cell_type": "code",
   "execution_count": 8,
   "metadata": {
    "collapsed": false
   },
   "outputs": [],
   "source": [
    "year_features = [\n",
    "    \"90_day_treasury_bill_rate\", \"adult_count_lag\",\n",
    "    \"mean_adjusted_income_lag\", \"mean_adjusted_income_with_dep_lag\", \"mean_fixed_mortgage_rate\",\n",
    "    \"mean_hourly_earnings_adj\", \"mean_mortgage_interest_hh_lag\", \"mean_real_estate_taxes_hh_lag\",\n",
    "    \"median_sqft_value\", \"people_count_lag\", \"business_count_cbp_lag\",\"employment_count_cbp_lag\",\n",
    "    \"business_100_count_cbp_lag\", \"business_500_count_cbp_lag\",\"restaurant_count_cbp_lag\",\n",
    "    \"bar_count_cbp_lag\",\"percent_decreasing\", \"percent_increasing\", \n",
    "    \"total_nonfarm_payroll\", \"zhvi_singlefam\", \"zri_sqft_value\", \"zhvi_condo\"\n",
    "]\n",
    "\n",
    "month_features = [\n",
    "    \"90_day_treasury_bill_rate\", \"mean_fixed_mortgage_rate\",\"mean_hourly_earnings_adj\", \"median_sqft_value\", \n",
    "    \"percent_decreasing\", \"percent_increasing\", \"total_nonfarm_payroll\", \"zhvi_singlefam\", \"zri_sqft_value\", \n",
    "    \"zhvi_condo\"\n",
    "]\n",
    "\n",
    "target = \"zhvi_condo_12_months\""
   ]
  },
  {
   "cell_type": "code",
   "execution_count": 9,
   "metadata": {
    "collapsed": false
   },
   "outputs": [
    {
     "name": "stdout",
     "output_type": "stream",
     "text": [
      "(247170, 71) (144788, 71)\n"
     ]
    }
   ],
   "source": [
    "print(df.shape, df.dropna().shape)\n",
    "df = df.dropna()"
   ]
  },
  {
   "cell_type": "code",
   "execution_count": 10,
   "metadata": {
    "collapsed": false
   },
   "outputs": [],
   "source": [
    "for i in year_features:\n",
    "    yr = i+\"_yr\"\n",
    "    change_yr = (df[i] + 0.1)/(df[yr] + 0.1) - 1\n",
    "    df[yr] = change_yr\n",
    "    \n",
    "for i in month_features:\n",
    "    mo = i+\"_mo\"\n",
    "    change_mo = (df[i] + 0.1)/(df[mo] + 0.1) - 1\n",
    "    df[mo] = change_mo\n",
    "\n",
    "df[target] = df[target]/df[\"zhvi_condo\"] - 1"
   ]
  },
  {
   "cell_type": "code",
   "execution_count": 6,
   "metadata": {
    "collapsed": false
   },
   "outputs": [],
   "source": [
    "# Add county\n",
    "df = pd.merge(df, postal_code_df[[\"postal_code\",\"county\"]], on=[\"postal_code\"], how=\"left\")\n",
    "\n",
    "# Merge\n",
    "df_median = df[[\"county\",\"state\",\"year\",\"month\",\n",
    "                \"zhvi_condo\",\"zhvi_condo_yr\",\"zhvi_condo_mo\",\n",
    "                \"median_sqft_value\",\"median_sqft_value_mo\",\"median_sqft_value_yr\",\n",
    "                \"mean_hourly_earnings_adj\",\"mean_hourly_earnings_adj_mo\",\"mean_hourly_earnings_adj_yr\"]].groupby(\n",
    "    by=[\"county\",\"state\",\"year\",\"month\"], as_index=False).agg('median')\n",
    "df_median = df_median.rename(columns={\"zhvi_condo_yr\":\"median_county_zhvi_condo_yr\",\n",
    "                                      \"zhvi_condo_mo\":\"median_county_zhvi_condo_mo\",\n",
    "                                      \"zhvi_condo\":\"median_county_zhvi_condo\",\n",
    "                                      \"median_sqft_value\":\"median_county_sqft_value\",\n",
    "                                      \"median_sqft_value_mo\":\"median_county_sqft_value_mo\",\n",
    "                                      \"median_sqft_value_yr\":\"median_county_sqft_value_yr\",\n",
    "                                      \"mean_hourly_earnings_adj\":\"median_county_hourly_earnings_adj\",\n",
    "                                      \"mean_hourly_earnings_adj_mo\":\"median_county_hourly_earnings_adj_mo\",\n",
    "                                      \"mean_hourly_earnings_adj_yr\":\"median_county_hourly_earnings_adj_yr\"})\n",
    "\n",
    "df_mean = df[[\"county\",\"state\",\"year\",\"month\",\n",
    "                \"zhvi_condo\",\"zhvi_condo_yr\",\"zhvi_condo_mo\",\n",
    "                \"median_sqft_value\",\"median_sqft_value_mo\",\"median_sqft_value_yr\",\n",
    "                \"mean_hourly_earnings_adj\",\"mean_hourly_earnings_adj_mo\",\"mean_hourly_earnings_adj_yr\"]].groupby(\n",
    "    by=[\"county\",\"state\",\"year\",\"month\"], as_index=False).agg('mean')\n",
    "df_mean = df_mean.rename(columns={\"zhvi_condo_yr\":\"mean_county_zhvi_condo_yr\",\n",
    "                                      \"zhvi_condo_mo\":\"mean_county_zhvi_condo_mo\",\n",
    "                                      \"zhvi_condo\":\"mean_county_zhvi_condo\",\n",
    "                                      \"median_sqft_value\":\"mean_county_sqft_value\",\n",
    "                                      \"median_sqft_value_mo\":\"mean_county_sqft_value_mo\",\n",
    "                                      \"median_sqft_value_yr\":\"mean_county_sqft_value_yr\",\n",
    "                                      \"mean_hourly_earnings_adj\":\"mean_county_hourly_earnings_adj\",\n",
    "                                      \"mean_hourly_earnings_adj_mo\":\"mean_county_hourly_earnings_adj_mo\",\n",
    "                                      \"mean_hourly_earnings_adj_yr\":\"mean_county_hourly_earnings_adj_yr\"})\n",
    "\n",
    "df = pd.merge(df, df_median, on=[\"county\",\"state\",\"year\",\"month\"], how=\"left\")\n",
    "df = pd.merge(df, df_mean, on=[\"county\",\"state\",\"year\",\"month\"], how=\"left\")"
   ]
  },
  {
   "cell_type": "code",
   "execution_count": 7,
   "metadata": {
    "collapsed": false
   },
   "outputs": [],
   "source": [
    "log_columns = [\"median_sqft_value\",\"zri_sqft_value\",\"zhvi_condo\",\"zhvi_singlefam\",\"people_count_lag\",\n",
    "               \"adult_count_lag\",\"mean_adjusted_income_lag\",\"mean_adjusted_income_with_dep_lag\",\n",
    "               \"mean_real_estate_taxes_hh_lag\",\"mean_mortgage_interest_hh_lag\",\"business_count_cbp_lag\",\n",
    "               \"business_100_count_cbp_lag\",\"restaurant_count_cbp_lag\",\"employment_count_cbp_lag\",\n",
    "               \"median_county_zhvi_condo\",\"mean_county_zhvi_condo\",\"mean_county_sqft_value\",\n",
    "               \"median_county_sqft_value\"]\n",
    "\n",
    "bound_columns = [\"business_100_count_cbp_lag_yr\",\"business_count_cbp_lag_yr\",\"business_500_count_cbp_lag_yr\",\n",
    "                 \"restaurant_count_cbp_lag_yr\",\"bar_count_cbp_lag_yr\",\"employment_count_cbp_lag_yr\"]\n",
    "\n",
    "for i in log_columns:\n",
    "    df[i] = log_with_zeros(df[i].values)\n",
    "    df = df.rename(columns={i:i+\"_log\"})\n",
    "    \n",
    "for i in bound_columns:\n",
    "    df[i] = [i if i < 5 else 5 for i in df[i].values]"
   ]
  },
  {
   "cell_type": "code",
   "execution_count": 8,
   "metadata": {
    "collapsed": false
   },
   "outputs": [],
   "source": [
    "columns = ['postal_code',\n",
    "           'zhvi_condo_12_months',\n",
    "           'year',\n",
    "           'month',\n",
    "           '90_day_treasury_bill_rate',\n",
    "           'mean_adjusted_income_lag_log', \n",
    "           'mean_adjusted_income_with_dep_lag_log', \n",
    "           'mean_fixed_mortgage_rate', \n",
    "           'mean_hourly_earnings_adj', \n",
    "           'mean_mortgage_interest_hh_lag_log',\n",
    "           'mean_real_estate_taxes_hh_lag_log', \n",
    "           'median_sqft_value_log', \n",
    "           'people_count_lag_log', \n",
    "           'percent_decreasing', \n",
    "           'percent_increasing', \n",
    "           'total_nonfarm_payroll', \n",
    "           'zhvi_condo_log', \n",
    "           'zhvi_singlefam_log', \n",
    "           'zri_sqft_value_log',\n",
    "           'business_count_cbp_lag_log',\n",
    "           'business_500_count_cbp_lag',\n",
    "           'bar_count_cbp_lag',\n",
    "           'mean_county_zhvi_condo_log',\n",
    "           'median_county_zhvi_condo_log',\n",
    "           'mean_county_sqft_value_log',\n",
    "           'median_county_sqft_value_log',\n",
    "           'mean_county_hourly_earnings_adj',\n",
    "           'mean_fixed_mortgage_rate_mo', \n",
    "           'percent_decreasing_mo', \n",
    "           'zhvi_singlefam_mo', \n",
    "           'zri_sqft_value_mo', \n",
    "           'percent_increasing_mo', \n",
    "           '90_day_treasury_bill_rate_mo', \n",
    "           'total_nonfarm_payroll_mo', \n",
    "           'mean_hourly_earnings_adj_mo', \n",
    "           'zhvi_condo_mo', \n",
    "           'median_sqft_value_mo', \n",
    "           'percent_decreasing_yr', \n",
    "           'percent_increasing_yr', \n",
    "           'adult_count_lag_yr', \n",
    "           'mean_fixed_mortgage_rate_yr', \n",
    "           'mean_adjusted_income_lag_yr', \n",
    "           'zhvi_singlefam_yr', \n",
    "           'zri_sqft_value_yr', \n",
    "           'zhvi_condo_yr', \n",
    "           'mean_mortgage_interest_hh_lag_yr', \n",
    "           'total_nonfarm_payroll_yr', \n",
    "           'people_count_lag_yr', \n",
    "           'mean_hourly_earnings_adj_yr', \n",
    "           'median_sqft_value_yr', \n",
    "           '90_day_treasury_bill_rate_yr', \n",
    "           'mean_real_estate_taxes_hh_lag_yr', \n",
    "           'mean_adjusted_income_with_dep_lag_yr',\n",
    "           'business_count_cbp_lag_yr',\n",
    "           'employment_count_cbp_lag_yr',\n",
    "           'business_100_count_cbp_lag_yr',\n",
    "           'restaurant_count_cbp_lag_yr',\n",
    "           'business_500_count_cbp_lag_yr',\n",
    "           'bar_count_cbp_lag_yr',\n",
    "           'mean_county_zhvi_condo_yr',\n",
    "           'mean_county_zhvi_condo_mo',\n",
    "           'median_county_zhvi_condo_yr',\n",
    "           'median_county_zhvi_condo_mo',\n",
    "           'mean_county_sqft_value_mo',\n",
    "           'median_county_sqft_value_mo',\n",
    "           'mean_county_sqft_value_yr',\n",
    "           'median_county_sqft_value_yr',\n",
    "           'mean_county_hourly_earnings_adj_mo',\n",
    "           'median_county_hourly_earnings_adj_mo',\n",
    "           'mean_county_hourly_earnings_adj_yr',\n",
    "           'median_county_hourly_earnings_adj_yr'\n",
    "           ]\n",
    "\n",
    "df = df[columns]"
   ]
  },
  {
   "cell_type": "code",
   "execution_count": 10,
   "metadata": {
    "collapsed": true
   },
   "outputs": [],
   "source": [
    "train_df = df.loc[df[\"year\"] < 2017]\n",
    "test_df = df.loc[df[\"year\"] == 2017]\n",
    "\n",
    "features = df.columns[2:]\n",
    "target = \"zhvi_condo_12_months\""
   ]
  },
  {
   "cell_type": "code",
   "execution_count": 11,
   "metadata": {
    "collapsed": false
   },
   "outputs": [],
   "source": [
    "# MinMax scale df\n",
    "scaler = MinMaxScaler()\n",
    "scaler.fit(train_df[features].values)\n",
    "\n",
    "train_df_scaled = scaler.transform(train_df[features].values)\n",
    "train_df_scaled = pd.DataFrame(train_df_scaled, columns=features)\n",
    "train_df_scaled[\"target\"] = train_df[target].values\n",
    "train_df_scaled[\"postal_code\"] = train_df[\"postal_code\"].values\n",
    "\n",
    "test_df_scaled = scaler.transform(test_df[features].values)\n",
    "test_df_scaled = pd.DataFrame(test_df_scaled, columns=features)\n",
    "test_df_scaled[\"target\"] = test_df[target].values\n",
    "test_df_scaled[\"postal_code\"] = test_df[\"postal_code\"].values"
   ]
  },
  {
   "cell_type": "code",
   "execution_count": 12,
   "metadata": {
    "collapsed": false
   },
   "outputs": [
    {
     "data": {
      "text/plain": [
       "['/home/gnazareths/real_estate/data/v11/scaler.pkl']"
      ]
     },
     "execution_count": 12,
     "metadata": {},
     "output_type": "execute_result"
    }
   ],
   "source": [
    "# Export\n",
    "train_df_scaled.to_csv(\"~/real_estate/data/v11/train_df.csv\",index=False)\n",
    "test_df_scaled.to_csv(\"~/real_estate/data/v11/test_df.csv\",index=False)\n",
    "joblib.dump(scaler, \"/home/gnazareths/real_estate/data/v11/scaler.pkl\")"
   ]
  }
 ],
 "metadata": {
  "kernelspec": {
   "display_name": "Python 3",
   "language": "python",
   "name": "python3"
  },
  "language_info": {
   "codemirror_mode": {
    "name": "ipython",
    "version": 3
   },
   "file_extension": ".py",
   "mimetype": "text/x-python",
   "name": "python",
   "nbconvert_exporter": "python",
   "pygments_lexer": "ipython3",
   "version": "3.5.4"
  }
 },
 "nbformat": 4,
 "nbformat_minor": 0
}
