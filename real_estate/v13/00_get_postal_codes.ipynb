{
 "cells": [
  {
   "cell_type": "code",
   "execution_count": 2,
   "metadata": {
    "collapsed": true
   },
   "outputs": [],
   "source": [
    "import pandas as pd"
   ]
  },
  {
   "cell_type": "code",
   "execution_count": 3,
   "metadata": {
    "collapsed": false
   },
   "outputs": [],
   "source": [
    "df = pd.read_table(\"~/real_estate/data/raw/cbp/zbp10totals.txt\",sep=\",\")"
   ]
  },
  {
   "cell_type": "code",
   "execution_count": 4,
   "metadata": {
    "collapsed": false
   },
   "outputs": [],
   "source": [
    "county_df = df[[\"zip\",\"cty_name\",\"stabbr\"]]\n",
    "county_df = county_df.rename(columns={\"zip\":\"postal_code\",\n",
    "                                      \"cty_name\":\"county\",\n",
    "                                      \"stabbr\":\"state\"})\n",
    "county_df[\"county_state\"] = [str(i)+\" \"+str(j)for i,j in zip(df[\"cty_name\"].values, df[\"stabbr\"].values)]"
   ]
  },
  {
   "cell_type": "code",
   "execution_count": 5,
   "metadata": {
    "collapsed": false
   },
   "outputs": [],
   "source": [
    "county_df.to_csv(\"~/real_estate/data/v13/zipcode.csv\",index=False)"
   ]
  },
  {
   "cell_type": "code",
   "execution_count": 6,
   "metadata": {
    "collapsed": false
   },
   "outputs": [
    {
     "data": {
      "text/html": [
       "<div>\n",
       "<style scoped>\n",
       "    .dataframe tbody tr th:only-of-type {\n",
       "        vertical-align: middle;\n",
       "    }\n",
       "\n",
       "    .dataframe tbody tr th {\n",
       "        vertical-align: top;\n",
       "    }\n",
       "\n",
       "    .dataframe thead th {\n",
       "        text-align: right;\n",
       "    }\n",
       "</style>\n",
       "<table border=\"1\" class=\"dataframe\">\n",
       "  <thead>\n",
       "    <tr style=\"text-align: right;\">\n",
       "      <th></th>\n",
       "      <th>postal_code</th>\n",
       "      <th>county</th>\n",
       "      <th>state</th>\n",
       "      <th>county_state</th>\n",
       "    </tr>\n",
       "  </thead>\n",
       "  <tbody>\n",
       "    <tr>\n",
       "      <th>0</th>\n",
       "      <td>501</td>\n",
       "      <td>SUFFOLK</td>\n",
       "      <td>NY</td>\n",
       "      <td>SUFFOLK NY</td>\n",
       "    </tr>\n",
       "    <tr>\n",
       "      <th>1</th>\n",
       "      <td>1001</td>\n",
       "      <td>HAMPDEN</td>\n",
       "      <td>MA</td>\n",
       "      <td>HAMPDEN MA</td>\n",
       "    </tr>\n",
       "    <tr>\n",
       "      <th>2</th>\n",
       "      <td>1002</td>\n",
       "      <td>HAMPSHIRE</td>\n",
       "      <td>MA</td>\n",
       "      <td>HAMPSHIRE MA</td>\n",
       "    </tr>\n",
       "    <tr>\n",
       "      <th>3</th>\n",
       "      <td>1003</td>\n",
       "      <td>HAMPSHIRE</td>\n",
       "      <td>MA</td>\n",
       "      <td>HAMPSHIRE MA</td>\n",
       "    </tr>\n",
       "    <tr>\n",
       "      <th>4</th>\n",
       "      <td>1004</td>\n",
       "      <td>HAMPSHIRE</td>\n",
       "      <td>MA</td>\n",
       "      <td>HAMPSHIRE MA</td>\n",
       "    </tr>\n",
       "  </tbody>\n",
       "</table>\n",
       "</div>"
      ],
      "text/plain": [
       "   postal_code     county state  county_state\n",
       "0          501    SUFFOLK    NY    SUFFOLK NY\n",
       "1         1001    HAMPDEN    MA    HAMPDEN MA\n",
       "2         1002  HAMPSHIRE    MA  HAMPSHIRE MA\n",
       "3         1003  HAMPSHIRE    MA  HAMPSHIRE MA\n",
       "4         1004  HAMPSHIRE    MA  HAMPSHIRE MA"
      ]
     },
     "execution_count": 6,
     "metadata": {},
     "output_type": "execute_result"
    }
   ],
   "source": [
    "county_df.head()"
   ]
  }
 ],
 "metadata": {
  "kernelspec": {
   "display_name": "Python 3",
   "language": "python",
   "name": "python3"
  },
  "language_info": {
   "codemirror_mode": {
    "name": "ipython",
    "version": 3
   },
   "file_extension": ".py",
   "mimetype": "text/x-python",
   "name": "python",
   "nbconvert_exporter": "python",
   "pygments_lexer": "ipython3",
   "version": "3.5.4"
  }
 },
 "nbformat": 4,
 "nbformat_minor": 0
}
