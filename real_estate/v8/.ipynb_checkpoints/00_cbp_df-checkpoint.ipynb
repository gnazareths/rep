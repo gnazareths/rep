{
 "cells": [
  {
   "cell_type": "code",
   "execution_count": 1,
   "metadata": {
    "collapsed": true
   },
   "outputs": [],
   "source": [
    "import pandas as pd"
   ]
  },
  {
   "cell_type": "code",
   "execution_count": 2,
   "metadata": {
    "collapsed": true
   },
   "outputs": [],
   "source": [
    "detail_dfs = {\n",
    "    \"2009\": \"Zbp09detail.txt\",\n",
    "    \"2010\": \"zbp10detail.txt\",\n",
    "    \"2011\": \"zbp11detail.txt\",\n",
    "    \"2012\": \"zbp12detail.txt\",\n",
    "    \"2013\": \"zbp13detail.txt\",\n",
    "    \"2014\": \"zbp14detail.txt\",\n",
    "    \"2015\": \"zbp15detail.txt\",\n",
    "    \"2016\": \"zbp16detail.txt\"\n",
    "}\n",
    "\n",
    "total_dfs = {\n",
    "    \"2009\": \"zbp09totals.txt\",\n",
    "    \"2010\": \"zbp10totals.txt\",\n",
    "    \"2011\": \"zbp11totals.txt\",\n",
    "    \"2012\": \"zbp12totals.txt\",\n",
    "    \"2013\": \"zbp13totals.txt\",\n",
    "    \"2014\": \"zbp14totals.txt\",\n",
    "    '2015': \"zbp15totals.txt\",\n",
    "    \"2016\": \"zbp16totals.txt\"\n",
    "}"
   ]
  },
  {
   "cell_type": "code",
   "execution_count": 3,
   "metadata": {
    "collapsed": false
   },
   "outputs": [],
   "source": [
    "for i in detail_dfs.keys():\n",
    "    filename = detail_dfs[i]\n",
    "    detail_dfs[i] = pd.read_table(\"~/real_estate/data/raw/cbp/\"+filename, sep=\",\")\n",
    "    detail_dfs[i][\"year\"] = int(i)"
   ]
  },
  {
   "cell_type": "code",
   "execution_count": 4,
   "metadata": {
    "collapsed": false
   },
   "outputs": [],
   "source": [
    "for i in total_dfs.keys():\n",
    "    filename = total_dfs[i]\n",
    "    total_dfs[i] = pd.read_table(\"~/real_estate/data/raw/cbp/\"+filename, sep=\",\")\n",
    "    total_dfs[i][\"year\"] = int(i)"
   ]
  },
  {
   "cell_type": "code",
   "execution_count": 8,
   "metadata": {
    "collapsed": true
   },
   "outputs": [],
   "source": [
    "dfs = []"
   ]
  },
  {
   "cell_type": "code",
   "execution_count": 9,
   "metadata": {
    "collapsed": false
   },
   "outputs": [
    {
     "name": "stderr",
     "output_type": "stream",
     "text": [
      "/home/gnazareths/.local/lib/python3.5/site-packages/pandas/core/indexing.py:362: SettingWithCopyWarning: \n",
      "A value is trying to be set on a copy of a slice from a DataFrame.\n",
      "Try using .loc[row_indexer,col_indexer] = value instead\n",
      "\n",
      "See the caveats in the documentation: http://pandas.pydata.org/pandas-docs/stable/indexing.html#indexing-view-versus-copy\n",
      "  self.obj[key] = _infer_fill_value(value)\n",
      "/home/gnazareths/.local/lib/python3.5/site-packages/pandas/core/indexing.py:543: SettingWithCopyWarning: \n",
      "A value is trying to be set on a copy of a slice from a DataFrame.\n",
      "Try using .loc[row_indexer,col_indexer] = value instead\n",
      "\n",
      "See the caveats in the documentation: http://pandas.pydata.org/pandas-docs/stable/indexing.html#indexing-view-versus-copy\n",
      "  self.obj[item] = s\n"
     ]
    }
   ],
   "source": [
    "for i in detail_dfs.keys():\n",
    "    \n",
    "    df_detail = detail_dfs[i]\n",
    "    df_total = total_dfs[i]\n",
    "    \n",
    "    # Filter\n",
    "    df_general = df_detail.loc[df_detail[\"naics\"] == \"------\"]\n",
    "    df_restaurants = df_detail.loc[df_detail[\"naics\"] == \"7225//\"]\n",
    "    df_bars = df_detail.loc[df_detail[\"naics\"] == \"7224//\"]\n",
    "    \n",
    "    # Rename stuff\n",
    "    df_restaurants = df_restaurants.rename(columns={\"est\":\"restaurant_count\"})\n",
    "    df_bars = df_bars.rename(columns={\"est\":\"bar_count\"})\n",
    "    \n",
    "    # Create vars\n",
    "    biz_100_249 = df_general[\"n100_249\"].values\n",
    "    biz_250_499 = df_general[\"n250_499\"].values\n",
    "    biz_500_999 = df_general[\"n500_999\"].values\n",
    "    biz_1000 = df_general[\"n1000\"].values\n",
    "    \n",
    "    # Add columns\n",
    "    df_general.loc[:,\"business_100+\"] = biz_100_249 + biz_250_499 + biz_500_999 + biz_1000\n",
    "    df_general.loc[:,\"business_500+\"] = biz_500_999 + biz_1000\n",
    "    \n",
    "    # Merge\n",
    "    df_ = pd.merge(df_total[[\"zip\",\"est\",\"emp\",\"year\"]], df_general[[\"zip\",\"business_100+\",\"business_500+\"]], on=\"zip\", how=\"left\")\n",
    "    df_ = pd.merge(df_, df_restaurants[[\"zip\",\"restaurant_count\"]], on=\"zip\", how=\"left\")\n",
    "    df_ = pd.merge(df_, df_bars[[\"zip\",\"bar_count\"]], on=\"zip\", how=\"left\")\n",
    "    \n",
    "    dfs.append(df_)"
   ]
  },
  {
   "cell_type": "code",
   "execution_count": 11,
   "metadata": {
    "collapsed": false
   },
   "outputs": [],
   "source": [
    "df = pd.concat(dfs, axis=0)"
   ]
  },
  {
   "cell_type": "code",
   "execution_count": 14,
   "metadata": {
    "collapsed": true
   },
   "outputs": [],
   "source": [
    "df[\"year\"] = df[\"year\"].values + 1\n",
    "df = df.rename(columns={\"est\":\"business_count_cbp_lag\",\n",
    "                        \"emp\":\"employment_count_cbp_lag\",\n",
    "                        \"business_100+\":\"business_100_count_cbp_lag\",\n",
    "                        \"business_500+\":\"business_500_count_cbp_lag\",\n",
    "                        \"restaurant_count\":\"restaurant_count_cbp_lag\",\n",
    "                        \"bar_count\":\"bar_count_cbp_lag\",\n",
    "                        \"zip\":\"postal_code\"})"
   ]
  },
  {
   "cell_type": "code",
   "execution_count": 16,
   "metadata": {
    "collapsed": true
   },
   "outputs": [],
   "source": [
    "df = df.fillna(value=0)"
   ]
  },
  {
   "cell_type": "code",
   "execution_count": 20,
   "metadata": {
    "collapsed": false
   },
   "outputs": [
    {
     "data": {
      "text/html": [
       "<div>\n",
       "<style scoped>\n",
       "    .dataframe tbody tr th:only-of-type {\n",
       "        vertical-align: middle;\n",
       "    }\n",
       "\n",
       "    .dataframe tbody tr th {\n",
       "        vertical-align: top;\n",
       "    }\n",
       "\n",
       "    .dataframe thead th {\n",
       "        text-align: right;\n",
       "    }\n",
       "</style>\n",
       "<table border=\"1\" class=\"dataframe\">\n",
       "  <thead>\n",
       "    <tr style=\"text-align: right;\">\n",
       "      <th></th>\n",
       "      <th>postal_code</th>\n",
       "      <th>business_count_cbp_lag</th>\n",
       "      <th>employment_count_cbp_lag</th>\n",
       "      <th>year</th>\n",
       "      <th>business_100_count_cbp_lag</th>\n",
       "      <th>business_500_count_cbp_lag</th>\n",
       "      <th>restaurant_count_cbp_lag</th>\n",
       "      <th>bar_count_cbp_lag</th>\n",
       "    </tr>\n",
       "  </thead>\n",
       "  <tbody>\n",
       "    <tr>\n",
       "      <th>0</th>\n",
       "      <td>501</td>\n",
       "      <td>2</td>\n",
       "      <td>0</td>\n",
       "      <td>2014</td>\n",
       "      <td>0</td>\n",
       "      <td>0</td>\n",
       "      <td>0.0</td>\n",
       "      <td>0.0</td>\n",
       "    </tr>\n",
       "    <tr>\n",
       "      <th>1</th>\n",
       "      <td>1001</td>\n",
       "      <td>439</td>\n",
       "      <td>9418</td>\n",
       "      <td>2014</td>\n",
       "      <td>17</td>\n",
       "      <td>1</td>\n",
       "      <td>36.0</td>\n",
       "      <td>5.0</td>\n",
       "    </tr>\n",
       "    <tr>\n",
       "      <th>2</th>\n",
       "      <td>1002</td>\n",
       "      <td>572</td>\n",
       "      <td>17263</td>\n",
       "      <td>2014</td>\n",
       "      <td>8</td>\n",
       "      <td>2</td>\n",
       "      <td>57.0</td>\n",
       "      <td>4.0</td>\n",
       "    </tr>\n",
       "    <tr>\n",
       "      <th>3</th>\n",
       "      <td>1003</td>\n",
       "      <td>15</td>\n",
       "      <td>184</td>\n",
       "      <td>2014</td>\n",
       "      <td>0</td>\n",
       "      <td>0</td>\n",
       "      <td>0.0</td>\n",
       "      <td>0.0</td>\n",
       "    </tr>\n",
       "    <tr>\n",
       "      <th>4</th>\n",
       "      <td>1004</td>\n",
       "      <td>16</td>\n",
       "      <td>179</td>\n",
       "      <td>2014</td>\n",
       "      <td>1</td>\n",
       "      <td>0</td>\n",
       "      <td>3.0</td>\n",
       "      <td>0.0</td>\n",
       "    </tr>\n",
       "  </tbody>\n",
       "</table>\n",
       "</div>"
      ],
      "text/plain": [
       "   postal_code  business_count_cbp_lag  employment_count_cbp_lag  year  \\\n",
       "0          501                       2                         0  2014   \n",
       "1         1001                     439                      9418  2014   \n",
       "2         1002                     572                     17263  2014   \n",
       "3         1003                      15                       184  2014   \n",
       "4         1004                      16                       179  2014   \n",
       "\n",
       "   business_100_count_cbp_lag  business_500_count_cbp_lag  \\\n",
       "0                           0                           0   \n",
       "1                          17                           1   \n",
       "2                           8                           2   \n",
       "3                           0                           0   \n",
       "4                           1                           0   \n",
       "\n",
       "   restaurant_count_cbp_lag  bar_count_cbp_lag  \n",
       "0                       0.0                0.0  \n",
       "1                      36.0                5.0  \n",
       "2                      57.0                4.0  \n",
       "3                       0.0                0.0  \n",
       "4                       3.0                0.0  "
      ]
     },
     "execution_count": 20,
     "metadata": {},
     "output_type": "execute_result"
    }
   ],
   "source": [
    "df.head()"
   ]
  },
  {
   "cell_type": "code",
   "execution_count": 21,
   "metadata": {
    "collapsed": true
   },
   "outputs": [],
   "source": [
    "df.to_csv(\"~/real_estate/data/v9/cbp_zipcode_df.csv\", index=False)"
   ]
  },
  {
   "cell_type": "code",
   "execution_count": null,
   "metadata": {
    "collapsed": true
   },
   "outputs": [],
   "source": []
  }
 ],
 "metadata": {
  "kernelspec": {
   "display_name": "Python 3",
   "language": "python",
   "name": "python3"
  },
  "language_info": {
   "codemirror_mode": {
    "name": "ipython",
    "version": 3
   },
   "file_extension": ".py",
   "mimetype": "text/x-python",
   "name": "python",
   "nbconvert_exporter": "python",
   "pygments_lexer": "ipython3",
   "version": "3.5.4"
  }
 },
 "nbformat": 4,
 "nbformat_minor": 0
}
